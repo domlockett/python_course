{
 "cells": [
  {
   "cell_type": "markdown",
   "metadata": {},
   "source": [
    "# Activity 4.1: Analyzing data\n",
    "- This assignment will closely reflect the lecture, except in this instance we will look at cardiovascular prices in the four cities previously analyzed.\n",
    "\n",
    "- During and/or (necessarily) after you have finished this activity be sure to commit and push using GitHub Desktop.\n",
    "\n",
    "- Feel free to look back on the lecture/slides and use search engines for help.\n",
    "\n",
    "- **If you have any questions over the course of this activity, please post them to the 'Day 4 Lecture Questions' assignment on the Canvas course page.**"
   ]
  },
  {
   "cell_type": "markdown",
   "metadata": {},
   "source": [
    "## 1. Load the `cardio.csv`  and the appropriate modules.\n",
    "- Name your main data `cardio`."
   ]
  },
  {
   "cell_type": "code",
   "execution_count": 22,
   "metadata": {},
   "outputs": [],
   "source": [
    "import pandas as pd\n",
    "import seaborn as sns\n",
    "cardio = pd.read_csv('cardio.csv')\n"
   ]
  },
  {
   "cell_type": "markdown",
   "metadata": {},
   "source": [
    "## 2. Remove 'bad' data.\n",
    "- Remove instances where the price is 0 \n",
    "- Be sure to overwrite your `cardio` object.\n",
    "- Display your updated dataframe."
   ]
  },
  {
   "cell_type": "code",
   "execution_count": 23,
   "metadata": {},
   "outputs": [
    {
     "data": {
      "text/html": [
       "<div>\n",
       "<style scoped>\n",
       "    .dataframe tbody tr th:only-of-type {\n",
       "        vertical-align: middle;\n",
       "    }\n",
       "\n",
       "    .dataframe tbody tr th {\n",
       "        vertical-align: top;\n",
       "    }\n",
       "\n",
       "    .dataframe thead th {\n",
       "        text-align: right;\n",
       "    }\n",
       "</style>\n",
       "<table border=\"1\" class=\"dataframe\">\n",
       "  <thead>\n",
       "    <tr style=\"text-align: right;\">\n",
       "      <th></th>\n",
       "      <th>price</th>\n",
       "      <th>facility</th>\n",
       "      <th>address</th>\n",
       "      <th>condition</th>\n",
       "      <th>zip</th>\n",
       "      <th>radius</th>\n",
       "      <th>city</th>\n",
       "    </tr>\n",
       "  </thead>\n",
       "  <tbody>\n",
       "    <tr>\n",
       "      <th>0</th>\n",
       "      <td>90.0</td>\n",
       "      <td>Advanced Cardiology LLC</td>\n",
       "      <td>117 Seber Rd., Ste. 1B, Hackettstown NJ</td>\n",
       "      <td>cardiovascular</td>\n",
       "      <td>10001</td>\n",
       "      <td>50</td>\n",
       "      <td>New York</td>\n",
       "    </tr>\n",
       "    <tr>\n",
       "      <th>1</th>\n",
       "      <td>110.0</td>\n",
       "      <td>Lenox Hill Radiology</td>\n",
       "      <td>80-02 Kew Gardens Rd., Ste. L1, Kew Gardens NY</td>\n",
       "      <td>cardiovascular</td>\n",
       "      <td>10001</td>\n",
       "      <td>50</td>\n",
       "      <td>New York</td>\n",
       "    </tr>\n",
       "    <tr>\n",
       "      <th>2</th>\n",
       "      <td>150.0</td>\n",
       "      <td>Staten Island Heart</td>\n",
       "      <td>501 Seaview Ave., Ste. 300, Staten Island NY</td>\n",
       "      <td>cardiovascular</td>\n",
       "      <td>10001</td>\n",
       "      <td>50</td>\n",
       "      <td>New York</td>\n",
       "    </tr>\n",
       "    <tr>\n",
       "      <th>3</th>\n",
       "      <td>150.0</td>\n",
       "      <td>Mt. Sinai Riverside Medical Group</td>\n",
       "      <td>1010 N. Broadway, Yonkers NY</td>\n",
       "      <td>cardiovascular</td>\n",
       "      <td>10001</td>\n",
       "      <td>50</td>\n",
       "      <td>New York</td>\n",
       "    </tr>\n",
       "    <tr>\n",
       "      <th>4</th>\n",
       "      <td>150.0</td>\n",
       "      <td>Mt. Sinai Riverside Medical Group</td>\n",
       "      <td>1010 N. Broadway, Yonkers NY</td>\n",
       "      <td>cardiovascular</td>\n",
       "      <td>10001</td>\n",
       "      <td>50</td>\n",
       "      <td>New York</td>\n",
       "    </tr>\n",
       "    <tr>\n",
       "      <th>...</th>\n",
       "      <td>...</td>\n",
       "      <td>...</td>\n",
       "      <td>...</td>\n",
       "      <td>...</td>\n",
       "      <td>...</td>\n",
       "      <td>...</td>\n",
       "      <td>...</td>\n",
       "    </tr>\n",
       "    <tr>\n",
       "      <th>101</th>\n",
       "      <td>7106.0</td>\n",
       "      <td>Baylor University Medical Center</td>\n",
       "      <td>3500 Gaston Ave., Dallas TX</td>\n",
       "      <td>cardiovascular</td>\n",
       "      <td>75001</td>\n",
       "      <td>50</td>\n",
       "      <td>Dallas</td>\n",
       "    </tr>\n",
       "    <tr>\n",
       "      <th>102</th>\n",
       "      <td>7106.0</td>\n",
       "      <td>Baylor Scott and White Lake Pointe</td>\n",
       "      <td>6800 Scenic Dr., Lake Pointe TX</td>\n",
       "      <td>cardiovascular</td>\n",
       "      <td>75001</td>\n",
       "      <td>50</td>\n",
       "      <td>Dallas</td>\n",
       "    </tr>\n",
       "    <tr>\n",
       "      <th>103</th>\n",
       "      <td>8217.0</td>\n",
       "      <td>Baylor Scott and White All Saints</td>\n",
       "      <td>1400 8th Ave., Fort Worth TX</td>\n",
       "      <td>cardiovascular</td>\n",
       "      <td>75001</td>\n",
       "      <td>50</td>\n",
       "      <td>Dallas</td>\n",
       "    </tr>\n",
       "    <tr>\n",
       "      <th>104</th>\n",
       "      <td>12530.0</td>\n",
       "      <td>Baylor Scott and White Waxahachie</td>\n",
       "      <td>2400 N. I-35E, Waxahachie TX</td>\n",
       "      <td>cardiovascular</td>\n",
       "      <td>75001</td>\n",
       "      <td>50</td>\n",
       "      <td>Dallas</td>\n",
       "    </tr>\n",
       "    <tr>\n",
       "      <th>105</th>\n",
       "      <td>13224.0</td>\n",
       "      <td>Texas Health Presbyterian Rockwall</td>\n",
       "      <td>3150 Horizon Rd., Rockwall TX</td>\n",
       "      <td>cardiovascular</td>\n",
       "      <td>75001</td>\n",
       "      <td>50</td>\n",
       "      <td>Dallas</td>\n",
       "    </tr>\n",
       "  </tbody>\n",
       "</table>\n",
       "<p>106 rows × 7 columns</p>\n",
       "</div>"
      ],
      "text/plain": [
       "       price                            facility  \\\n",
       "0       90.0             Advanced Cardiology LLC   \n",
       "1      110.0                Lenox Hill Radiology   \n",
       "2      150.0                 Staten Island Heart   \n",
       "3      150.0   Mt. Sinai Riverside Medical Group   \n",
       "4      150.0   Mt. Sinai Riverside Medical Group   \n",
       "..       ...                                 ...   \n",
       "101   7106.0    Baylor University Medical Center   \n",
       "102   7106.0  Baylor Scott and White Lake Pointe   \n",
       "103   8217.0   Baylor Scott and White All Saints   \n",
       "104  12530.0   Baylor Scott and White Waxahachie   \n",
       "105  13224.0  Texas Health Presbyterian Rockwall   \n",
       "\n",
       "                                            address       condition    zip  \\\n",
       "0           117 Seber Rd., Ste. 1B, Hackettstown NJ  cardiovascular  10001   \n",
       "1    80-02 Kew Gardens Rd., Ste. L1, Kew Gardens NY  cardiovascular  10001   \n",
       "2      501 Seaview Ave., Ste. 300, Staten Island NY  cardiovascular  10001   \n",
       "3                      1010 N. Broadway, Yonkers NY  cardiovascular  10001   \n",
       "4                      1010 N. Broadway, Yonkers NY  cardiovascular  10001   \n",
       "..                                              ...             ...    ...   \n",
       "101                     3500 Gaston Ave., Dallas TX  cardiovascular  75001   \n",
       "102                 6800 Scenic Dr., Lake Pointe TX  cardiovascular  75001   \n",
       "103                    1400 8th Ave., Fort Worth TX  cardiovascular  75001   \n",
       "104                    2400 N. I-35E, Waxahachie TX  cardiovascular  75001   \n",
       "105                   3150 Horizon Rd., Rockwall TX  cardiovascular  75001   \n",
       "\n",
       "     radius      city  \n",
       "0        50  New York  \n",
       "1        50  New York  \n",
       "2        50  New York  \n",
       "3        50  New York  \n",
       "4        50  New York  \n",
       "..      ...       ...  \n",
       "101      50    Dallas  \n",
       "102      50    Dallas  \n",
       "103      50    Dallas  \n",
       "104      50    Dallas  \n",
       "105      50    Dallas  \n",
       "\n",
       "[106 rows x 7 columns]"
      ]
     },
     "execution_count": 23,
     "metadata": {},
     "output_type": "execute_result"
    }
   ],
   "source": [
    "cardio = cardio[cardio.price != 0]\n",
    "cardio"
   ]
  },
  {
   "cell_type": "markdown",
   "metadata": {},
   "source": [
    "## 3. Display the distribution of prices across all the data.\n",
    "- Import the `seaborn` and `from scipy import stats, integrate`.\n",
    "- Use the function `distplot` from `sns` to display the distribution of prices.\n"
   ]
  },
  {
   "cell_type": "code",
   "execution_count": 24,
   "metadata": {},
   "outputs": [
    {
     "data": {
      "text/plain": [
       "<matplotlib.axes._subplots.AxesSubplot at 0x13f0de20>"
      ]
     },
     "execution_count": 24,
     "metadata": {},
     "output_type": "execute_result"
    },
    {
     "data": {
      "image/png": "[encoded data removed]",
      "text/plain": [
       "<Figure size 432x288 with 1 Axes>"
      ]
     },
     "metadata": {
      "needs_background": "light"
     },
     "output_type": "display_data"
    }
   ],
   "source": [
    "sns.distplot(cardio.price)"
   ]
  },
  {
   "cell_type": "markdown",
   "metadata": {},
   "source": [
    "## 4. Look at the distribution by city.\n",
    "\n",
    "- Use the `violinplot` function from the `sns` package to look at the distribution by city."
   ]
  },
  {
   "cell_type": "code",
   "execution_count": 25,
   "metadata": {},
   "outputs": [
    {
     "data": {
      "text/plain": [
       "<matplotlib.axes._subplots.AxesSubplot at 0x13c57400>"
      ]
     },
     "execution_count": 25,
     "metadata": {},
     "output_type": "execute_result"
    },
    {
     "data": {
      "image/png": "[encoded data removed]",
      "text/plain": [
       "<Figure size 432x288 with 1 Axes>"
      ]
     },
     "metadata": {
      "needs_background": "light"
     },
     "output_type": "display_data"
    }
   ],
   "source": [
    "sns.violinplot(data=cardio, y='price', x='city')"
   ]
  },
  {
   "cell_type": "markdown",
   "metadata": {},
   "source": [
    "## 5. Remove outliers.\n",
    "\n",
    "- Subset the data down to only Dallas to see where these extra high numbers are coming from. \n",
    "\n",
    "- Look at the `zip` varialble for the Dallas instances and go to [Clear Health Costs](https://clearhealthcosts.com/) and enter the Dallas zip code, enter cardiovascular in the seach and set it to a 50 mile radius.\n",
    "- Look at the large values and if you think it is appropriate remove them."
   ]
  },
  {
   "cell_type": "code",
   "execution_count": 26,
   "metadata": {},
   "outputs": [
    {
     "data": {
      "text/html": [
       "<div>\n",
       "<style scoped>\n",
       "    .dataframe tbody tr th:only-of-type {\n",
       "        vertical-align: middle;\n",
       "    }\n",
       "\n",
       "    .dataframe tbody tr th {\n",
       "        vertical-align: top;\n",
       "    }\n",
       "\n",
       "    .dataframe thead th {\n",
       "        text-align: right;\n",
       "    }\n",
       "</style>\n",
       "<table border=\"1\" class=\"dataframe\">\n",
       "  <thead>\n",
       "    <tr style=\"text-align: right;\">\n",
       "      <th></th>\n",
       "      <th>price</th>\n",
       "      <th>facility</th>\n",
       "      <th>address</th>\n",
       "      <th>condition</th>\n",
       "      <th>zip</th>\n",
       "      <th>radius</th>\n",
       "      <th>city</th>\n",
       "    </tr>\n",
       "  </thead>\n",
       "  <tbody>\n",
       "    <tr>\n",
       "      <th>77</th>\n",
       "      <td>75.0</td>\n",
       "      <td>Texas Institute of Cardiology</td>\n",
       "      <td>4510 Medical Center Dr., Ste. 208, McKinney TX</td>\n",
       "      <td>cardiovascular</td>\n",
       "      <td>75001</td>\n",
       "      <td>50</td>\n",
       "      <td>Dallas</td>\n",
       "    </tr>\n",
       "    <tr>\n",
       "      <th>78</th>\n",
       "      <td>109.0</td>\n",
       "      <td>HeartPlace Plano</td>\n",
       "      <td>3801 W. 15th St., Bldg. B, Ste. 320, Plano TX</td>\n",
       "      <td>cardiovascular</td>\n",
       "      <td>75001</td>\n",
       "      <td>50</td>\n",
       "      <td>Dallas</td>\n",
       "    </tr>\n",
       "    <tr>\n",
       "      <th>79</th>\n",
       "      <td>126.0</td>\n",
       "      <td>Heart Center of North Texas</td>\n",
       "      <td>1017 12th Ave., Ft. Worth TX</td>\n",
       "      <td>cardiovascular</td>\n",
       "      <td>75001</td>\n",
       "      <td>50</td>\n",
       "      <td>Dallas</td>\n",
       "    </tr>\n",
       "    <tr>\n",
       "      <th>80</th>\n",
       "      <td>133.0</td>\n",
       "      <td>Baylor Scott &amp; White Legacy Heart Center</td>\n",
       "      <td>6601 Preston Rd., Plano TX</td>\n",
       "      <td>cardiovascular</td>\n",
       "      <td>75001</td>\n",
       "      <td>50</td>\n",
       "      <td>Dallas</td>\n",
       "    </tr>\n",
       "    <tr>\n",
       "      <th>81</th>\n",
       "      <td>133.0</td>\n",
       "      <td>Texas Cardiac Associates</td>\n",
       "      <td>7801 Lakeview Pkwy., Ste. 100, Rowlett TX</td>\n",
       "      <td>cardiovascular</td>\n",
       "      <td>75001</td>\n",
       "      <td>50</td>\n",
       "      <td>Dallas</td>\n",
       "    </tr>\n",
       "    <tr>\n",
       "      <th>82</th>\n",
       "      <td>149.0</td>\n",
       "      <td>Cardiology &amp; Interventional Vascular Associate...</td>\n",
       "      <td>8230 Walnut Hill Ln., Professional Bldg. 3, St...</td>\n",
       "      <td>cardiovascular</td>\n",
       "      <td>75001</td>\n",
       "      <td>50</td>\n",
       "      <td>Dallas</td>\n",
       "    </tr>\n",
       "    <tr>\n",
       "      <th>83</th>\n",
       "      <td>149.0</td>\n",
       "      <td>Cardiology &amp; Interventional Vascular Associate...</td>\n",
       "      <td>7150 Greenville Ave., Ste. 500, Dallas TX</td>\n",
       "      <td>cardiovascular</td>\n",
       "      <td>75001</td>\n",
       "      <td>50</td>\n",
       "      <td>Dallas</td>\n",
       "    </tr>\n",
       "    <tr>\n",
       "      <th>84</th>\n",
       "      <td>190.0</td>\n",
       "      <td>The Dallas Heart Group - Baylor Scott &amp; White</td>\n",
       "      <td>7777 Forest Ln., Ste. A-202, Dallas TX</td>\n",
       "      <td>cardiovascular</td>\n",
       "      <td>75001</td>\n",
       "      <td>50</td>\n",
       "      <td>Dallas</td>\n",
       "    </tr>\n",
       "    <tr>\n",
       "      <th>85</th>\n",
       "      <td>190.0</td>\n",
       "      <td>Baylor Scott &amp; White Cottonwood Cardiology</td>\n",
       "      <td>1110 Cottonwood Ln., Ste. 105, Irving TX</td>\n",
       "      <td>cardiovascular</td>\n",
       "      <td>75001</td>\n",
       "      <td>50</td>\n",
       "      <td>Dallas</td>\n",
       "    </tr>\n",
       "    <tr>\n",
       "      <th>86</th>\n",
       "      <td>190.0</td>\n",
       "      <td>Cottonwood Cardiology</td>\n",
       "      <td>1110 Cottonwood Ln., Ste. 105, Irving TX</td>\n",
       "      <td>cardiovascular</td>\n",
       "      <td>75001</td>\n",
       "      <td>50</td>\n",
       "      <td>Dallas</td>\n",
       "    </tr>\n",
       "    <tr>\n",
       "      <th>87</th>\n",
       "      <td>300.0</td>\n",
       "      <td>Scott Ewing, DO - Texas Health Care, PLLC</td>\n",
       "      <td>508 S. Adams St., Ste. 100, Ft. Worth TX</td>\n",
       "      <td>cardiovascular</td>\n",
       "      <td>75001</td>\n",
       "      <td>50</td>\n",
       "      <td>Dallas</td>\n",
       "    </tr>\n",
       "    <tr>\n",
       "      <th>88</th>\n",
       "      <td>391.0</td>\n",
       "      <td>UT Southwestern Clinical Heart Center</td>\n",
       "      <td>5939 Harry Hines Blvd., Ste. 935, Dallas TX</td>\n",
       "      <td>cardiovascular</td>\n",
       "      <td>75001</td>\n",
       "      <td>50</td>\n",
       "      <td>Dallas</td>\n",
       "    </tr>\n",
       "    <tr>\n",
       "      <th>89</th>\n",
       "      <td>529.0</td>\n",
       "      <td>Advanced Heart Care</td>\n",
       "      <td>4716 Dexter Dr., Ste. 100, Plano TX</td>\n",
       "      <td>cardiovascular</td>\n",
       "      <td>75001</td>\n",
       "      <td>50</td>\n",
       "      <td>Dallas</td>\n",
       "    </tr>\n",
       "    <tr>\n",
       "      <th>90</th>\n",
       "      <td>320.0</td>\n",
       "      <td>Medical City Dallas (HCA)</td>\n",
       "      <td>7777 Forest Lane, Dallas TX</td>\n",
       "      <td>cardiovascular</td>\n",
       "      <td>75001</td>\n",
       "      <td>50</td>\n",
       "      <td>Dallas</td>\n",
       "    </tr>\n",
       "    <tr>\n",
       "      <th>91</th>\n",
       "      <td>698.0</td>\n",
       "      <td>Texas Health Presbyterian Plano</td>\n",
       "      <td>6200 W. Parker Rd., Plano TX</td>\n",
       "      <td>cardiovascular</td>\n",
       "      <td>75001</td>\n",
       "      <td>50</td>\n",
       "      <td>Dallas</td>\n",
       "    </tr>\n",
       "    <tr>\n",
       "      <th>92</th>\n",
       "      <td>698.0</td>\n",
       "      <td>Texas Health Presbyterian Dallas</td>\n",
       "      <td>8200 Walnut Hill Ln., Dallas TX</td>\n",
       "      <td>cardiovascular</td>\n",
       "      <td>75001</td>\n",
       "      <td>50</td>\n",
       "      <td>Dallas</td>\n",
       "    </tr>\n",
       "    <tr>\n",
       "      <th>93</th>\n",
       "      <td>698.0</td>\n",
       "      <td>Texas Health Arlington Memorial</td>\n",
       "      <td>800 W. Randol Mill Rd., Arlington TX</td>\n",
       "      <td>cardiovascular</td>\n",
       "      <td>75001</td>\n",
       "      <td>50</td>\n",
       "      <td>Dallas</td>\n",
       "    </tr>\n",
       "    <tr>\n",
       "      <th>94</th>\n",
       "      <td>698.0</td>\n",
       "      <td>Texas Health Harris Methodist Fort Worth</td>\n",
       "      <td>1301 Pennsylvania Ave., Ft. Worth TX</td>\n",
       "      <td>cardiovascular</td>\n",
       "      <td>75001</td>\n",
       "      <td>50</td>\n",
       "      <td>Dallas</td>\n",
       "    </tr>\n",
       "    <tr>\n",
       "      <th>95</th>\n",
       "      <td>698.0</td>\n",
       "      <td>Texas Health Harris Methodist Southwest Fort W...</td>\n",
       "      <td>6100 Harris Pkwy., Ft. Worth TX</td>\n",
       "      <td>cardiovascular</td>\n",
       "      <td>75001</td>\n",
       "      <td>50</td>\n",
       "      <td>Dallas</td>\n",
       "    </tr>\n",
       "    <tr>\n",
       "      <th>96</th>\n",
       "      <td>776.0</td>\n",
       "      <td>Baylor Scott &amp; White Medical Center Sunnyvale</td>\n",
       "      <td>231 S. Collins Rd., Sunnyvale TX</td>\n",
       "      <td>cardiovascular</td>\n",
       "      <td>75001</td>\n",
       "      <td>50</td>\n",
       "      <td>Dallas</td>\n",
       "    </tr>\n",
       "    <tr>\n",
       "      <th>97</th>\n",
       "      <td>860.0</td>\n",
       "      <td>Baylor Scott and White Grapevine</td>\n",
       "      <td>1650 W. College St., Grapevine TX</td>\n",
       "      <td>cardiovascular</td>\n",
       "      <td>75001</td>\n",
       "      <td>50</td>\n",
       "      <td>Dallas</td>\n",
       "    </tr>\n",
       "    <tr>\n",
       "      <th>98</th>\n",
       "      <td>1047.0</td>\n",
       "      <td>Medical City Fort Worth (HCA)</td>\n",
       "      <td>900 Eighth Ave., Fort Worth TX</td>\n",
       "      <td>cardiovascular</td>\n",
       "      <td>75001</td>\n",
       "      <td>50</td>\n",
       "      <td>Dallas</td>\n",
       "    </tr>\n",
       "    <tr>\n",
       "      <th>99</th>\n",
       "      <td>5837.0</td>\n",
       "      <td>Baylor Scott and White Carrollton</td>\n",
       "      <td>4343 N. Josey Ln., Carrollton TX</td>\n",
       "      <td>cardiovascular</td>\n",
       "      <td>75001</td>\n",
       "      <td>50</td>\n",
       "      <td>Dallas</td>\n",
       "    </tr>\n",
       "    <tr>\n",
       "      <th>100</th>\n",
       "      <td>6104.0</td>\n",
       "      <td>Baylor Scott and White Plano</td>\n",
       "      <td>4700 Alliance Blvd., Plano TX</td>\n",
       "      <td>cardiovascular</td>\n",
       "      <td>75001</td>\n",
       "      <td>50</td>\n",
       "      <td>Dallas</td>\n",
       "    </tr>\n",
       "    <tr>\n",
       "      <th>101</th>\n",
       "      <td>7106.0</td>\n",
       "      <td>Baylor University Medical Center</td>\n",
       "      <td>3500 Gaston Ave., Dallas TX</td>\n",
       "      <td>cardiovascular</td>\n",
       "      <td>75001</td>\n",
       "      <td>50</td>\n",
       "      <td>Dallas</td>\n",
       "    </tr>\n",
       "    <tr>\n",
       "      <th>102</th>\n",
       "      <td>7106.0</td>\n",
       "      <td>Baylor Scott and White Lake Pointe</td>\n",
       "      <td>6800 Scenic Dr., Lake Pointe TX</td>\n",
       "      <td>cardiovascular</td>\n",
       "      <td>75001</td>\n",
       "      <td>50</td>\n",
       "      <td>Dallas</td>\n",
       "    </tr>\n",
       "    <tr>\n",
       "      <th>103</th>\n",
       "      <td>8217.0</td>\n",
       "      <td>Baylor Scott and White All Saints</td>\n",
       "      <td>1400 8th Ave., Fort Worth TX</td>\n",
       "      <td>cardiovascular</td>\n",
       "      <td>75001</td>\n",
       "      <td>50</td>\n",
       "      <td>Dallas</td>\n",
       "    </tr>\n",
       "    <tr>\n",
       "      <th>104</th>\n",
       "      <td>12530.0</td>\n",
       "      <td>Baylor Scott and White Waxahachie</td>\n",
       "      <td>2400 N. I-35E, Waxahachie TX</td>\n",
       "      <td>cardiovascular</td>\n",
       "      <td>75001</td>\n",
       "      <td>50</td>\n",
       "      <td>Dallas</td>\n",
       "    </tr>\n",
       "    <tr>\n",
       "      <th>105</th>\n",
       "      <td>13224.0</td>\n",
       "      <td>Texas Health Presbyterian Rockwall</td>\n",
       "      <td>3150 Horizon Rd., Rockwall TX</td>\n",
       "      <td>cardiovascular</td>\n",
       "      <td>75001</td>\n",
       "      <td>50</td>\n",
       "      <td>Dallas</td>\n",
       "    </tr>\n",
       "  </tbody>\n",
       "</table>\n",
       "</div>"
      ],
      "text/plain": [
       "       price                                           facility  \\\n",
       "77      75.0                      Texas Institute of Cardiology   \n",
       "78     109.0                                   HeartPlace Plano   \n",
       "79     126.0                        Heart Center of North Texas   \n",
       "80     133.0           Baylor Scott & White Legacy Heart Center   \n",
       "81     133.0                           Texas Cardiac Associates   \n",
       "82     149.0  Cardiology & Interventional Vascular Associate...   \n",
       "83     149.0  Cardiology & Interventional Vascular Associate...   \n",
       "84     190.0      The Dallas Heart Group - Baylor Scott & White   \n",
       "85     190.0         Baylor Scott & White Cottonwood Cardiology   \n",
       "86     190.0                              Cottonwood Cardiology   \n",
       "87     300.0          Scott Ewing, DO - Texas Health Care, PLLC   \n",
       "88     391.0              UT Southwestern Clinical Heart Center   \n",
       "89     529.0                                Advanced Heart Care   \n",
       "90     320.0                          Medical City Dallas (HCA)   \n",
       "91     698.0                    Texas Health Presbyterian Plano   \n",
       "92     698.0                   Texas Health Presbyterian Dallas   \n",
       "93     698.0                    Texas Health Arlington Memorial   \n",
       "94     698.0           Texas Health Harris Methodist Fort Worth   \n",
       "95     698.0  Texas Health Harris Methodist Southwest Fort W...   \n",
       "96     776.0      Baylor Scott & White Medical Center Sunnyvale   \n",
       "97     860.0                   Baylor Scott and White Grapevine   \n",
       "98    1047.0                      Medical City Fort Worth (HCA)   \n",
       "99    5837.0                  Baylor Scott and White Carrollton   \n",
       "100   6104.0                       Baylor Scott and White Plano   \n",
       "101   7106.0                   Baylor University Medical Center   \n",
       "102   7106.0                 Baylor Scott and White Lake Pointe   \n",
       "103   8217.0                  Baylor Scott and White All Saints   \n",
       "104  12530.0                  Baylor Scott and White Waxahachie   \n",
       "105  13224.0                 Texas Health Presbyterian Rockwall   \n",
       "\n",
       "                                               address       condition    zip  \\\n",
       "77      4510 Medical Center Dr., Ste. 208, McKinney TX  cardiovascular  75001   \n",
       "78       3801 W. 15th St., Bldg. B, Ste. 320, Plano TX  cardiovascular  75001   \n",
       "79                        1017 12th Ave., Ft. Worth TX  cardiovascular  75001   \n",
       "80                          6601 Preston Rd., Plano TX  cardiovascular  75001   \n",
       "81           7801 Lakeview Pkwy., Ste. 100, Rowlett TX  cardiovascular  75001   \n",
       "82   8230 Walnut Hill Ln., Professional Bldg. 3, St...  cardiovascular  75001   \n",
       "83           7150 Greenville Ave., Ste. 500, Dallas TX  cardiovascular  75001   \n",
       "84              7777 Forest Ln., Ste. A-202, Dallas TX  cardiovascular  75001   \n",
       "85            1110 Cottonwood Ln., Ste. 105, Irving TX  cardiovascular  75001   \n",
       "86            1110 Cottonwood Ln., Ste. 105, Irving TX  cardiovascular  75001   \n",
       "87            508 S. Adams St., Ste. 100, Ft. Worth TX  cardiovascular  75001   \n",
       "88         5939 Harry Hines Blvd., Ste. 935, Dallas TX  cardiovascular  75001   \n",
       "89                 4716 Dexter Dr., Ste. 100, Plano TX  cardiovascular  75001   \n",
       "90                         7777 Forest Lane, Dallas TX  cardiovascular  75001   \n",
       "91                        6200 W. Parker Rd., Plano TX  cardiovascular  75001   \n",
       "92                     8200 Walnut Hill Ln., Dallas TX  cardiovascular  75001   \n",
       "93                800 W. Randol Mill Rd., Arlington TX  cardiovascular  75001   \n",
       "94                1301 Pennsylvania Ave., Ft. Worth TX  cardiovascular  75001   \n",
       "95                     6100 Harris Pkwy., Ft. Worth TX  cardiovascular  75001   \n",
       "96                    231 S. Collins Rd., Sunnyvale TX  cardiovascular  75001   \n",
       "97                   1650 W. College St., Grapevine TX  cardiovascular  75001   \n",
       "98                      900 Eighth Ave., Fort Worth TX  cardiovascular  75001   \n",
       "99                    4343 N. Josey Ln., Carrollton TX  cardiovascular  75001   \n",
       "100                      4700 Alliance Blvd., Plano TX  cardiovascular  75001   \n",
       "101                        3500 Gaston Ave., Dallas TX  cardiovascular  75001   \n",
       "102                    6800 Scenic Dr., Lake Pointe TX  cardiovascular  75001   \n",
       "103                       1400 8th Ave., Fort Worth TX  cardiovascular  75001   \n",
       "104                       2400 N. I-35E, Waxahachie TX  cardiovascular  75001   \n",
       "105                      3150 Horizon Rd., Rockwall TX  cardiovascular  75001   \n",
       "\n",
       "     radius    city  \n",
       "77       50  Dallas  \n",
       "78       50  Dallas  \n",
       "79       50  Dallas  \n",
       "80       50  Dallas  \n",
       "81       50  Dallas  \n",
       "82       50  Dallas  \n",
       "83       50  Dallas  \n",
       "84       50  Dallas  \n",
       "85       50  Dallas  \n",
       "86       50  Dallas  \n",
       "87       50  Dallas  \n",
       "88       50  Dallas  \n",
       "89       50  Dallas  \n",
       "90       50  Dallas  \n",
       "91       50  Dallas  \n",
       "92       50  Dallas  \n",
       "93       50  Dallas  \n",
       "94       50  Dallas  \n",
       "95       50  Dallas  \n",
       "96       50  Dallas  \n",
       "97       50  Dallas  \n",
       "98       50  Dallas  \n",
       "99       50  Dallas  \n",
       "100      50  Dallas  \n",
       "101      50  Dallas  \n",
       "102      50  Dallas  \n",
       "103      50  Dallas  \n",
       "104      50  Dallas  \n",
       "105      50  Dallas  "
      ]
     },
     "execution_count": 26,
     "metadata": {},
     "output_type": "execute_result"
    }
   ],
   "source": [
    "cardio[cardio.city == \"Dallas\"]"
   ]
  },
  {
   "cell_type": "code",
   "execution_count": 27,
   "metadata": {},
   "outputs": [],
   "source": [
    "cardio = cardio[cardio.price != 12530]\n",
    "cardio = cardio[cardio.price != 13224]\n",
    "cardio = cardio[cardio.price != 8217]"
   ]
  },
  {
   "cell_type": "markdown",
   "metadata": {},
   "source": [
    "## 6. Have another look at the distribution by city.\n",
    "\n",
    "- If you removed any outliers, look use the `violinplot` attribute of `sns` to look at the data distributed by city once again.\n",
    "- If the data is still largely skewed, look at Dallas and the other three cities seperately"
   ]
  },
  {
   "cell_type": "code",
   "execution_count": 28,
   "metadata": {},
   "outputs": [
    {
     "data": {
      "text/plain": [
       "<matplotlib.axes._subplots.AxesSubplot at 0x13cadd78>"
      ]
     },
     "execution_count": 28,
     "metadata": {},
     "output_type": "execute_result"
    },
    {
     "data": {
      "image/png": "[encoded data removed]",
      "text/plain": [
       "<Figure size 432x288 with 1 Axes>"
      ]
     },
     "metadata": {
      "needs_background": "light"
     },
     "output_type": "display_data"
    }
   ],
   "source": [
    "sns.violinplot(data=cardio, y='price', x='city')"
   ]
  },
  {
   "cell_type": "code",
   "execution_count": 29,
   "metadata": {},
   "outputs": [
    {
     "data": {
      "text/plain": [
       "<matplotlib.axes._subplots.AxesSubplot at 0x13f06dc0>"
      ]
     },
     "execution_count": 29,
     "metadata": {},
     "output_type": "execute_result"
    },
    {
     "data": {
      "image/png": "[encoded data removed]",
      "text/plain": [
       "<Figure size 432x288 with 1 Axes>"
      ]
     },
     "metadata": {
      "needs_background": "light"
     },
     "output_type": "display_data"
    }
   ],
   "source": [
    "sns.violinplot(data=cardio[cardio.city != \"Dallas\"], y='price', x='city')"
   ]
  },
  {
   "cell_type": "code",
   "execution_count": 30,
   "metadata": {},
   "outputs": [
    {
     "data": {
      "text/plain": [
       "<matplotlib.axes._subplots.AxesSubplot at 0x13d7a850>"
      ]
     },
     "execution_count": 30,
     "metadata": {},
     "output_type": "execute_result"
    },
    {
     "data": {
      "image/png": "[encoded data removed]",
      "text/plain": [
       "<Figure size 432x288 with 1 Axes>"
      ]
     },
     "metadata": {
      "needs_background": "light"
     },
     "output_type": "display_data"
    }
   ],
   "source": [
    "sns.violinplot(data=cardio[cardio.city == \"Dallas\"], y='price', x='city')"
   ]
  },
  {
   "cell_type": "markdown",
   "metadata": {},
   "source": [
    "## 7. Run a linear regression.\n",
    "- Make sure you have loaded the `statsmodel` package.\n",
    "- Run a linear regression where the reference category is Dallas."
   ]
  },
  {
   "cell_type": "code",
   "execution_count": 31,
   "metadata": {},
   "outputs": [
    {
     "data": {
      "text/html": [
       "<table class=\"simpletable\">\n",
       "<caption>OLS Regression Results</caption>\n",
       "<tr>\n",
       "  <th>Dep. Variable:</th>          <td>price</td>      <th>  R-squared:         </th> <td>   0.111</td>\n",
       "</tr>\n",
       "<tr>\n",
       "  <th>Model:</th>                   <td>OLS</td>       <th>  Adj. R-squared:    </th> <td>   0.084</td>\n",
       "</tr>\n",
       "<tr>\n",
       "  <th>Method:</th>             <td>Least Squares</td>  <th>  F-statistic:       </th> <td>   4.114</td>\n",
       "</tr>\n",
       "<tr>\n",
       "  <th>Date:</th>             <td>Sat, 30 May 2020</td> <th>  Prob (F-statistic):</th>  <td>0.00852</td>\n",
       "</tr>\n",
       "<tr>\n",
       "  <th>Time:</th>                 <td>17:22:34</td>     <th>  Log-Likelihood:    </th> <td> -875.62</td>\n",
       "</tr>\n",
       "<tr>\n",
       "  <th>No. Observations:</th>      <td>   103</td>      <th>  AIC:               </th> <td>   1759.</td>\n",
       "</tr>\n",
       "<tr>\n",
       "  <th>Df Residuals:</th>          <td>    99</td>      <th>  BIC:               </th> <td>   1770.</td>\n",
       "</tr>\n",
       "<tr>\n",
       "  <th>Df Model:</th>              <td>     3</td>      <th>                     </th>     <td> </td>   \n",
       "</tr>\n",
       "<tr>\n",
       "  <th>Covariance Type:</th>      <td>nonrobust</td>    <th>                     </th>     <td> </td>   \n",
       "</tr>\n",
       "</table>\n",
       "<table class=\"simpletable\">\n",
       "<tr>\n",
       "                             <td></td>                                <th>coef</th>     <th>std err</th>      <th>t</th>      <th>P>|t|</th>  <th>[0.025</th>    <th>0.975]</th>  \n",
       "</tr>\n",
       "<tr>\n",
       "  <th>Intercept</th>                                               <td> 1358.0769</td> <td>  238.168</td> <td>    5.702</td> <td> 0.000</td> <td>  885.500</td> <td> 1830.654</td>\n",
       "</tr>\n",
       "<tr>\n",
       "  <th>C(city, Treatment(reference='Dallas'))[T.Miami]</th>         <td> -528.1245</td> <td>  356.306</td> <td>   -1.482</td> <td> 0.141</td> <td>-1235.112</td> <td>  178.863</td>\n",
       "</tr>\n",
       "<tr>\n",
       "  <th>C(city, Treatment(reference='Dallas'))[T.New York]</th>      <td>-1049.7269</td> <td>  305.932</td> <td>   -3.431</td> <td> 0.001</td> <td>-1656.763</td> <td> -442.691</td>\n",
       "</tr>\n",
       "<tr>\n",
       "  <th>C(city, Treatment(reference='Dallas'))[T.San Francisco]</th> <td> -830.0769</td> <td>  385.876</td> <td>   -2.151</td> <td> 0.034</td> <td>-1595.739</td> <td>  -64.415</td>\n",
       "</tr>\n",
       "</table>\n",
       "<table class=\"simpletable\">\n",
       "<tr>\n",
       "  <th>Omnibus:</th>       <td>96.705</td> <th>  Durbin-Watson:     </th> <td>   0.285</td> \n",
       "</tr>\n",
       "<tr>\n",
       "  <th>Prob(Omnibus):</th> <td> 0.000</td> <th>  Jarque-Bera (JB):  </th> <td> 815.005</td> \n",
       "</tr>\n",
       "<tr>\n",
       "  <th>Skew:</th>          <td> 3.240</td> <th>  Prob(JB):          </th> <td>1.06e-177</td>\n",
       "</tr>\n",
       "<tr>\n",
       "  <th>Kurtosis:</th>      <td>15.162</td> <th>  Cond. No.          </th> <td>    4.94</td> \n",
       "</tr>\n",
       "</table><br/><br/>Warnings:<br/>[1] Standard Errors assume that the covariance matrix of the errors is correctly specified."
      ],
      "text/plain": [
       "<class 'statsmodels.iolib.summary.Summary'>\n",
       "\"\"\"\n",
       "                            OLS Regression Results                            \n",
       "==============================================================================\n",
       "Dep. Variable:                  price   R-squared:                       0.111\n",
       "Model:                            OLS   Adj. R-squared:                  0.084\n",
       "Method:                 Least Squares   F-statistic:                     4.114\n",
       "Date:                Sat, 30 May 2020   Prob (F-statistic):            0.00852\n",
       "Time:                        17:22:34   Log-Likelihood:                -875.62\n",
       "No. Observations:                 103   AIC:                             1759.\n",
       "Df Residuals:                      99   BIC:                             1770.\n",
       "Df Model:                           3                                         \n",
       "Covariance Type:            nonrobust                                         \n",
       "===========================================================================================================================\n",
       "                                                              coef    std err          t      P>|t|      [0.025      0.975]\n",
       "---------------------------------------------------------------------------------------------------------------------------\n",
       "Intercept                                                1358.0769    238.168      5.702      0.000     885.500    1830.654\n",
       "C(city, Treatment(reference='Dallas'))[T.Miami]          -528.1245    356.306     -1.482      0.141   -1235.112     178.863\n",
       "C(city, Treatment(reference='Dallas'))[T.New York]      -1049.7269    305.932     -3.431      0.001   -1656.763    -442.691\n",
       "C(city, Treatment(reference='Dallas'))[T.San Francisco]  -830.0769    385.876     -2.151      0.034   -1595.739     -64.415\n",
       "==============================================================================\n",
       "Omnibus:                       96.705   Durbin-Watson:                   0.285\n",
       "Prob(Omnibus):                  0.000   Jarque-Bera (JB):              815.005\n",
       "Skew:                           3.240   Prob(JB):                    1.06e-177\n",
       "Kurtosis:                      15.162   Cond. No.                         4.94\n",
       "==============================================================================\n",
       "\n",
       "Warnings:\n",
       "[1] Standard Errors assume that the covariance matrix of the errors is correctly specified.\n",
       "\"\"\""
      ]
     },
     "execution_count": 31,
     "metadata": {},
     "output_type": "execute_result"
    }
   ],
   "source": [
    "# pip install this package\n",
    "import statsmodels.api as smf\n",
    "lm = smf.formula.ols(\"price ~ C(city, Treatment(reference='Dallas'))\", data = cardio).fit()\n",
    "lm.summary()"
   ]
  },
  {
   "cell_type": "markdown",
   "metadata": {},
   "source": [
    "## 8. Plot your findings.\n",
    "\n",
    "- Use the `catplot` attribute of the `seaborn` package to look at the data."
   ]
  },
  {
   "cell_type": "code",
   "execution_count": 32,
   "metadata": {},
   "outputs": [
    {
     "data": {
      "text/plain": [
       "<seaborn.axisgrid.FacetGrid at 0x13dd20a0>"
      ]
     },
     "execution_count": 32,
     "metadata": {},
     "output_type": "execute_result"
    },
    {
     "data": {
      "image/png": "[encoded data removed]",
      "text/plain": [
       "<Figure size 360x360 with 1 Axes>"
      ]
     },
     "metadata": {
      "needs_background": "light"
     },
     "output_type": "display_data"
    }
   ],
   "source": [
    "sns.catplot(data=cardio, x='city', y='price')"
   ]
  }
 ],
 "metadata": {
  "kernelspec": {
   "display_name": "Python 3",
   "language": "python",
   "name": "python3"
  },
  "language_info": {
   "codemirror_mode": {
    "name": "ipython",
    "version": 3
   },
   "file_extension": ".py",
   "mimetype": "text/x-python",
   "name": "python",
   "nbconvert_exporter": "python",
   "pygments_lexer": "ipython3",
   "version": "3.8.2"
  }
 },
 "nbformat": 4,
 "nbformat_minor": 4
}
