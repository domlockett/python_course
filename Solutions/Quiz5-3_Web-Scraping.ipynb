{
 "cells": [
  {
   "cell_type": "markdown",
   "metadata": {},
   "source": [
    "# Quiz 5.3\n",
    "\n",
    "- Ideally, you have already installed the WebDrivers necessary for this assignment.\n",
    "    - If you cannot get the WebDriver to work for a non-Chrome web browser, then please download chrome and install [this](https://chromedriver.storage.googleapis.com/index.html?path=83.0.4103.39/) WebDriver for the appropriate operating system."
   ]
  },
  {
   "cell_type": "markdown",
   "metadata": {},
   "source": [
    "## Import the appropriate functions from the packages we used in the lecture.\n",
    "- `webdriver` from `selenium`\n",
    "- `BeautifulSoup` from `bs4`\n",
    "- And as always the `pandas` package."
   ]
  },
  {
   "cell_type": "code",
   "execution_count": 1,
   "metadata": {},
   "outputs": [],
   "source": [
    "from selenium import webdriver\n",
    "from bs4 import BeautifulSoup\n",
    "import pandas as pd"
   ]
  },
  {
   "cell_type": "markdown",
   "metadata": {},
   "source": [
    "## Open the website.\n",
    "\n",
    "- Create a variable `driver` and use the `Chrome` attribute of `webdriver` to save chromedriver (or other WebDriver) to your variable.\n",
    "    "
   ]
  },
  {
   "cell_type": "code",
   "execution_count": 2,
   "metadata": {},
   "outputs": [],
   "source": [
    "driver = webdriver.Chrome(\"C:/Users/dl0ck/Desktop/chromedriver\")"
   ]
  },
  {
   "cell_type": "markdown",
   "metadata": {},
   "source": [
    "## Setting up our variables.\n",
    "- Navigate to the following webpage using the `.get` attribute of your `webdriver` we named `driver`:\n",
    "    -https://data.worldbank.org/indicator/SH.DTH.NCOM.ZS?view=chart\n",
    "    - This data show the % of total deaths caused by non-communicable diseases"
   ]
  },
  {
   "cell_type": "code",
   "execution_count": 3,
   "metadata": {},
   "outputs": [],
   "source": [
    "country =[]\n",
    "dailyExpense = []\n",
    "driver.get('https://data.worldbank.org/indicator/SH.DTH.NCOM.ZS?view=chart')"
   ]
  },
  {
   "cell_type": "markdown",
   "metadata": {},
   "source": [
    "## Grab HTML\n",
    "\n",
    "- Use the `.page_source` attribute of your `driver` variable to grab the HTML code.\n",
    "- Use the `BeautifulSoup` function we imported to save the HTML code.\\\n",
    "    - Save this code as a variable `soup`"
   ]
  },
  {
   "cell_type": "code",
   "execution_count": 5,
   "metadata": {},
   "outputs": [],
   "source": [
    "content = driver.page_source\n",
    "soup = BeautifulSoup(content)\n",
    "\n"
   ]
  },
  {
   "cell_type": "markdown",
   "metadata": {},
   "source": [
    "## Save relevant HTML\n",
    "- Inspect the element of the webpage and identify what HTML markers we will need to extract our data.\n",
    "- Name this data `countries`"
   ]
  },
  {
   "cell_type": "code",
   "execution_count": 6,
   "metadata": {},
   "outputs": [],
   "source": [
    "countries = soup.find_all('div',{'class':'item'})"
   ]
  },
  {
   "cell_type": "code",
   "execution_count": null,
   "metadata": {},
   "outputs": [],
   "source": [
    "## Create 2 variables.\n",
    "- Create two variables `country` and `percent` which will be empty lists that we will fill later."
   ]
  },
  {
   "cell_type": "code",
   "execution_count": 7,
   "metadata": {},
   "outputs": [],
   "source": [
    "country = []\n",
    "percent = []"
   ]
  },
  {
   "cell_type": "markdown",
   "metadata": {},
   "source": [
    "## Extract the data into our variables.\n",
    "- Import the numpy package\n",
    "- Now we have a for loop that reads through the data we want and extract the Country and Percent data.\n",
    "   "
   ]
  },
  {
   "cell_type": "code",
   "execution_count": 27,
   "metadata": {},
   "outputs": [],
   "source": [
    "import numpy as np\n",
    "for i in range(1,190):\n",
    "  country.append(countries[i].find_all('div',{'class':None})[0].text)\n",
    "  percent.append((countries[i].find_all('div',{'class':None})[2].text.replace(',','')))\n",
    " \n",
    "Data = {'country': country,'percent': percent}"
   ]
  },
  {
   "cell_type": "code",
   "execution_count": 11,
   "metadata": {},
   "outputs": [
    {
     "data": {
      "text/plain": [
       "{'country': ['Afghanistan',\n",
       "  'Albania',\n",
       "  'Algeria',\n",
       "  'American Samoa',\n",
       "  'Afghanistan',\n",
       "  'Albania',\n",
       "  'Algeria',\n",
       "  'American Samoa',\n",
       "  'Andorra',\n",
       "  'Angola',\n",
       "  'Antigua and Barbuda',\n",
       "  'Argentina',\n",
       "  'Armenia',\n",
       "  'Aruba',\n",
       "  'Australia',\n",
       "  'Austria',\n",
       "  'Azerbaijan',\n",
       "  'Bahamas, The',\n",
       "  'Bahrain',\n",
       "  'Bangladesh',\n",
       "  'Barbados',\n",
       "  'Belarus',\n",
       "  'Belgium',\n",
       "  'Belize',\n",
       "  'Benin',\n",
       "  'Bermuda',\n",
       "  'Bhutan',\n",
       "  'Bolivia',\n",
       "  'Bosnia and Herzegovina',\n",
       "  'Botswana',\n",
       "  'Brazil',\n",
       "  'British Virgin Islands',\n",
       "  'Brunei Darussalam',\n",
       "  'Bulgaria',\n",
       "  'Burkina Faso',\n",
       "  'Burundi',\n",
       "  'Cabo Verde',\n",
       "  'Cambodia',\n",
       "  'Cameroon',\n",
       "  'Canada',\n",
       "  'Cayman Islands',\n",
       "  'Central African Republic',\n",
       "  'Chad',\n",
       "  'Channel Islands',\n",
       "  'Chile',\n",
       "  'China',\n",
       "  'Colombia',\n",
       "  'Comoros',\n",
       "  'Congo, Dem. Rep.',\n",
       "  'Congo, Rep.',\n",
       "  'Costa Rica',\n",
       "  \"Cote d'Ivoire\",\n",
       "  'Croatia',\n",
       "  'Cuba',\n",
       "  'Curacao',\n",
       "  'Cyprus',\n",
       "  'Czech Republic',\n",
       "  'Denmark',\n",
       "  'Djibouti',\n",
       "  'Dominica',\n",
       "  'Dominican Republic',\n",
       "  'Ecuador',\n",
       "  'Egypt, Arab Rep.',\n",
       "  'El Salvador',\n",
       "  'Equatorial Guinea',\n",
       "  'Eritrea',\n",
       "  'Estonia',\n",
       "  'Eswatini',\n",
       "  'Ethiopia',\n",
       "  'Faroe Islands',\n",
       "  'Fiji',\n",
       "  'Finland',\n",
       "  'France',\n",
       "  'French Polynesia',\n",
       "  'Gabon',\n",
       "  'Gambia, The',\n",
       "  'Georgia',\n",
       "  'Germany',\n",
       "  'Ghana',\n",
       "  'Gibraltar',\n",
       "  'Greece',\n",
       "  'Greenland',\n",
       "  'Grenada',\n",
       "  'Guam',\n",
       "  'Guatemala',\n",
       "  'Guinea',\n",
       "  'Guinea-Bissau',\n",
       "  'Guyana',\n",
       "  'Haiti',\n",
       "  'Honduras',\n",
       "  'Hong Kong SAR, China',\n",
       "  'Hungary',\n",
       "  'Iceland',\n",
       "  'India',\n",
       "  'Indonesia',\n",
       "  'Iran, Islamic Rep.',\n",
       "  'Iraq',\n",
       "  'Ireland',\n",
       "  'Isle of Man',\n",
       "  'Israel',\n",
       "  'Italy',\n",
       "  'Jamaica',\n",
       "  'Japan',\n",
       "  'Jordan',\n",
       "  'Kazakhstan',\n",
       "  'Kenya',\n",
       "  'Kiribati',\n",
       "  'Korea, Dem. People’s Rep.',\n",
       "  'Korea, Rep.',\n",
       "  'Kosovo',\n",
       "  'Kuwait',\n",
       "  'Kyrgyz Republic',\n",
       "  'Lao PDR',\n",
       "  'Latvia',\n",
       "  'Lebanon',\n",
       "  'Lesotho',\n",
       "  'Liberia',\n",
       "  'Libya',\n",
       "  'Liechtenstein',\n",
       "  'Lithuania',\n",
       "  'Luxembourg',\n",
       "  'Macao SAR, China',\n",
       "  'Madagascar',\n",
       "  'Malawi',\n",
       "  'Malaysia',\n",
       "  'Maldives',\n",
       "  'Mali',\n",
       "  'Malta',\n",
       "  'Marshall Islands',\n",
       "  'Mauritania',\n",
       "  'Mauritius',\n",
       "  'Mexico',\n",
       "  'Micronesia, Fed. Sts.',\n",
       "  'Moldova',\n",
       "  'Monaco',\n",
       "  'Mongolia',\n",
       "  'Montenegro',\n",
       "  'Morocco',\n",
       "  'Mozambique',\n",
       "  'Myanmar',\n",
       "  'Namibia',\n",
       "  'Nauru',\n",
       "  'Nepal',\n",
       "  'Netherlands',\n",
       "  'New Caledonia',\n",
       "  'New Zealand',\n",
       "  'Nicaragua',\n",
       "  'Niger',\n",
       "  'Nigeria',\n",
       "  'North Macedonia',\n",
       "  'Northern Mariana Islands',\n",
       "  'Norway',\n",
       "  'Oman',\n",
       "  'Pakistan',\n",
       "  'Palau',\n",
       "  'Panama',\n",
       "  'Papua New Guinea',\n",
       "  'Paraguay',\n",
       "  'Peru',\n",
       "  'Philippines',\n",
       "  'Poland',\n",
       "  'Portugal',\n",
       "  'Puerto Rico',\n",
       "  'Qatar',\n",
       "  'Romania',\n",
       "  'Russian Federation',\n",
       "  'Rwanda',\n",
       "  'Samoa',\n",
       "  'San Marino',\n",
       "  'Sao Tome and Principe',\n",
       "  'Saudi Arabia',\n",
       "  'Senegal',\n",
       "  'Serbia',\n",
       "  'Seychelles',\n",
       "  'Sierra Leone',\n",
       "  'Singapore',\n",
       "  'Sint Maarten (Dutch part)',\n",
       "  'Slovak Republic',\n",
       "  'Slovenia',\n",
       "  'Solomon Islands',\n",
       "  'Somalia',\n",
       "  'South Africa',\n",
       "  'South Sudan',\n",
       "  'Spain',\n",
       "  'Sri Lanka',\n",
       "  'St. Kitts and Nevis',\n",
       "  'St. Lucia',\n",
       "  'St. Martin (French part)',\n",
       "  'St. Vincent and the Grenadines',\n",
       "  'Sudan',\n",
       "  'Suriname',\n",
       "  'Sweden',\n",
       "  'Switzerland'],\n",
       " 'percent': [44.0,\n",
       "  93.0,\n",
       "  76.0,\n",
       "  '44',\n",
       "  '93',\n",
       "  '76',\n",
       "  '',\n",
       "  '',\n",
       "  '27',\n",
       "  '82',\n",
       "  '78',\n",
       "  '93',\n",
       "  '',\n",
       "  '90',\n",
       "  '92',\n",
       "  '87',\n",
       "  '74',\n",
       "  '83',\n",
       "  '67',\n",
       "  '83',\n",
       "  '91',\n",
       "  '86',\n",
       "  '67',\n",
       "  '36',\n",
       "  '',\n",
       "  '69',\n",
       "  '65',\n",
       "  '95',\n",
       "  '46',\n",
       "  '74',\n",
       "  '',\n",
       "  '85',\n",
       "  '95',\n",
       "  '33',\n",
       "  '32',\n",
       "  '70',\n",
       "  '64',\n",
       "  '35',\n",
       "  '88',\n",
       "  '',\n",
       "  '26',\n",
       "  '27',\n",
       "  '',\n",
       "  '85',\n",
       "  '89',\n",
       "  '75',\n",
       "  '42',\n",
       "  '28',\n",
       "  '35',\n",
       "  '83',\n",
       "  '37',\n",
       "  '92',\n",
       "  '84',\n",
       "  '',\n",
       "  '91',\n",
       "  '90',\n",
       "  '90',\n",
       "  '44',\n",
       "  '',\n",
       "  '72',\n",
       "  '72',\n",
       "  '84',\n",
       "  '74',\n",
       "  '36',\n",
       "  '45',\n",
       "  '93',\n",
       "  '37',\n",
       "  '39',\n",
       "  '',\n",
       "  '84',\n",
       "  '93',\n",
       "  '88',\n",
       "  '',\n",
       "  '41',\n",
       "  '34',\n",
       "  '94',\n",
       "  '91',\n",
       "  '43',\n",
       "  '',\n",
       "  '86',\n",
       "  '',\n",
       "  '81',\n",
       "  '',\n",
       "  '59',\n",
       "  '35',\n",
       "  '30',\n",
       "  '68',\n",
       "  '57',\n",
       "  '67',\n",
       "  '',\n",
       "  '94',\n",
       "  '90',\n",
       "  '63',\n",
       "  '73',\n",
       "  '82',\n",
       "  '55',\n",
       "  '91',\n",
       "  '',\n",
       "  '86',\n",
       "  '91',\n",
       "  '80',\n",
       "  '82',\n",
       "  '78',\n",
       "  '86',\n",
       "  '27',\n",
       "  '64',\n",
       "  '84',\n",
       "  '80',\n",
       "  '',\n",
       "  '72',\n",
       "  '83',\n",
       "  '60',\n",
       "  '92',\n",
       "  '91',\n",
       "  '32',\n",
       "  '31',\n",
       "  '72',\n",
       "  '',\n",
       "  '90',\n",
       "  '88',\n",
       "  '',\n",
       "  '43',\n",
       "  '32',\n",
       "  '74',\n",
       "  '84',\n",
       "  '31',\n",
       "  '91',\n",
       "  '',\n",
       "  '37',\n",
       "  '89',\n",
       "  '80',\n",
       "  '75',\n",
       "  '90',\n",
       "  '',\n",
       "  '80',\n",
       "  '95',\n",
       "  '80',\n",
       "  '27',\n",
       "  '68',\n",
       "  '41',\n",
       "  '',\n",
       "  '66',\n",
       "  '90',\n",
       "  '',\n",
       "  '90',\n",
       "  '76',\n",
       "  '27',\n",
       "  '29',\n",
       "  '95',\n",
       "  '',\n",
       "  '87',\n",
       "  '72',\n",
       "  '58',\n",
       "  '',\n",
       "  '75',\n",
       "  '56',\n",
       "  '74',\n",
       "  '69',\n",
       "  '67',\n",
       "  '90',\n",
       "  '86',\n",
       "  '',\n",
       "  '69',\n",
       "  '92',\n",
       "  '87',\n",
       "  '44',\n",
       "  '81',\n",
       "  '',\n",
       "  '55',\n",
       "  '73',\n",
       "  '42',\n",
       "  '95',\n",
       "  '81',\n",
       "  '33',\n",
       "  '74',\n",
       "  '',\n",
       "  '89',\n",
       "  '88',\n",
       "  '69',\n",
       "  '24',\n",
       "  '51',\n",
       "  '27',\n",
       "  '91',\n",
       "  '83',\n",
       "  '',\n",
       "  '82',\n",
       "  '',\n",
       "  '81',\n",
       "  '52',\n",
       "  '76',\n",
       "  '90',\n",
       "  '90']}"
      ]
     },
     "execution_count": 11,
     "metadata": {},
     "output_type": "execute_result"
    }
   ],
   "source": [
    "Data\n"
   ]
  },
  {
   "cell_type": "code",
   "execution_count": 9,
   "metadata": {},
   "outputs": [
    {
     "data": {
      "text/plain": [
       "<div class=\"item title\" data-reactid=\"319\"><div class=\"th country\" data-reactid=\"320\"><span data-reactid=\"321\">Country</span></div><div class=\"th most_recent_year\" data-customlink=\"ss:body content\" data-reactid=\"322\"><span data-reactid=\"323\">Most Recent Year</span></div><div class=\"th most_recent_value ascendant\" data-customlink=\"ss:body content\" data-reactid=\"324\"><span data-reactid=\"325\">Most Recent Value</span></div><div class=\"th sparkline\" data-reactid=\"326\"></div></div>"
      ]
     },
     "execution_count": 9,
     "metadata": {},
     "output_type": "execute_result"
    }
   ],
   "source": [
    "# We do range(1,190) because the first element is not actually the data we want\n",
    "countries[0]"
   ]
  },
  {
   "cell_type": "code",
   "execution_count": 10,
   "metadata": {},
   "outputs": [
    {
     "data": {
      "text/plain": [
       "4"
      ]
     },
     "execution_count": 10,
     "metadata": {},
     "output_type": "execute_result"
    }
   ],
   "source": [
    "# Look to webpage to extract why we use 'class':None\n",
    "len(countries[5].find_all('div',{'class':None}))"
   ]
  },
  {
   "cell_type": "code",
   "execution_count": 11,
   "metadata": {},
   "outputs": [
    {
     "data": {
      "text/plain": [
       "[<div data-customlink=\"nl:body content\" data-text=\"Burundi\">Burundi</div>,\n",
       " <div>2017</div>,\n",
       " <div>23.50</div>,\n",
       " <div></div>]"
      ]
     },
     "execution_count": 11,
     "metadata": {},
     "output_type": "execute_result"
    }
   ],
   "source": [
    "# look at a specific country and notice that there are four elements in this list\n",
    "# Country, year, price, and the closure of div\n",
    "countries[5].find_all('div',{'class':None})"
   ]
  },
  {
   "cell_type": "code",
   "execution_count": 12,
   "metadata": {},
   "outputs": [
    {
     "data": {
      "text/plain": [
       "'Burundi'"
      ]
     },
     "execution_count": 12,
     "metadata": {},
     "output_type": "execute_result"
    }
   ],
   "source": [
    "# notice that .text removes all of the HTML content leaving only what is in quotes\n",
    "countries[5].find_all('div',{'class':None})[0].text"
   ]
  },
  {
   "cell_type": "code",
   "execution_count": 20,
   "metadata": {},
   "outputs": [
    {
     "data": {
      "text/plain": [
       "<div>10,246.14</div>"
      ]
     },
     "execution_count": 20,
     "metadata": {},
     "output_type": "execute_result"
    }
   ],
   "source": [
    "# commas in data means we cannot change to number so we replace it\n",
    "countries[188].find_all('div',{'class':None})[2]"
   ]
  }
 ],
 "metadata": {
  "kernelspec": {
   "display_name": "Python 3",
   "language": "python",
   "name": "python3"
  },
  "language_info": {
   "codemirror_mode": {
    "name": "ipython",
    "version": 3
   },
   "file_extension": ".py",
   "mimetype": "text/x-python",
   "name": "python",
   "nbconvert_exporter": "python",
   "pygments_lexer": "ipython3",
   "version": "3.8.2"
  }
 },
 "nbformat": 4,
 "nbformat_minor": 4
}
