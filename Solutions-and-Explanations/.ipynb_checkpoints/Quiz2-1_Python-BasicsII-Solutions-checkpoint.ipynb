{
 "cells": [
  {
   "cell_type": "markdown",
   "metadata": {},
   "source": [
    "## 1a. Overwrite the list below so that it is reversed order. Print the updated list\n"
   ]
  },
  {
   "cell_type": "code",
   "execution_count": 6,
   "metadata": {},
   "outputs": [
    {
     "name": "stdout",
     "output_type": "stream",
     "text": [
      "[500, 400, 300, 200, 100]\n"
     ]
    }
   ],
   "source": [
    "a_list = [100, 200, 300, 400, 500]\n",
    "\n",
    "# type solution to problem 1 below this line:\n",
    "\n",
    "\n",
    "a_list = (list(reversed(a_list)))\n",
    "\n",
    "print(a_list)"
   ]
  },
  {
   "cell_type": "markdown",
   "metadata": {},
   "source": [
    "## 1b. Now change the list so that it is back in order. Print the updated list."
   ]
  },
  {
   "cell_type": "code",
   "execution_count": 7,
   "metadata": {},
   "outputs": [
    {
     "name": "stdout",
     "output_type": "stream",
     "text": [
      "[100, 200, 300, 400, 500]\n"
     ]
    }
   ],
   "source": [
    "a_list = sorted(a_list)\n",
    "print(a_list)"
   ]
  },
  {
   "cell_type": "markdown",
   "metadata": {},
   "source": [
    "The remaining problems will rely on the dictionary `allergies` below. \n",
    "\n",
    "- *hints:* \n",
    "    1. *You may need to return to the Python-Basics I to refresh yourself on some of these methods* \n",
    "    2. *Remember to use brackets [] when making a new list and curly brackets {} when making a new dictionary.*\n",
    "    3. *When using dictionary comprehension, remember to use the .items() attribute.*"
   ]
  },
  {
   "cell_type": "code",
   "execution_count": 8,
   "metadata": {},
   "outputs": [
    {
     "name": "stdout",
     "output_type": "stream",
     "text": [
      "{'Jasmihn': {'bananas': ['itching', 'angioedema'], 'peanuts': ['anaphylaxis', 'angioedema', 'hives']}, 'Joe': {'pollen': ['itching', 'sneezing'], 'milk': ['hives', 'vomiting', 'indigestion']}, 'Sally': {'soy': ['stomach cramps'], 'shellfish': ['anaphylaxis', 'angioedema', 'hives']}}\n"
     ]
    }
   ],
   "source": [
    "allergies = {\n",
    "    'Jasmihn' : {'bananas': ['itching','angioedema'], 'peanuts': ['anaphylaxis','angioedema','hives']},\n",
    "    'Joe':{'pollen': ['itching','sneezing'], 'milk':['hives','vomiting','indigestion']},\n",
    "    'Sally':{'soy': ['stomach cramps'], 'shellfish':['anaphylaxis','angioedema','hives']}}\n",
    "\n",
    "print(allergies)"
   ]
  },
  {
   "cell_type": "markdown",
   "metadata": {},
   "source": [
    "## 2. Make a new dictionary `allergies_joe` which only includes Joe. Print the new dictionary."
   ]
  },
  {
   "cell_type": "code",
   "execution_count": 9,
   "metadata": {},
   "outputs": [
    {
     "name": "stdout",
     "output_type": "stream",
     "text": [
      "{'pollen': ['itching', 'sneezing'], 'milk': ['hives', 'vomiting', 'indigestion']}\n"
     ]
    }
   ],
   "source": [
    "# type your solution to problem 2 below this line:\n",
    "\n",
    "allergies_joe = allergies[\"Joe\"]\n",
    "\n",
    "print(allergies_joe)"
   ]
  },
  {
   "cell_type": "markdown",
   "metadata": {},
   "source": [
    "## 3. Delete (or .pop) Jasmihn from the dictionary of patients. Print the updated dictionary."
   ]
  },
  {
   "cell_type": "code",
   "execution_count": 10,
   "metadata": {},
   "outputs": [
    {
     "name": "stdout",
     "output_type": "stream",
     "text": [
      "{'Joe': {'pollen': ['itching', 'sneezing'], 'milk': ['hives', 'vomiting', 'indigestion']}, 'Sally': {'soy': ['stomach cramps'], 'shellfish': ['anaphylaxis', 'angioedema', 'hives']}}\n"
     ]
    }
   ],
   "source": [
    "# type your solution to problem 3 below this line:\n",
    "allergies.pop('Jasmihn')\n",
    "print(allergies)"
   ]
  },
  {
   "cell_type": "markdown",
   "metadata": {},
   "source": [
    "## 4. Now update the dictionary and add Jasmihn back to `allergies` (use the dictionary code provided below). Print the `allergies` dictionary so we can see you succesfully put Jasmihn back into the `allergies` dictionary."
   ]
  },
  {
   "cell_type": "code",
   "execution_count": 16,
   "metadata": {},
   "outputs": [
    {
     "data": {
      "text/plain": [
       "{'Joe': {'pollen': ['itching', 'sneezing'],\n",
       "  'milk': ['hives', 'vomiting', 'indigestion']},\n",
       " 'Sally': {'soy': ['stomach cramps'],\n",
       "  'shellfish': ['anaphylaxis', 'angioedema', 'hives']},\n",
       " 'Jasmihn': {'bananas': ['itching', 'angioedema'],\n",
       "  'peanuts': ['anaphylaxis', 'angioedema', 'hives']}}"
      ]
     },
     "execution_count": 16,
     "metadata": {},
     "output_type": "execute_result"
    }
   ],
   "source": [
    "add_this = {'Jasmihn' : {'bananas': ['itching','angioedema'], 'peanuts': ['anaphylaxis','angioedema','hives']}}\n",
    "\n",
    "allergies = dict(list(allergies.items()) + list(add_this.items()))\n",
    "allergies"
   ]
  },
  {
   "cell_type": "code",
   "execution_count": 17,
   "metadata": {},
   "outputs": [
    {
     "name": "stdout",
     "output_type": "stream",
     "text": [
      "{'Joe': {'pollen': ['itching', 'sneezing'], 'milk': ['hives', 'vomiting', 'indigestion']}, 'Sally': {'soy': ['stomach cramps'], 'shellfish': ['anaphylaxis', 'angioedema', 'hives']}, 'Jasmihn': {'bananas': ['itching', 'angioedema'], 'peanuts': ['anaphylaxis', 'angioedema', 'hives']}}\n"
     ]
    }
   ],
   "source": [
    "allergies.pop('Jasmihn')\n",
    "\n",
    "add_this = {'Jasmihn' : {'bananas': ['itching','angioedema'], 'peanuts': ['anaphylaxis','angioedema','hives']}}\n",
    "# type your solution to problem 4 below this line:\n",
    "\n",
    "allergies.update(add_this)\n",
    "print(allergies)"
   ]
  },
  {
   "cell_type": "markdown",
   "metadata": {},
   "source": [
    "## 5. Find the average for each line in the dictionary below and put this in a new dictionary named `means`. Print your solution.\n"
   ]
  },
  {
   "cell_type": "code",
   "execution_count": null,
   "metadata": {},
   "outputs": [],
   "source": [
    "numbers_dict = {1:[2,3,12,6,4],2:[2,5,7,4,1],3:[8,6,7,9,1],4:[2,6,4,12,7],5:[2,3,5,8,5]}\n",
    "\n",
    "# type your solution to problem 6 below this line:\n",
    "\n",
    "means = {key:[sum(value)/len(value)] for (key,value) in numbers_dict.items()}\n",
    "print(means)"
   ]
  }
 ],
 "metadata": {
  "kernelspec": {
   "display_name": "Python 3",
   "language": "python",
   "name": "python3"
  },
  "language_info": {
   "codemirror_mode": {
    "name": "ipython",
    "version": 3
   },
   "file_extension": ".py",
   "mimetype": "text/x-python",
   "name": "python",
   "nbconvert_exporter": "python",
   "pygments_lexer": "ipython3",
   "version": "3.8.2"
  }
 },
 "nbformat": 4,
 "nbformat_minor": 4
}
