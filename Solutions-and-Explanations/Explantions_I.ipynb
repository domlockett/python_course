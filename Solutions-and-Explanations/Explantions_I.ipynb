{
 "cells": [
  {
   "cell_type": "markdown",
   "metadata": {},
   "source": [
    "# Error in Quiz3-1_Merging-Grouping\n",
    "\n",
    "### 4. Merge\n",
    "\n",
    "- Now merge the two variables on the Year and the Country.\n",
    "- Use inner join.\n",
    "\n",
    "~~- Subset your `pop` dataset so it only includes your `Population` variable. i.e. pd.merge(life_expect, pop['Population'])~~\n",
    "- Name this merged data `merge` and display your new dataset.\n",
    "\n",
    "### 7. Group the data by State and City\n",
    "\n",
    "- Use the `.set_index` attribute of `pd.DataFrame` to change the index **(keys)** to City and State. (See line 27 of Lecture 3.1)\n",
    "\n",
    "\n",
    "- Save the new variable as `infect_index`.\n",
    "\n",
    "- Display your new dataframe."
   ]
  },
  {
   "cell_type": "markdown",
   "metadata": {},
   "source": [
    "# Saving .csv files.\n",
    "\n",
    "- Failed to mention in lecture: When you save a .csv file it is use file to save it as 'file.csv'.\n",
    "    - However, you could potentially save it as simply 'file'.\n",
    "- Both of these would still work but just be sure that you are loading them exactly as saved.\n",
    "    - You will not be able to view the raw 'file' as neatly."
   ]
  },
  {
   "cell_type": "code",
   "execution_count": 1,
   "metadata": {},
   "outputs": [],
   "source": [
    "import pandas as pd\n",
    "data = pd.read_csv('http://domlockett.github.io/website/Population.csv')\n",
    "data[1:5].to_csv('file', index= False)\n",
    "data[5:10].to_csv('file.csv')"
   ]
  },
  {
   "cell_type": "code",
   "execution_count": 2,
   "metadata": {},
   "outputs": [
    {
     "data": {
      "text/html": [
       "<div>\n",
       "<style scoped>\n",
       "    .dataframe tbody tr th:only-of-type {\n",
       "        vertical-align: middle;\n",
       "    }\n",
       "\n",
       "    .dataframe tbody tr th {\n",
       "        vertical-align: top;\n",
       "    }\n",
       "\n",
       "    .dataframe thead th {\n",
       "        text-align: right;\n",
       "    }\n",
       "</style>\n",
       "<table border=\"1\" class=\"dataframe\">\n",
       "  <thead>\n",
       "    <tr style=\"text-align: right;\">\n",
       "      <th></th>\n",
       "      <th>Time</th>\n",
       "      <th>Time Code</th>\n",
       "      <th>Country Name</th>\n",
       "      <th>Country Code</th>\n",
       "      <th>Population, total [SP.POP.TOTL]</th>\n",
       "    </tr>\n",
       "  </thead>\n",
       "  <tbody>\n",
       "    <tr>\n",
       "      <th>0</th>\n",
       "      <td>1990</td>\n",
       "      <td>YR1990</td>\n",
       "      <td>Albania</td>\n",
       "      <td>ALB</td>\n",
       "      <td>3286542.0</td>\n",
       "    </tr>\n",
       "    <tr>\n",
       "      <th>1</th>\n",
       "      <td>1990</td>\n",
       "      <td>YR1990</td>\n",
       "      <td>Algeria</td>\n",
       "      <td>DZA</td>\n",
       "      <td>25758869.0</td>\n",
       "    </tr>\n",
       "    <tr>\n",
       "      <th>2</th>\n",
       "      <td>1990</td>\n",
       "      <td>YR1990</td>\n",
       "      <td>American Samoa</td>\n",
       "      <td>ASM</td>\n",
       "      <td>47347.0</td>\n",
       "    </tr>\n",
       "    <tr>\n",
       "      <th>3</th>\n",
       "      <td>1990</td>\n",
       "      <td>YR1990</td>\n",
       "      <td>Andorra</td>\n",
       "      <td>AND</td>\n",
       "      <td>54509.0</td>\n",
       "    </tr>\n",
       "  </tbody>\n",
       "</table>\n",
       "</div>"
      ],
      "text/plain": [
       "   Time Time Code    Country Name Country Code  \\\n",
       "0  1990    YR1990         Albania          ALB   \n",
       "1  1990    YR1990         Algeria          DZA   \n",
       "2  1990    YR1990  American Samoa          ASM   \n",
       "3  1990    YR1990         Andorra          AND   \n",
       "\n",
       "   Population, total [SP.POP.TOTL]  \n",
       "0                        3286542.0  \n",
       "1                       25758869.0  \n",
       "2                          47347.0  \n",
       "3                          54509.0  "
      ]
     },
     "execution_count": 2,
     "metadata": {},
     "output_type": "execute_result"
    }
   ],
   "source": [
    "load = pd.read_csv('file')\n",
    "load1 = pd.read_csv('file.csv')\n",
    "load"
   ]
  },
  {
   "cell_type": "code",
   "execution_count": 13,
   "metadata": {},
   "outputs": [
    {
     "data": {
      "text/html": [
       "<div>\n",
       "<style scoped>\n",
       "    .dataframe tbody tr th:only-of-type {\n",
       "        vertical-align: middle;\n",
       "    }\n",
       "\n",
       "    .dataframe tbody tr th {\n",
       "        vertical-align: top;\n",
       "    }\n",
       "\n",
       "    .dataframe thead th {\n",
       "        text-align: right;\n",
       "    }\n",
       "</style>\n",
       "<table border=\"1\" class=\"dataframe\">\n",
       "  <thead>\n",
       "    <tr style=\"text-align: right;\">\n",
       "      <th></th>\n",
       "      <th>Unnamed: 0</th>\n",
       "      <th>Time</th>\n",
       "      <th>Time Code</th>\n",
       "      <th>Country Name</th>\n",
       "      <th>Country Code</th>\n",
       "      <th>Population, total [SP.POP.TOTL]</th>\n",
       "    </tr>\n",
       "  </thead>\n",
       "  <tbody>\n",
       "    <tr>\n",
       "      <th>0</th>\n",
       "      <td>5</td>\n",
       "      <td>1990</td>\n",
       "      <td>YR1990</td>\n",
       "      <td>Angola</td>\n",
       "      <td>AGO</td>\n",
       "      <td>11848386.0</td>\n",
       "    </tr>\n",
       "    <tr>\n",
       "      <th>1</th>\n",
       "      <td>6</td>\n",
       "      <td>1990</td>\n",
       "      <td>YR1990</td>\n",
       "      <td>Antigua and Barbuda</td>\n",
       "      <td>ATG</td>\n",
       "      <td>62528.0</td>\n",
       "    </tr>\n",
       "    <tr>\n",
       "      <th>2</th>\n",
       "      <td>7</td>\n",
       "      <td>1990</td>\n",
       "      <td>YR1990</td>\n",
       "      <td>Argentina</td>\n",
       "      <td>ARG</td>\n",
       "      <td>32618651.0</td>\n",
       "    </tr>\n",
       "    <tr>\n",
       "      <th>3</th>\n",
       "      <td>8</td>\n",
       "      <td>1990</td>\n",
       "      <td>YR1990</td>\n",
       "      <td>Armenia</td>\n",
       "      <td>ARM</td>\n",
       "      <td>3538171.0</td>\n",
       "    </tr>\n",
       "    <tr>\n",
       "      <th>4</th>\n",
       "      <td>9</td>\n",
       "      <td>1990</td>\n",
       "      <td>YR1990</td>\n",
       "      <td>Aruba</td>\n",
       "      <td>ABW</td>\n",
       "      <td>62149.0</td>\n",
       "    </tr>\n",
       "  </tbody>\n",
       "</table>\n",
       "</div>"
      ],
      "text/plain": [
       "   Unnamed: 0  Time Time Code         Country Name Country Code  \\\n",
       "0           5  1990    YR1990               Angola          AGO   \n",
       "1           6  1990    YR1990  Antigua and Barbuda          ATG   \n",
       "2           7  1990    YR1990            Argentina          ARG   \n",
       "3           8  1990    YR1990              Armenia          ARM   \n",
       "4           9  1990    YR1990                Aruba          ABW   \n",
       "\n",
       "   Population, total [SP.POP.TOTL]  \n",
       "0                       11848386.0  \n",
       "1                          62528.0  \n",
       "2                       32618651.0  \n",
       "3                        3538171.0  \n",
       "4                          62149.0  "
      ]
     },
     "execution_count": 13,
     "metadata": {},
     "output_type": "execute_result"
    }
   ],
   "source": [
    "load1"
   ]
  },
  {
   "cell_type": "markdown",
   "metadata": {},
   "source": [
    "# How to find out what a function does\n",
    "- To find out what a function does simply hit \\<Shift\\> + \\<Tab\\> after you have written the function!"
   ]
  },
  {
   "cell_type": "code",
   "execution_count": null,
   "metadata": {},
   "outputs": [],
   "source": [
    "print() #Shift + Tab\n",
    "sum()#Shift + Tab\n",
    "input()#Shift + Tab"
   ]
  },
  {
   "cell_type": "code",
   "execution_count": null,
   "metadata": {},
   "outputs": [],
   "source": []
  },
  {
   "cell_type": "markdown",
   "metadata": {},
   "source": [
    "# More on code blocks\n",
    "- How to end a code block?\n",
    "    - Code blocks in Python are completely controlled by your indentation.\n",
    "        - Other languages use brackets {}, semicolons; or simply `end`\n",
    "    - In Python, if you want to end a block of code you merely have to go back to the first line (no indents or spaces)"
   ]
  },
  {
   "cell_type": "code",
   "execution_count": 21,
   "metadata": {},
   "outputs": [
    {
     "name": "stdout",
     "output_type": "stream",
     "text": [
      "2\n",
      "3\n",
      "4\n",
      "time for a new chunk\n",
      "4\n",
      "6\n",
      "8\n",
      "that chunk is done\n"
     ]
    },
    {
     "data": {
      "text/plain": [
       "2"
      ]
     },
     "execution_count": 21,
     "metadata": {},
     "output_type": "execute_result"
    }
   ],
   "source": [
    "for i in range(5):\n",
    "    if i > 1:\n",
    "        print(i)\n",
    "print('time for a new chunk')\n",
    "a = 4\n",
    "while a < 10:\n",
    "    print(a)\n",
    "    a = a+2\n",
    "print('that chunk is done')\n",
    "1+1\n"
   ]
  },
  {
   "cell_type": "code",
   "execution_count": 9,
   "metadata": {},
   "outputs": [
    {
     "name": "stdout",
     "output_type": "stream",
     "text": [
      "Incorrect password.\n",
      "All done!\n"
     ]
    }
   ],
   "source": [
    "password = 'wrong'\n",
    "if password == 'apple':\n",
    "    print('Logging on ...') #single tab\n",
    "else:\n",
    "    print('Incorrect password.')\n",
    "\n",
    "print('All done!')"
   ]
  },
  {
   "cell_type": "markdown",
   "metadata": {},
   "source": [
    "## In case you didn't understand defining functions:"
   ]
  },
  {
   "cell_type": "code",
   "execution_count": 23,
   "metadata": {},
   "outputs": [
    {
     "name": "stdout",
     "output_type": "stream",
     "text": [
      "Logging on ...\n"
     ]
    }
   ],
   "source": [
    "def eval_password(password):\n",
    "    if password == 'apple':\n",
    "        print('Logging on ...') # double tab \n",
    "    else:\n",
    "        print('Incorrect password.')\n",
    "\n",
    "eval_password('apple')"
   ]
  },
  {
   "cell_type": "markdown",
   "metadata": {},
   "source": [
    "# More on While Loops"
   ]
  },
  {
   "cell_type": "markdown",
   "metadata": {},
   "source": [
    "## Syntax\n",
    "\n",
    "    while test_expression:\n",
    "        Body of while"
   ]
  },
  {
   "cell_type": "markdown",
   "metadata": {},
   "source": [
    "![](https://cdn.programiz.com/sites/tutorial2program/files/whileLoopFlowchart.jpg)"
   ]
  },
  {
   "cell_type": "code",
   "execution_count": 3,
   "metadata": {},
   "outputs": [
    {
     "name": "stdout",
     "output_type": "stream",
     "text": [
      "1\n",
      "3\n",
      "5\n",
      "7\n",
      "9\n"
     ]
    }
   ],
   "source": [
    "a = 1\n",
    "while a < 10: # state our while condition\n",
    "    print(a) # print the object for demonstration\n",
    "    a = a +2 # Here is "
   ]
  },
  {
   "cell_type": "code",
   "execution_count": 42,
   "metadata": {},
   "outputs": [
    {
     "name": "stdout",
     "output_type": "stream",
     "text": [
      "1\n",
      "2\n",
      "3\n",
      "4\n",
      "5\n",
      "6\n",
      "7\n",
      "8\n",
      "9\n",
      "10\n",
      "The sum is 50\n"
     ]
    }
   ],
   "source": [
    "# define our values\n",
    "\n",
    "sum = 0\n",
    "i = 1\n",
    "\n",
    "while i <= 10: # set a condition while our counter i is less than or equal to 10\n",
    "    sum = sum + 5 # add whatever the value i is to whatever sum is\n",
    "    print(i) # print the number for demonstration purposes\n",
    "    i = i+1    # update counter\n",
    "\n",
    "# print the sum\n",
    "print(\"The sum is\", sum)"
   ]
  },
  {
   "cell_type": "code",
   "execution_count": 4,
   "metadata": {},
   "outputs": [
    {
     "ename": "NameError",
     "evalue": "name 'i' is not defined",
     "output_type": "error",
     "traceback": [
      "\u001b[1;31m---------------------------------------------------------------------------\u001b[0m",
      "\u001b[1;31mNameError\u001b[0m                                 Traceback (most recent call last)",
      "\u001b[1;32m<ipython-input-4-397d543883c5>\u001b[0m in \u001b[0;36m<module>\u001b[1;34m\u001b[0m\n\u001b[1;32m----> 1\u001b[1;33m \u001b[0mi\u001b[0m\u001b[1;33m\u001b[0m\u001b[1;33m\u001b[0m\u001b[0m\n\u001b[0m",
      "\u001b[1;31mNameError\u001b[0m: name 'i' is not defined"
     ]
    }
   ],
   "source": [
    "i"
   ]
  },
  {
   "cell_type": "code",
   "execution_count": 26,
   "metadata": {},
   "outputs": [
    {
     "name": "stdout",
     "output_type": "stream",
     "text": [
      "1\n",
      "3\n",
      "6\n",
      "10\n",
      "15\n",
      "21\n",
      "28\n",
      "36\n",
      "45\n",
      "55\n",
      "The sum is 55\n"
     ]
    }
   ],
   "source": [
    "# initialize sum and counter\n",
    "sum = 0\n",
    "i = 1\n",
    "\n",
    "while i <= 10:\n",
    "    sum = sum + i\n",
    "    print(sum)\n",
    "    i = i+1    # update counter\n",
    "\n",
    "# print the sum\n",
    "print(\"The sum is\", sum)"
   ]
  }
 ],
 "metadata": {
  "kernelspec": {
   "display_name": "Python 3",
   "language": "python",
   "name": "python3"
  },
  "language_info": {
   "codemirror_mode": {
    "name": "ipython",
    "version": 3
   },
   "file_extension": ".py",
   "mimetype": "text/x-python",
   "name": "python",
   "nbconvert_exporter": "python",
   "pygments_lexer": "ipython3",
   "version": "3.8.2"
  }
 },
 "nbformat": 4,
 "nbformat_minor": 4
}
