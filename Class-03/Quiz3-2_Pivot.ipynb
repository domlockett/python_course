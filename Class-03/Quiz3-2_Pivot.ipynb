{
 "cells": [
  {
   "cell_type": "markdown",
   "metadata": {},
   "source": [
    "# Quiz 3-2: Pivot\n",
    "\n",
    "- This quiz will have you pivot a dataset from [data.cms.gov](https://data.cms.gov/Medicare-Inpatient/Inpatient-Prospective-Payment-System-IPPS-Provider/97k6-zzx3)\n",
    "\n",
    "    - This data is about the Inpatient Prospective Payment System [IPPS]. It includes hospital-specific charges for more than 2000 US hospitals for the top 100 most frequently billed discharges, paid under Medicare based on a rate per discharge.\n",
    "\n",
    "- During and/or (necessarily) after you have finished this quiz be sure to commit and push using GitHub Desktop.\n",
    "\n",
    "- Feel free to look back on the lecture/slides and use search engines for help.\n",
    "\n",
    "\n"
   ]
  },
  {
   "cell_type": "markdown",
   "metadata": {},
   "source": [
    "## 1. Import packages and data\n",
    "\n",
    "- Import the pandas and numpy packages.\n",
    "\n",
    "- Import the IPPS dataset:\n",
    "    - https://domlockett.github.io/website/ipps-Doms-SP4.csv\n",
    "    \n",
    "- Name the dataset `ipps`.\n",
    "\n",
    "- Display the dataset."
   ]
  },
  {
   "cell_type": "code",
   "execution_count": 11,
   "metadata": {},
   "outputs": [],
   "source": [
    "#type your solution below this line:\n"
   ]
  },
  {
   "cell_type": "markdown",
   "metadata": {},
   "source": [
    "## 2. Pivot the data.\n",
    "\n",
    "- Pivot the data so we can see the mean of `Average Total Payments` by the procedure which is the column named `DRG Definition`.\n",
    "- Sort the data by the average total payments.\n",
    "    - Save this pivot to a new variable named `costs` and sort the data by payments."
   ]
  },
  {
   "cell_type": "code",
   "execution_count": 12,
   "metadata": {},
   "outputs": [],
   "source": [
    "#type your solution below this line:\n"
   ]
  }
 ],
 "metadata": {
  "kernelspec": {
   "display_name": "Python 3",
   "language": "python",
   "name": "python3"
  },
  "language_info": {
   "codemirror_mode": {
    "name": "ipython",
    "version": 3
   },
   "file_extension": ".py",
   "mimetype": "text/x-python",
   "name": "python",
   "nbconvert_exporter": "python",
   "pygments_lexer": "ipython3",
   "version": "3.8.2"
  }
 },
 "nbformat": 4,
 "nbformat_minor": 4
}
