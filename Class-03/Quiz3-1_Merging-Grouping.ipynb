{
 "cells": [
  {
   "cell_type": "markdown",
   "metadata": {},
   "source": [
    "# Quiz 3-1: Merging and Grouping Data\n",
    "- This quiz will have you combine datasets we have previously looked at.\n",
    "\n",
    "- During and/or (necessarily) after you have finished this quiz be sure to commit and push using GitHub Desktop.\n",
    "\n",
    "- Feel free to look back on the lecture/slides and use search engines for help.\n",
    "\n",
    "\n",
    "\n",
    "\n",
    "    "
   ]
  },
  {
   "cell_type": "markdown",
   "metadata": {},
   "source": [
    "### 1. Load data\n",
    "\n",
    "- Import the pandas and numpy packages.\n",
    "\n",
    "- Load the two datasets below as variables `life_expect` and `pop`\n",
    "    - http://domlockett.github.io/website/Life_Expectancy.csv\n",
    "    - http://domlockett.github.io/website/Population.csv\n",
    "\n"
   ]
  },
  {
   "cell_type": "code",
   "execution_count": 1,
   "metadata": {},
   "outputs": [],
   "source": [
    "#type your solution to the problem below this line:\n"
   ]
  },
  {
   "cell_type": "markdown",
   "metadata": {},
   "source": [
    "### 2. life_expect.\n",
    "\n",
    "- Change the names of three `life_expect` variables: `Time`, `Country Name` and `Life expectancy at birth, total (years) [SP.DYN.LE00.IN]` to 'Year','Country', and 'life_expect'.\n",
    "- Make sure to overwrite the variable.\n",
    "- Display your updated variable."
   ]
  },
  {
   "cell_type": "code",
   "execution_count": 2,
   "metadata": {},
   "outputs": [],
   "source": [
    "#type your solution to the problem below this line:\n"
   ]
  },
  {
   "cell_type": "markdown",
   "metadata": {},
   "source": [
    "### 3. pop.\n",
    "\n",
    "- Change the names of three `pop` variables: `Time`, `Country Name` and `Population, total [SP.POP.TOTL]` to 'Year','Country', and 'Population'.\n",
    "- Now update your `pop` dataset to only include the 'Year', 'Country', and 'Population' columns.\n",
    "- Make sure to overwrite the variable.\n",
    "- Display your new variable."
   ]
  },
  {
   "cell_type": "code",
   "execution_count": 3,
   "metadata": {},
   "outputs": [],
   "source": [
    "#type your solution to the problem below this line:\n"
   ]
  },
  {
   "cell_type": "markdown",
   "metadata": {},
   "source": [
    "### 4. Merge\n",
    "\n",
    "- Now merge the two variables on the Year and the Country.\n",
    "- Use inner join.\n",
    "- Name this merged data `merge` and display your new dataset."
   ]
  },
  {
   "cell_type": "code",
   "execution_count": 4,
   "metadata": {},
   "outputs": [],
   "source": [
    "#type your solution to the problem below this line:\n"
   ]
  },
  {
   "cell_type": "code",
   "execution_count": null,
   "metadata": {},
   "outputs": [],
   "source": []
  },
  {
   "cell_type": "markdown",
   "metadata": {},
   "source": [
    "### 5. Save your new dataframe.\n",
    "\n",
    "- Name your new file `life_pop.csv`"
   ]
  },
  {
   "cell_type": "code",
   "execution_count": 5,
   "metadata": {},
   "outputs": [],
   "source": [
    "#type your solution to the problem below this line:\n"
   ]
  },
  {
   "cell_type": "markdown",
   "metadata": {},
   "source": [
    "## Grouping data"
   ]
  },
  {
   "cell_type": "markdown",
   "metadata": {},
   "source": [
    "### 6. Import the following data: \n",
    "\n",
    "- Import panda and numpy package.\n",
    " \n",
    "- Load the following data: https://domlockett.github.io/website/healthcare_infections.csv\n",
    "\n",
    "    - It is provider data reporting healthcare-related infections. \"These measures are developed by Centers for Disease Control and Prevention (CDC) and collected through the National Healthcare Safety Network (NHSN). They provide information on infections that occur while the patient is in the hospital. These infections can be related to devices, such as central lines and urinary catheters, or spread from patient to patient after contact with an infected person or surface.\" From  [data.medicare.org](https://data.medicare.gov/).\n",
    "    - It will take a moment to load.\n",
    "\n",
    "- Name this variable `health_infect`.\n",
    "\n",
    "- Display the output."
   ]
  },
  {
   "cell_type": "code",
   "execution_count": 6,
   "metadata": {},
   "outputs": [],
   "source": [
    "#type your solution to the problem below this line:\n"
   ]
  },
  {
   "cell_type": "markdown",
   "metadata": {},
   "source": [
    "### 7. Group the data by State and City\n",
    "\n",
    "- Use the `.set_index` attribute of `pd.DataFrame` to change the index to City and State.\n",
    "\n",
    "\n",
    "- Save the new variable as `infect_index`.\n",
    "\n",
    "- Display your new dataframe."
   ]
  },
  {
   "cell_type": "code",
   "execution_count": 7,
   "metadata": {},
   "outputs": [],
   "source": [
    "#type your solution to the problem below this line:\n"
   ]
  },
  {
   "cell_type": "markdown",
   "metadata": {},
   "source": [
    "### 8. Change all scores that are listed as 'Not Available' or '--'.\n",
    "- Use the `.replace()` function to change the `.Score` says 'Not Available' and '--' to 'NaN'.\n",
    "    - `.replace(['Not Available','--'],np.nan)`\n",
    "- Overwrite infect_index.Score to reflect your changes.\n",
    "    - If you only change infect_index, you will lose most of your data!\n",
    "- Display your updated dataframe."
   ]
  },
  {
   "cell_type": "code",
   "execution_count": 8,
   "metadata": {},
   "outputs": [],
   "source": [
    "#type your solution to the problem below this line:\n"
   ]
  },
  {
   "cell_type": "markdown",
   "metadata": {},
   "source": [
    "### 9. Make sure the `Score` variable is numeric.\n",
    "- Check the type of a particular value of the `Score` variable.\n",
    "- If it is non-numeric, change it to a float.\n"
   ]
  },
  {
   "cell_type": "code",
   "execution_count": 9,
   "metadata": {},
   "outputs": [],
   "source": [
    "#check the type of object of a value in the score variable:\n"
   ]
  },
  {
   "cell_type": "code",
   "execution_count": 10,
   "metadata": {},
   "outputs": [],
   "source": [
    "#type your solution to the problem below this line:\n"
   ]
  },
  {
   "cell_type": "markdown",
   "metadata": {},
   "source": [
    "### 10. Drop your NA's\n",
    "\n",
    "- Use the `.dropna()` function to get rid of instances in `Score` where there are NA's."
   ]
  },
  {
   "cell_type": "code",
   "execution_count": 11,
   "metadata": {},
   "outputs": [],
   "source": [
    "#type your solution to the problem below this line:\n"
   ]
  },
  {
   "cell_type": "markdown",
   "metadata": {},
   "source": [
    "### 11. Sort the data by Score"
   ]
  },
  {
   "cell_type": "code",
   "execution_count": 12,
   "metadata": {},
   "outputs": [],
   "source": [
    "#type your solution to the problem below this line:\n"
   ]
  }
 ],
 "metadata": {
  "kernelspec": {
   "display_name": "Python 3",
   "language": "python",
   "name": "python3"
  },
  "language_info": {
   "codemirror_mode": {
    "name": "ipython",
    "version": 3
   },
   "file_extension": ".py",
   "mimetype": "text/x-python",
   "name": "python",
   "nbconvert_exporter": "python",
   "pygments_lexer": "ipython3",
   "version": "3.8.2"
  }
 },
 "nbformat": 4,
 "nbformat_minor": 4
}
