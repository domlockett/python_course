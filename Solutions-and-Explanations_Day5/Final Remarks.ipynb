{
 "cells": [
  {
   "cell_type": "markdown",
   "metadata": {},
   "source": [
    "# Final Remarks: Topics not addressed\n",
    "- Python on your desktop.\n",
    "   - [Microsoft Visual Studio](https://visualstudio.microsoft.com/vs/).\n",
    "   - [Sublime Text](http://www.sublimetext.com).\n",
    "   - [Several Others](https://www.programiz.com/python-programming/ide).\n",
    "- These will result in a `.py` file which is more common than our `.ipynb`.\n",
    "    "
   ]
  },
  {
   "cell_type": "markdown",
   "metadata": {},
   "source": [
    "# Regular Expression for Python\n",
    "\n",
    "- [Regex](https://www.w3schools.com/python/python_regex.asp) is common across all coding platforms.\n",
    "- It is a sequence of characters that forms a seaerch pattern.\n",
    "    - Useful for getting excluding certain aspects of a variable.\n",
    "    - Or saving only certain features."
   ]
  },
  {
   "cell_type": "markdown",
   "metadata": {},
   "source": [
    "# API's\n",
    "- [Application Programming Interface's](https://towardsdatascience.com/getting-started-with-apis-in-python-to-gather-data-1185796b1ec3) are rules from a particular service or website.\n",
    "- They provide a rule or format which allow you to use commands to access the service as well as the data provided.\n",
    "    - Useful for data analysts as they allow you to make data requests."
   ]
  },
  {
   "cell_type": "markdown",
   "metadata": {},
   "source": [
    "# Geocoding\n",
    "- [Geocoding](https://gawron.sdsu.edu/python_for_ss/course_core/book_draft/geo/geopy.html) makes it easy for users to locate coordinates and addresses, cities, countries and landmarks across the globe.\n",
    "- You can use [Google Maps API](https://www.youtube.com/watch?v=UrrWxyq1Z48) to easily find out demographics for a certain zip code!"
   ]
  },
  {
   "cell_type": "markdown",
   "metadata": {},
   "source": [
    "# Thousands of useful packages\n",
    "- I have showed you what I believe are some of the most useful packages for Python, but there are thousands.\n",
    "    - Every package I showed you probably has an alternative that performs similar functions.\n",
    "- The best way to learn more about all the useful features of Python is to actually use it.\n",
    "    - Lots of frustrating hurdles to learning, but it will undoubtely make your research skills more robust."
   ]
  },
  {
   "cell_type": "markdown",
   "metadata": {},
   "source": [
    "# Websites I frequented when constructing the course\n",
    "\n",
    "- [towardsdatascience.com](https://towardsdatascience.com/tagged/python)\n",
    "- [medium.com](https://medium.com/better-programming/10-great-articles-on-python-development-6f54dd38437f)\n",
    "- [digitalocean.com](https://www.digitalocean.com/community/tags/python)\n",
    "- [stackoverflow.com](https://stackoverflow.com/)"
   ]
  },
  {
   "cell_type": "markdown",
   "metadata": {},
   "source": [
    "# Ask your department!\n",
    "- When I first started coding I stumbled on [datacamp.com](https://www.datacamp.com/)\n",
    "- This offers simple lessons with tutorials online (online Python environment simpler than any other).\n",
    "- I asked my professor about getting a department subscription and we discovered it was free!\n",
    "    - Provided to incoming students as a resource ever since!\n",
    "    - "
   ]
  }
 ],
 "metadata": {
  "kernelspec": {
   "display_name": "Python 3",
   "language": "python",
   "name": "python3"
  },
  "language_info": {
   "codemirror_mode": {
    "name": "ipython",
    "version": 3
   },
   "file_extension": ".py",
   "mimetype": "text/x-python",
   "name": "python",
   "nbconvert_exporter": "python",
   "pygments_lexer": "ipython3",
   "version": "3.8.2"
  }
 },
 "nbformat": 4,
 "nbformat_minor": 4
}
