{
 "cells": [
  {
   "cell_type": "markdown",
   "metadata": {},
   "source": [
    "# Quiz 2-2: Reading/Writing Data\n",
    "\n",
    "- In this quiz we will go over the skills we learned on reading and writing data.\n",
    "\n",
    "- In this quiz we will use data from [data.cms.gov](https://data.cms.gov/Marketplace-Pre-Existing-Condition-Insurance-Plan-/Monthly-Pre-Existing-Condition-Insurance-Plan-Enro/dpuq-z7nj).\n",
    "    - This data tracks monthly pre-existing condition insurance enrollement state-by-state.\n",
    "    \n",
    "\n",
    "- During and/or (necessarily) after you have finished this quiz be sure to commit and push using GitHub Desktop.\n",
    "\n",
    "- Feel free to look back on the lecture/slides and use search engines for help.\n",
    "\n"
   ]
  },
  {
   "cell_type": "markdown",
   "metadata": {},
   "source": [
    "## 1. Write a text file\n",
    "\n",
    "- Create a new object called `my_text`\n",
    "    \n",
    "    - This object is a character string where I want you to type the favorite course you've ever taken:\n",
    "\n",
    "        - i.e. `my_text = 'My favorite class'`\n",
    "       \n",
    "    - Write this file with the name `my_fav.txt`"
   ]
  },
  {
   "cell_type": "code",
   "execution_count": 1,
   "metadata": {},
   "outputs": [],
   "source": [
    "#write your solution to problem 1 below this line:\n",
    "    \n"
   ]
  },
  {
   "cell_type": "markdown",
   "metadata": {},
   "source": [
    "## 2. Manually load in data.\n",
    "- Manually load in the `preexisting.csv` file.\n",
    "    - The preexisting.csv is in the file folder data.\n",
    "    - Use the file call `data\\preexisting.csv` to access the data in this other folder.\n",
    "    - Print the file line by line."
   ]
  },
  {
   "cell_type": "code",
   "execution_count": 2,
   "metadata": {},
   "outputs": [],
   "source": [
    "#write your solution to problem 2 below this line:\n"
   ]
  },
  {
   "cell_type": "markdown",
   "metadata": {},
   "source": [
    "## 3. Write in data using the csv package.\n",
    "- \n",
    "    - Import the csv package\n",
    "    - Load in the entire `preexisting.csv` dataset using the `csv` package  and print the data object line by line."
   ]
  },
  {
   "cell_type": "code",
   "execution_count": 3,
   "metadata": {},
   "outputs": [],
   "source": [
    "#write your solution to problem 3 below this line:\n",
    "\n"
   ]
  },
  {
   "cell_type": "markdown",
   "metadata": {},
   "source": [
    "## 4. Write in data using the pandas package.\n",
    "- \n",
    "    - Import the pandas package.\n",
    "    - Write in the `preexisting.csv` file and print the first few observations in the data"
   ]
  },
  {
   "cell_type": "code",
   "execution_count": 4,
   "metadata": {},
   "outputs": [],
   "source": [
    "#write your solution to problem 4 below this line:\n",
    "\n"
   ]
  }
 ],
 "metadata": {
  "kernelspec": {
   "display_name": "Python 3",
   "language": "python",
   "name": "python3"
  },
  "language_info": {
   "codemirror_mode": {
    "name": "ipython",
    "version": 3
   },
   "file_extension": ".py",
   "mimetype": "text/x-python",
   "name": "python",
   "nbconvert_exporter": "python",
   "pygments_lexer": "ipython3",
   "version": "3.8.2"
  }
 },
 "nbformat": 4,
 "nbformat_minor": 4
}
