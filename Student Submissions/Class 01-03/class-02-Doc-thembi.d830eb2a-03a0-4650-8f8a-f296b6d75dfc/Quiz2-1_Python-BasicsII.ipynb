{
 "cells": [
  {
   "cell_type": "markdown",
   "metadata": {},
   "source": [
    "# Quiz 2-1: Python Basics II\n",
    "\n",
    "- Now that we have covered many of the basic functionalities of Python you can complete the following 6 questions.\n",
    "\n",
    "- It is good practice to commit and push frequently to GitHub. \n",
    "\n",
    "    - While you complete this assignment go to GitHub Desktop and commit and push your changes.\n",
    "    - At the very least you need to commit and push the completed quiz. \n",
    "    \n",
    "- Feel free to look through the previous lecture or use a search engine for help.\n",
    "\n"
   ]
  },
  {
   "cell_type": "markdown",
   "metadata": {
    "jupyter": {
     "source_hidden": true
    }
   },
   "source": [
    "## 1a. Overwrite the list below so that it is reversed order. Display the updated list.\n"
   ]
  },
  {
   "cell_type": "code",
   "execution_count": 1,
   "metadata": {},
   "outputs": [
    {
     "data": {
      "text/plain": [
       "[500, 400, 300, 200, 100]"
      ]
     },
     "execution_count": 1,
     "metadata": {},
     "output_type": "execute_result"
    }
   ],
   "source": [
    "a_list = [100, 200, 300, 400, 500]\n",
    "\n",
    "# type solution to problem 1a below this line:\n",
    "\n",
    "# reverse the sequence\n",
    "a_list = list(reversed(a_list)) \n",
    "a_list"
   ]
  },
  {
   "cell_type": "markdown",
   "metadata": {},
   "source": [
    "## 1b. Now change the list so that it is back in order. Display the updated list."
   ]
  },
  {
   "cell_type": "code",
   "execution_count": 2,
   "metadata": {},
   "outputs": [
    {
     "data": {
      "text/plain": [
       "[100, 200, 300, 400, 500]"
      ]
     },
     "execution_count": 2,
     "metadata": {},
     "output_type": "execute_result"
    }
   ],
   "source": [
    "# type solution to problem 1b below this line:\n",
    "\n",
    "#resort the sequence\n",
    "a_list = sorted(a_list)\n",
    "a_list"
   ]
  },
  {
   "cell_type": "markdown",
   "metadata": {},
   "source": [
    "Problems 2-4 will rely on the dictionary `allergies` below. Make sure you run that code block before editing your solutions. \n",
    "\n",
    "- *hints:* \n",
    "    1. *You may need to return to the Python-Basics I to refresh yourself on some of these methods*. \n",
    "    2. *Remember to use brackets [] when making a new list and curly brackets {} when making a new dictionary.*\n"
   ]
  },
  {
   "cell_type": "code",
   "execution_count": 3,
   "metadata": {},
   "outputs": [
    {
     "name": "stdout",
     "output_type": "stream",
     "text": [
      "{'Jasmihn': {'bananas': ['itching', 'angioedema'], 'peanuts': ['anaphylaxis', 'angioedema', 'hives']}, 'Joe': {'pollen': ['itching', 'sneezing'], 'milk': ['hives', 'vomiting', 'indigestion']}, 'Sally': {'soy': ['stomach cramps'], 'shellfish': ['anaphylaxis', 'angioedema', 'hives']}}\n"
     ]
    }
   ],
   "source": [
    "allergies = {\n",
    "    'Jasmihn' : {'bananas': ['itching','angioedema'], 'peanuts': ['anaphylaxis','angioedema','hives']},\n",
    "    'Joe':{'pollen': ['itching','sneezing'], 'milk':['hives','vomiting','indigestion']},\n",
    "    'Sally':{'soy': ['stomach cramps'], 'shellfish':['anaphylaxis','angioedema','hives']}}\n",
    "\n",
    "print(allergies)"
   ]
  },
  {
   "cell_type": "markdown",
   "metadata": {},
   "source": [
    "## 2. Make a new dictionary `allergies_joe` which only includes Joe. Display the new dictionary."
   ]
  },
  {
   "cell_type": "code",
   "execution_count": 4,
   "metadata": {},
   "outputs": [
    {
     "name": "stdout",
     "output_type": "stream",
     "text": [
      "{'Joe': {'pollen': ['itching', 'sneezing'], 'milk': ['hives', 'vomiting', 'indigestion']}}\n"
     ]
    }
   ],
   "source": [
    "# type your solution to problem 2 below this line:\n",
    "allergies_joe = {'Joe': {'pollen': ['itching','sneezing'], 'milk':['hives','vomiting','indigestion']}}\n",
    "    \n",
    "print(allergies_joe)\n"
   ]
  },
  {
   "cell_type": "markdown",
   "metadata": {},
   "source": [
    "## 3. Delete (or .pop) Jasmihn from the original allergies dictionary of patients. Display the updated dictionary."
   ]
  },
  {
   "cell_type": "code",
   "execution_count": 5,
   "metadata": {},
   "outputs": [
    {
     "data": {
      "text/plain": [
       "{'Joe': {'pollen': ['itching', 'sneezing'],\n",
       "  'milk': ['hives', 'vomiting', 'indigestion']},\n",
       " 'Sally': {'soy': ['stomach cramps'],\n",
       "  'shellfish': ['anaphylaxis', 'angioedema', 'hives']}}"
      ]
     },
     "execution_count": 5,
     "metadata": {},
     "output_type": "execute_result"
    }
   ],
   "source": [
    "# type your solution to problem 3 below this line:\n",
    "allergies.pop('Jasmihn')\n",
    "allergies\n"
   ]
  },
  {
   "cell_type": "markdown",
   "metadata": {},
   "source": [
    "## 4. Now update the dictionary and add Jasmihn back to `allergies` (use the `add_this` dictionary code provided below). Display the `allergies` dictionary so we can see you succesfully put Jasmihn back into the `allergies` dictionary."
   ]
  },
  {
   "cell_type": "code",
   "execution_count": 6,
   "metadata": {},
   "outputs": [
    {
     "name": "stdout",
     "output_type": "stream",
     "text": [
      "{'Joe': {'pollen': ['itching', 'sneezing'], 'milk': ['hives', 'vomiting', 'indigestion']}, 'Sally': {'soy': ['stomach cramps'], 'shellfish': ['anaphylaxis', 'angioedema', 'hives']}, 'Jasmihn': {'bananas': ['itching', 'angioedema'], 'peanuts': ['anaphylaxis', 'angioedema', 'hives']}}\n"
     ]
    }
   ],
   "source": [
    "add_this = {'Jasmihn' : {'bananas': ['itching','angioedema'], 'peanuts': ['anaphylaxis','angioedema','hives']}}\n",
    "# type your solution to problem 4 below this line:\n",
    "allergies.update(add_this)\n",
    "print(allergies)\n"
   ]
  },
  {
   "cell_type": "markdown",
   "metadata": {},
   "source": [
    "## 5. Find the average for each line in the dictionary below and put this in a new dictionary named `means`. Display your solution."
   ]
  },
  {
   "cell_type": "code",
   "execution_count": 11,
   "metadata": {},
   "outputs": [
    {
     "name": "stdout",
     "output_type": "stream",
     "text": [
      "{1: [5.4], 2: [3.8], 3: [6.2], 4: [6.2], 5: [4.6]}\n"
     ]
    }
   ],
   "source": [
    "numbers_dict = {1:[2,3,12,6,4],2:[2,5,7,4,1],3:[8,6,7,9,1],4:[2,6,4,12,7],5:[2,3,5,8,5]}\n",
    "\n",
    "# type your solution to problem 6 below this line:\n",
    "\n",
    "\n",
    "means = {key:[sum(value)/len(value)] for (key,value) in numbers_dict.items() if type(key) == int}\n",
    "\n",
    "print(means)"
   ]
  }
 ],
 "metadata": {
  "kernelspec": {
   "display_name": "Python 3",
   "language": "python",
   "name": "python3"
  },
  "language_info": {
   "codemirror_mode": {
    "name": "ipython",
    "version": 3
   },
   "file_extension": ".py",
   "mimetype": "text/x-python",
   "name": "python",
   "nbconvert_exporter": "python",
   "pygments_lexer": "ipython3",
   "version": "3.8.3"
  }
 },
 "nbformat": 4,
 "nbformat_minor": 4
}
