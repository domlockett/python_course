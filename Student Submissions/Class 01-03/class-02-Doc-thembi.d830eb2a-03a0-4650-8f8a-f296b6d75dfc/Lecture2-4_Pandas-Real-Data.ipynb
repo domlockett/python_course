{
 "cells": [
  {
   "cell_type": "markdown",
   "metadata": {},
   "source": [
    "# Lecture 2.4: Pandas and real data\n",
    "\n",
    "- We have learned a lot of basic skills and we can finally look at how you would go about importing and cleaning up data.\n",
    "- **If you have any questions over the course of this lecture, please post them to the 'Day 2 Lecture Questions' assignment on the Canvas course page.**"
   ]
  },
  {
   "cell_type": "code",
   "execution_count": null,
   "metadata": {},
   "outputs": [],
   "source": [
    "import numpy as np\n",
    "import pandas as pd\n",
    "\n",
    "# load in data\n",
    "life = pd.read_csv(\"http://domlockett.github.io/website/Life_Expectancy-copy.csv\") \n",
    "life"
   ]
  },
  {
   "cell_type": "code",
   "execution_count": null,
   "metadata": {},
   "outputs": [],
   "source": [
    "# some of these column names are a mess\n",
    "list(life.columns)"
   ]
  },
  {
   "cell_type": "code",
   "execution_count": null,
   "metadata": {},
   "outputs": [],
   "source": [
    "# Changing column names\n",
    "life = life.rename(columns={'Life expectancy at birth, total (years) [SP.DYN.LE00.IN]': 'life_expect', 'Country Name':'Country', 'Time':'Year'})\n",
    "\n",
    "#life.columns = ['Year','Year Code','Country','Country Code','Life_Expectancy']\n",
    "life\n"
   ]
  },
  {
   "cell_type": "code",
   "execution_count": null,
   "metadata": {},
   "outputs": [],
   "source": []
  },
  {
   "cell_type": "code",
   "execution_count": null,
   "metadata": {},
   "outputs": [],
   "source": [
    "# look at the unique values of the data\n",
    "\n",
    "#list(set(life.Country))[1:50]\n",
    "list(life.Country.unique())"
   ]
  },
  {
   "cell_type": "code",
   "execution_count": null,
   "metadata": {},
   "outputs": [],
   "source": [
    "# lets weed out the fake names\n",
    "\n",
    "countries = np.load('countries.npy')\n",
    "countries[0:50]"
   ]
  },
  {
   "cell_type": "code",
   "execution_count": null,
   "metadata": {},
   "outputs": [],
   "source": [
    "life = life[life.Country.isin(countries)]\n",
    "#list(set(life['Country']))[1:50]\n",
    "list(life.Country.unique())"
   ]
  },
  {
   "cell_type": "code",
   "execution_count": null,
   "metadata": {},
   "outputs": [],
   "source": [
    "life.life_expect[1]"
   ]
  },
  {
   "cell_type": "code",
   "execution_count": null,
   "metadata": {},
   "outputs": [],
   "source": [
    "type(life['life_expect'][1])"
   ]
  },
  {
   "cell_type": "code",
   "execution_count": null,
   "metadata": {},
   "outputs": [],
   "source": [
    "# we get an error here because our Na's were loaded as '..'\n",
    "#life.life_expect = life.life_expect.astype(float)\n"
   ]
  },
  {
   "cell_type": "code",
   "execution_count": null,
   "metadata": {},
   "outputs": [],
   "source": [
    "# we need a copy of the data here as odd as it seems since we will be making some changes\n",
    "#otherwise we will get warnings\n",
    "life = life.copy()\n"
   ]
  },
  {
   "cell_type": "code",
   "execution_count": null,
   "metadata": {},
   "outputs": [],
   "source": [
    "life.life_expect = life.life_expect.replace('..', np.nan)\n",
    "\n",
    "#life = life.where(life.life_expect != '..')\n",
    "\n",
    "#life = life[life.life_expect != '..']"
   ]
  },
  {
   "cell_type": "code",
   "execution_count": null,
   "metadata": {},
   "outputs": [],
   "source": [
    "life.life_expect = life.life_expect.astype(float) \n"
   ]
  },
  {
   "cell_type": "code",
   "execution_count": null,
   "metadata": {},
   "outputs": [],
   "source": [
    "type(life['life_expect'][20])"
   ]
  },
  {
   "cell_type": "code",
   "execution_count": null,
   "metadata": {},
   "outputs": [],
   "source": [
    "# now we can sort and see life expectancy but we have multiple years so its not as clear\n",
    "life.sort_values('life_expect')"
   ]
  },
  {
   "cell_type": "code",
   "execution_count": null,
   "metadata": {},
   "outputs": [],
   "source": [
    "# so lets create a new dataframe where we only look at 1 year\n",
    "\n",
    "life2017 = life.copy().where(life.Year == 2017)\n",
    "life2017"
   ]
  },
  {
   "cell_type": "code",
   "execution_count": null,
   "metadata": {},
   "outputs": [],
   "source": [
    "\n",
    "life2017.dropna().sort_values('life_expect')\n",
    "\n",
    "#life2017 = life.dropna()\n",
    "#life2017.sort_values('life_expect')"
   ]
  },
  {
   "cell_type": "code",
   "execution_count": null,
   "metadata": {},
   "outputs": [],
   "source": [
    "life.loc[2582]"
   ]
  },
  {
   "cell_type": "code",
   "execution_count": null,
   "metadata": {},
   "outputs": [],
   "source": [
    "# One way to overcome a lot of these issues is by looking at the csv before you load it\n",
    "# In the csv for life we could have altered all the '..' to NAs and skipped all those annoyances\n",
    "\n",
    "clean_life =pd.read_csv(\"http://domlockett.github.io/website/Life_Expectancy.csv\")\n",
    "\n",
    "list(clean_life.columns)\n"
   ]
  },
  {
   "cell_type": "code",
   "execution_count": null,
   "metadata": {},
   "outputs": [],
   "source": [
    "type(clean_life['life_expect'][20])"
   ]
  }
 ],
 "metadata": {
  "kernelspec": {
   "display_name": "Python 3",
   "language": "python",
   "name": "python3"
  },
  "language_info": {
   "codemirror_mode": {
    "name": "ipython",
    "version": 3
   },
   "file_extension": ".py",
   "mimetype": "text/x-python",
   "name": "python",
   "nbconvert_exporter": "python",
   "pygments_lexer": "ipython3",
   "version": "3.8.3"
  }
 },
 "nbformat": 4,
 "nbformat_minor": 4
}
