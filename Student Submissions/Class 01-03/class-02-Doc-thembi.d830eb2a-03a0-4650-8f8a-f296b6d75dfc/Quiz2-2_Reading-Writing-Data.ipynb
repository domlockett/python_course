{
 "cells": [
  {
   "cell_type": "markdown",
   "metadata": {},
   "source": [
    "# Quiz 2-2: Reading/Writing Data\n",
    "\n",
    "- In this quiz we will go over the skills we learned on reading and writing data.\n",
    "\n",
    "- In this quiz we will use data from [data.cms.gov](https://data.cms.gov/Marketplace-Pre-Existing-Condition-Insurance-Plan-/Monthly-Pre-Existing-Condition-Insurance-Plan-Enro/dpuq-z7nj).\n",
    "    - This data tracks monthly pre-existing condition insurance enrollement state-by-state.\n",
    "    \n",
    "\n",
    "- During and/or (necessarily) after you have finished this quiz be sure to commit and push using GitHub Desktop.\n",
    "\n",
    "- Feel free to look back on the lecture/slides and use search engines for help.\n",
    "\n"
   ]
  },
  {
   "cell_type": "markdown",
   "metadata": {},
   "source": [
    "## 1. Write a text file\n",
    "\n",
    "- Create a new object called `my_text`\n",
    "    \n",
    "    - This object is a character string where I want you to type the favorite course you've ever taken:\n",
    "\n",
    "        - i.e. `my_text = 'My favorite class'`\n",
    "       \n",
    "    - Write this file with the name `my_fav.txt`"
   ]
  },
  {
   "cell_type": "code",
   "execution_count": 10,
   "metadata": {},
   "outputs": [],
   "source": [
    "#write your solution to problem 1 below this line:\n",
    "ny_text = \"My favorite class is physiology!\"\n",
    "\n",
    "with open('ny-file.txt', 'w') as f: # the 'w' in open let's the function know we are writing\n",
    "    f.write(ny_text)\n"
   ]
  },
  {
   "cell_type": "code",
   "execution_count": 11,
   "metadata": {
    "slideshow": {
     "slide_type": "fragment"
    }
   },
   "outputs": [
    {
     "name": "stdout",
     "output_type": "stream",
     "text": [
      "My favorite class is physiology!\n"
     ]
    }
   ],
   "source": [
    "#check  that file was wirtten and contains string\n",
    "with open('ny-file.txt') as read_nyfile:\n",
    "    readny = read_nyfile.read()\n",
    "\n",
    "print(readny) # print to view"
   ]
  },
  {
   "cell_type": "markdown",
   "metadata": {},
   "source": [
    "## 2. Manually load in data.\n",
    "- Manually load in the `preexisting.csv` file.\n",
    "    - The preexisting.csv is in the file folder data.\n",
    "    - Use the file call `data\\preexisting.csv` to access the data in this other folder.\n",
    "    - Print the file line by line."
   ]
  },
  {
   "cell_type": "code",
   "execution_count": null,
   "metadata": {},
   "outputs": [],
   "source": [
    "with open('data\\preexisting.csv') as csv:\n",
    "    for line in csv:    #for loop to read each line\n",
    "        pre_enrol = line.strip().split(\",\") # functions \n",
    "        print(pre_enrol) # print to view"
   ]
  },
  {
   "cell_type": "markdown",
   "metadata": {},
   "source": [
    "## 3. Write in data using the csv package.\n",
    "- \n",
    "    - Import the csv package\n",
    "    - Load in the entire `preexisting.csv` dataset using the `csv` package  and print the data object line by line."
   ]
  },
  {
   "cell_type": "code",
   "execution_count": null,
   "metadata": {},
   "outputs": [],
   "source": [
    "#write your solution to problem 3 below this line:#write your solution to problem 2 below this line:\n",
    "import csv\n",
    "with open('data\\preexisting.csv') as file: # open the file\n",
    "    for nw in csv.reader(file): # for loop inorder to have csv function read each line\n",
    "        print(nw) # print to view\n",
    "        \n"
   ]
  },
  {
   "cell_type": "markdown",
   "metadata": {},
   "source": [
    "## 4. Write in data using the pandas package.\n",
    "- \n",
    "    - Import the pandas package.\n",
    "    - Write in the `preexisting.csv` file and print the first few observations in the data"
   ]
  },
  {
   "cell_type": "code",
   "execution_count": null,
   "metadata": {},
   "outputs": [],
   "source": [
    "#write your solution to problem 4 below this line:\n",
    "\n",
    "import pandas as pd\n",
    "\n",
    "data = pd.read_csv('data\\preexisting.csv') \n",
    "data.head() # first ten observations\n",
    "\n"
   ]
  }
 ],
 "metadata": {
  "kernelspec": {
   "display_name": "Python 3",
   "language": "python",
   "name": "python3"
  },
  "language_info": {
   "codemirror_mode": {
    "name": "ipython",
    "version": 3
   },
   "file_extension": ".py",
   "mimetype": "text/x-python",
   "name": "python",
   "nbconvert_exporter": "python",
   "pygments_lexer": "ipython3",
   "version": "3.8.3"
  }
 },
 "nbformat": 4,
 "nbformat_minor": 4
}
