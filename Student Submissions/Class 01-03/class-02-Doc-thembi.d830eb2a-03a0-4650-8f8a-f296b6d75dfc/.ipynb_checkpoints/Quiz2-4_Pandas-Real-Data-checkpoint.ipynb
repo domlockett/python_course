{
 "cells": [
  {
   "cell_type": "markdown",
   "metadata": {},
   "source": [
    "# Quiz 2-4: Pandas and real data\n",
    "\n",
    "- In this quiz we will go over what we have learned about using pandas to clean real data.\n",
    "\n",
    "- During and/or (necessarily) after you have finished this quiz be sure to commit and push using GitHub Desktop.\n",
    "\n",
    "- Feel free to look back on the lecture/slides and use search engines for help.\n",
    "\n"
   ]
  },
  {
   "cell_type": "markdown",
   "metadata": {},
   "source": [
    "## 1. Load dataset\n",
    "\n",
    "- Load in a dataset using this web address: https://domlockett.github.io/website/Population.csv\n",
    "   - Import the pandas package\n",
    "\n",
    "   - Name the dataset `pop`\n",
    "    \n",
    "   - Display the first 5 rows in `pop`."
   ]
  },
  {
   "cell_type": "code",
   "execution_count": 1,
   "metadata": {},
   "outputs": [],
   "source": [
    "#type your solution below this line:\n",
    "\n"
   ]
  },
  {
   "cell_type": "markdown",
   "metadata": {},
   "source": [
    "## 2. Rename Columns.\n",
    "- Rename the variable names `Time`, `Country Code` and `Population, total [SP.POP.TOTL]`.\n",
    "    - You will have to overwrite `pop`.\n",
    "    - At minimum rename these variables to 'Year','Country', and 'Population'.\n",
    "    - You may have to manually look at the column names to get the precise spacing etc. of the population variable (`list(life.columns)`)\n",
    "    - You can rename the other variables as well if you like.\n",
    "    - Display the updated variable `pop`"
   ]
  },
  {
   "cell_type": "code",
   "execution_count": 2,
   "metadata": {},
   "outputs": [],
   "source": [
    "# look up column names here\n"
   ]
  },
  {
   "cell_type": "code",
   "execution_count": 3,
   "metadata": {},
   "outputs": [],
   "source": [
    "#type your solution below this line:\n"
   ]
  },
  {
   "cell_type": "markdown",
   "metadata": {},
   "source": [
    "## 3. Subset the data by column.\n",
    "- Make a new variable named `pop2`\n",
    "    - Keep all the rows.\n",
    "    - Keep only 3 variables \"Year, Country Name and Population\".\n",
    "    - Display the first few observations of the new variable.\n",
    "    "
   ]
  },
  {
   "cell_type": "code",
   "execution_count": 4,
   "metadata": {},
   "outputs": [],
   "source": [
    "#type your solution below this line:\n"
   ]
  },
  {
   "cell_type": "markdown",
   "metadata": {},
   "source": [
    "## 4. Explore the data.\n",
    "\n",
    "- Look at the unique instances of `pop.Country`. \n",
    "    - Notice there are listings under country which are not countries."
   ]
  },
  {
   "cell_type": "code",
   "execution_count": 5,
   "metadata": {},
   "outputs": [],
   "source": [
    "# look at unique countries here:\n"
   ]
  },
  {
   "cell_type": "markdown",
   "metadata": {},
   "source": [
    "## 5. Get rid of extraneous values in `Country`\n",
    "- Use the `countries.npy` file in this directory to include only real countries.\n",
    "    - Import the NumPy package.\n",
    "    - Load in the `countries.npy` file as a variable `countries`.\n",
    "    - Use the attributes of columns to subset to only those countries in the `countries` variable.\n",
    "    - Overwrite the `pop2` variable and display the object."
   ]
  },
  {
   "cell_type": "code",
   "execution_count": 6,
   "metadata": {},
   "outputs": [],
   "source": [
    "#type your solution below this line:\n"
   ]
  },
  {
   "cell_type": "markdown",
   "metadata": {},
   "source": [
    "## 6. Remove any missing `Population` values.\n",
    "- Drop instances of NA's in the `Population` variable.\n",
    "    - Write the new data with no missing variables to a new object called `pop3`\n",
    "    - Display `pop3`"
   ]
  },
  {
   "cell_type": "code",
   "execution_count": 7,
   "metadata": {},
   "outputs": [],
   "source": [
    "#type your solution below this line: \n",
    "\n"
   ]
  },
  {
   "cell_type": "code",
   "execution_count": null,
   "metadata": {},
   "outputs": [],
   "source": []
  },
  {
   "cell_type": "markdown",
   "metadata": {},
   "source": [
    "## 7. Sort by population in 2017 only.\n",
    "- Sort and subset the data using the `.sort_values()` attribute and the `.where()` attribute.\n",
    "    - Assign this sorted and subsetted data to a new variable pop4\n"
   ]
  },
  {
   "cell_type": "code",
   "execution_count": 8,
   "metadata": {},
   "outputs": [
    {
     "ename": "NameError",
     "evalue": "name 'pd' is not defined",
     "output_type": "error",
     "traceback": [
      "\u001b[1;31m---------------------------------------------------------------------------\u001b[0m",
      "\u001b[1;31mNameError\u001b[0m                                 Traceback (most recent call last)",
      "\u001b[1;32m<ipython-input-8-718e901d9d96>\u001b[0m in \u001b[0;36m<module>\u001b[1;34m\u001b[0m\n\u001b[1;32m----> 1\u001b[1;33m \u001b[0mpd\u001b[0m\u001b[1;33m.\u001b[0m\u001b[0mset_option\u001b[0m\u001b[1;33m(\u001b[0m\u001b[1;34m'display.float_format'\u001b[0m\u001b[1;33m,\u001b[0m \u001b[1;32mlambda\u001b[0m \u001b[0mx\u001b[0m\u001b[1;33m:\u001b[0m \u001b[1;34m'%.f'\u001b[0m \u001b[1;33m%\u001b[0m \u001b[0mx\u001b[0m\u001b[1;33m)\u001b[0m \u001b[1;31m# This is to avoid scientific notation\u001b[0m\u001b[1;33m\u001b[0m\u001b[1;33m\u001b[0m\u001b[0m\n\u001b[0m\u001b[0;32m      2\u001b[0m \u001b[1;31m#type your solution below this line:\u001b[0m\u001b[1;33m\u001b[0m\u001b[1;33m\u001b[0m\u001b[1;33m\u001b[0m\u001b[0m\n",
      "\u001b[1;31mNameError\u001b[0m: name 'pd' is not defined"
     ]
    }
   ],
   "source": [
    "pd.set_option('display.float_format', lambda x: '%.f' % x) # This is to avoid scientific notation \n",
    "#type your solution below this line:\n"
   ]
  },
  {
   "cell_type": "code",
   "execution_count": null,
   "metadata": {},
   "outputs": [],
   "source": [
    "pop.loc[2582]"
   ]
  }
 ],
 "metadata": {
  "kernelspec": {
   "display_name": "Python 3",
   "language": "python",
   "name": "python3"
  },
  "language_info": {
   "codemirror_mode": {
    "name": "ipython",
    "version": 3
   },
   "file_extension": ".py",
   "mimetype": "text/x-python",
   "name": "python",
   "nbconvert_exporter": "python",
   "pygments_lexer": "ipython3",
   "version": "3.8.2"
  }
 },
 "nbformat": 4,
 "nbformat_minor": 4
}
