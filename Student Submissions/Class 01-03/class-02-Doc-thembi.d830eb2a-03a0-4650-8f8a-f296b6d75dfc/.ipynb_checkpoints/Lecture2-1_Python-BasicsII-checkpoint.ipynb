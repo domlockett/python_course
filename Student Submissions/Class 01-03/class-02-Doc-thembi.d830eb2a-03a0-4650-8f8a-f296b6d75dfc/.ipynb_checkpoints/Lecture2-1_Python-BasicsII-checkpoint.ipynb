{
 "cells": [
  {
   "cell_type": "markdown",
   "metadata": {
    "slideshow": {
     "slide_type": "slide"
    }
   },
   "source": [
    "# Welcome to Day 2!\n",
    "\n",
    "- I know that yesterday was a lot, but I think the rest of the course will be less packed moving forward.\n",
    "\n",
    "- Today we are going to go over a few key aspects to data analysis in Python.\n",
    "\n",
    "    1. More basics and subsetting data using list/dictionary comprehension.\n",
    "    2. Reading and writing text and csv files.\n",
    "    3. NumPy and Panda objects.\n",
    "    4. Handling real data!\n",
    "    \n",
    "\n",
    "- **If you have any questions over the course of this lecture, please post them to the 'Day 2 Lecture Questions' assignment on the Canvas course page.**"
   ]
  },
  {
   "cell_type": "markdown",
   "metadata": {
    "slideshow": {
     "slide_type": "slide"
    }
   },
   "source": [
    "## More Python basics\n",
    "\n",
    "- So yesterday we had a crash course in the types of data objects in Python and control flow.\n",
    "\n",
    "- Today:\n",
    "\n",
    "    - More Python basics (managing lists and dictionaries, list/dictionary comprehension)\n",
    "    - Reading/writing data into your Python environment\n",
    "    - NumPys, Pandas, and merging datasets\n",
    "\n"
   ]
  },
  {
   "cell_type": "markdown",
   "metadata": {
    "slideshow": {
     "slide_type": "slide"
    }
   },
   "source": [
    "## Common built-in Python functions"
   ]
  },
  {
   "cell_type": "code",
   "execution_count": 1,
   "metadata": {},
   "outputs": [
    {
     "data": {
      "text/plain": [
       "[0, 10, 20, 30, 40, 50, 60, 70, 80, 90, 100]"
      ]
     },
     "execution_count": 1,
     "metadata": {},
     "output_type": "execute_result"
    }
   ],
   "source": [
    "my_sequence = list(range(0,101,10)) \n",
    "my_sequence"
   ]
  },
  {
   "cell_type": "code",
   "execution_count": 2,
   "metadata": {
    "slideshow": {
     "slide_type": "slide"
    }
   },
   "outputs": [
    {
     "name": "stdout",
     "output_type": "stream",
     "text": [
      "0\n",
      "10\n",
      "20\n",
      "30\n",
      "40\n",
      "50\n",
      "60\n",
      "70\n",
      "80\n",
      "90\n",
      "100\n"
     ]
    }
   ],
   "source": [
    "\n",
    "#Yesterday we used range() but we can actual tailor it further than we saw range(start point, end point, interval)\n",
    "\n",
    "for number in my_sequence: \n",
    "    \n",
    "    print(number)           "
   ]
  },
  {
   "cell_type": "code",
   "execution_count": 3,
   "metadata": {
    "slideshow": {
     "slide_type": "slide"
    }
   },
   "outputs": [],
   "source": [
    "# reverse the sequence\n",
    "my_sequence = list(reversed(my_sequence)) # you have to wrap list around this function or use it in a for loop"
   ]
  },
  {
   "cell_type": "code",
   "execution_count": 4,
   "metadata": {},
   "outputs": [
    {
     "data": {
      "text/plain": [
       "[100, 90, 80, 70, 60, 50, 40, 30, 20, 10, 0]"
      ]
     },
     "execution_count": 4,
     "metadata": {},
     "output_type": "execute_result"
    }
   ],
   "source": [
    "my_sequence"
   ]
  },
  {
   "cell_type": "code",
   "execution_count": 5,
   "metadata": {
    "slideshow": {
     "slide_type": "fragment"
    }
   },
   "outputs": [],
   "source": [
    "#resort the sequence\n",
    "my_sequence = sorted(my_sequence)"
   ]
  },
  {
   "cell_type": "code",
   "execution_count": 6,
   "metadata": {},
   "outputs": [
    {
     "data": {
      "text/plain": [
       "[0, 10, 20, 30, 40, 50, 60, 70, 80, 90, 100]"
      ]
     },
     "execution_count": 6,
     "metadata": {},
     "output_type": "execute_result"
    }
   ],
   "source": [
    "my_sequence"
   ]
  },
  {
   "cell_type": "code",
   "execution_count": 7,
   "metadata": {},
   "outputs": [
    {
     "ename": "NameError",
     "evalue": "name 'dict1' is not defined",
     "output_type": "error",
     "traceback": [
      "\u001b[1;31m---------------------------------------------------------------------------\u001b[0m",
      "\u001b[1;31mNameError\u001b[0m                                 Traceback (most recent call last)",
      "\u001b[1;32m<ipython-input-7-5bbf025edbff>\u001b[0m in \u001b[0;36m<module>\u001b[1;34m\u001b[0m\n\u001b[1;32m----> 1\u001b[1;33m \u001b[0mdict1\u001b[0m\u001b[1;33m.\u001b[0m\u001b[0mitems\u001b[0m\u001b[1;33m(\u001b[0m\u001b[1;33m)\u001b[0m\u001b[1;33m\u001b[0m\u001b[1;33m\u001b[0m\u001b[0m\n\u001b[0m",
      "\u001b[1;31mNameError\u001b[0m: name 'dict1' is not defined"
     ]
    }
   ],
   "source": [
    "dict1.items()"
   ]
  },
  {
   "cell_type": "code",
   "execution_count": null,
   "metadata": {
    "slideshow": {
     "slide_type": "fragment"
    }
   },
   "outputs": [],
   "source": [
    "#add dictionaries together\n",
    "\n",
    "dict1 = {'key1': ['a','b','c'], 'key2': [1,2,3]}\n",
    "dict2 = {'key3': ['d','e','f'], 'key4':[4,5,6]}\n",
    "dict3 = dict(list(dict1.items()) + list(dict2.items())) # we have to use .items() attribute of a dictionary or Python only reads the object and not the content\n",
    "print(dict3)"
   ]
  },
  {
   "cell_type": "markdown",
   "metadata": {},
   "source": [
    "### Check if value is in a dictionary"
   ]
  },
  {
   "cell_type": "code",
   "execution_count": null,
   "metadata": {
    "slideshow": {
     "slide_type": "slide"
    }
   },
   "outputs": [],
   "source": [
    "# does a key exist?\n",
    "\n",
    "'key1' in dict3"
   ]
  },
  {
   "cell_type": "code",
   "execution_count": null,
   "metadata": {},
   "outputs": [],
   "source": [
    "1 in dict3"
   ]
  },
  {
   "cell_type": "code",
   "execution_count": null,
   "metadata": {},
   "outputs": [],
   "source": [
    "['a', 'b', 'c'] in dict3.values()"
   ]
  },
  {
   "cell_type": "code",
   "execution_count": null,
   "metadata": {},
   "outputs": [],
   "source": [
    "'a' in dict3.values()"
   ]
  },
  {
   "cell_type": "markdown",
   "metadata": {},
   "source": [
    "### Add and delete items from a dictionary"
   ]
  },
  {
   "cell_type": "code",
   "execution_count": null,
   "metadata": {},
   "outputs": [],
   "source": [
    "dict3"
   ]
  },
  {
   "cell_type": "code",
   "execution_count": null,
   "metadata": {
    "slideshow": {
     "slide_type": "fragment"
    }
   },
   "outputs": [],
   "source": [
    "# add a new key and value\n",
    "dict3['key5'] = 'a new item'\n",
    "print(dict3)"
   ]
  },
  {
   "cell_type": "code",
   "execution_count": null,
   "metadata": {},
   "outputs": [],
   "source": [
    "print(dict1)\n",
    "print(dict2)"
   ]
  },
  {
   "cell_type": "code",
   "execution_count": null,
   "metadata": {
    "slideshow": {
     "slide_type": "slide"
    }
   },
   "outputs": [],
   "source": [
    "# you can use update to change what is in a key.\n",
    "dict1.update({'key3': ['d', 'e', 'f'], 'key4': [7, 5, 6]})\n",
    "\n",
    "print(dict1)"
   ]
  },
  {
   "cell_type": "code",
   "execution_count": null,
   "metadata": {
    "slideshow": {
     "slide_type": "fragment"
    }
   },
   "outputs": [],
   "source": [
    "# but if you have the same key names, the content in the updated key will be REPLACED\n",
    "dict4 = {'key1':'g,h,i', 'key2': [7,8,9]}\n",
    "dict1.update(dict4)\n",
    "print(dict1)"
   ]
  },
  {
   "cell_type": "code",
   "execution_count": null,
   "metadata": {
    "slideshow": {
     "slide_type": "fragment"
    }
   },
   "outputs": [],
   "source": [
    "# delete a key\n",
    "del dict3['key5']\n",
    "print(dict3)"
   ]
  },
  {
   "cell_type": "code",
   "execution_count": null,
   "metadata": {
    "slideshow": {
     "slide_type": "fragment"
    }
   },
   "outputs": [],
   "source": [
    "# use 'pop' which deletes a key and shows you the value of the element you deleted\n",
    "\n",
    "dict3.pop('key4')"
   ]
  },
  {
   "cell_type": "code",
   "execution_count": null,
   "metadata": {
    "slideshow": {
     "slide_type": "fragment"
    }
   },
   "outputs": [],
   "source": [
    "print(dict3)"
   ]
  },
  {
   "cell_type": "markdown",
   "metadata": {
    "slideshow": {
     "slide_type": "slide"
    }
   },
   "source": [
    "## More on Lists and Dictionaries\n",
    "\n",
    "- So now that we know a little bit more about the functionality of lists and dictionaries, lets see how we can combine flow control with these objects.\n",
    "    - Subset a dataset based on a condition\n",
    "    "
   ]
  },
  {
   "cell_type": "code",
   "execution_count": null,
   "metadata": {},
   "outputs": [],
   "source": [
    "strings = ['this', 'is', 'a','class','to','get','you','initiated','with','python!']\n",
    "len(strings)"
   ]
  },
  {
   "cell_type": "code",
   "execution_count": null,
   "metadata": {
    "slideshow": {
     "slide_type": "slide"
    }
   },
   "outputs": [],
   "source": [
    "# the logic of the for loop is a little more winded but directly corresponds to list/dictionary comprehension\n",
    "# select words to view based on a condition\n",
    "\n",
    "#for value in collection:\n",
    "    # if condition is True:\n",
    "        # perform this expression\n",
    "\n",
    "for word in strings:\n",
    "    if len(word) > 3:# the len() function evaluates the length of a character\n",
    "        print(word)"
   ]
  },
  {
   "cell_type": "code",
   "execution_count": null,
   "metadata": {
    "slideshow": {
     "slide_type": "slide"
    }
   },
   "outputs": [],
   "source": [
    "# take note that in a for loop, if you want to make a list you have to add the list to every iteration\n",
    "\n",
    "for word in strings:\n",
    "    if len(word) >3:\n",
    "        a_list = [word]\n",
    "        \n",
    "print(a_list)\n",
    "\n",
    "#otherwise it will only save the last element!"
   ]
  },
  {
   "cell_type": "code",
   "execution_count": null,
   "metadata": {
    "slideshow": {
     "slide_type": "fragment"
    }
   },
   "outputs": [],
   "source": [
    "# There are a couple of ways you can update the objects in a list\n",
    "new_list = []\n",
    "for word in strings:\n",
    "    if len(word) >3:\n",
    "        new_list = new_list +[word]\n",
    "        \n",
    "print(new_list)"
   ]
  },
  {
   "cell_type": "code",
   "execution_count": null,
   "metadata": {
    "slideshow": {
     "slide_type": "subslide"
    }
   },
   "outputs": [],
   "source": [
    "# or you could make a list out side of for loop and use append\n",
    "new_list2 = []\n",
    "for word in strings:\n",
    "    if len(word) >3:\n",
    "        new_list2.append(word)\n",
    "        \n",
    "print(new_list2)"
   ]
  },
  {
   "cell_type": "markdown",
   "metadata": {
    "slideshow": {
     "slide_type": "slide"
    }
   },
   "source": [
    "## List/Dictionary Comprehension\n",
    "\n",
    "- We can make a more concise loop in lists\n",
    "\n",
    "- Lists:\n",
    "    - `[perform this expression for value in collection if condition] `\n",
    "    \n",
    "    - Must wrap it in brackets to make it a list, otherwise we would get an error.\n",
    "    \n",
    "- Dictionaries:\n",
    "    - `{key-expr : value-expr for (key,value) in collection if condition}`\n",
    "    \n",
    "    - Must be wrapped in brackets\n",
    "\n"
   ]
  },
  {
   "cell_type": "code",
   "execution_count": null,
   "metadata": {
    "slideshow": {
     "slide_type": "subslide"
    }
   },
   "outputs": [],
   "source": [
    "#List comprehension\n",
    "\n",
    "#In-built function for character strings is to make the all upper class (.upper())\n",
    "\n",
    "[i.upper() for i in strings if len(i) >3]"
   ]
  },
  {
   "cell_type": "code",
   "execution_count": null,
   "metadata": {
    "slideshow": {
     "slide_type": "fragment"
    }
   },
   "outputs": [],
   "source": [
    "# you can call i anything\n",
    "\n",
    "[word.upper() for word in strings if len(word) >3]"
   ]
  },
  {
   "cell_type": "code",
   "execution_count": null,
   "metadata": {},
   "outputs": [],
   "source": [
    "dict5"
   ]
  },
  {
   "cell_type": "code",
   "execution_count": null,
   "metadata": {
    "slideshow": {
     "slide_type": "slide"
    }
   },
   "outputs": [],
   "source": [
    "# We can do the same for dictionaries\n",
    "\n",
    "dict5 = {'animal':['bat','cat','dog'], 3: [2,3,4,5,6,7], 'state':['mo','il','in'], 4:[22,33,44,55,66,77]}\n",
    "\n",
    "\n",
    "newDict1={ key*2:value + ['add some stuff'] for (key,value) in dict5.items() if type(key)==int}\n",
    "\n",
    "# Here make a new dict where we multiply the key by two and append 'add some stuff' to the values\n",
    "\n",
    "#in our dict5 items, when the key is an interger\n",
    "print(newDict1)\n"
   ]
  },
  {
   "cell_type": "code",
   "execution_count": null,
   "metadata": {
    "slideshow": {
     "slide_type": "fragment"
    }
   },
   "outputs": [],
   "source": [
    "# in addition to making subsets, maybe you want to perform some basic analysis on your data\n",
    "\n",
    "sum(dict5[3]) # we can find the sum of a key's value\n",
    "\n"
   ]
  },
  {
   "cell_type": "code",
   "execution_count": null,
   "metadata": {
    "slideshow": {
     "slide_type": "fragment"
    }
   },
   "outputs": [],
   "source": [
    "sum(dict5[3])/len(dict5[3]) # we can find the average of a key's value"
   ]
  },
  {
   "cell_type": "code",
   "execution_count": null,
   "metadata": {},
   "outputs": [],
   "source": [
    "dict5"
   ]
  },
  {
   "cell_type": "code",
   "execution_count": null,
   "metadata": {
    "slideshow": {
     "slide_type": "slide"
    }
   },
   "outputs": [],
   "source": [
    "# or we can use dictionary comprehension to perform the analysis on specific values\n",
    "\n",
    "avg_dict5 = {key:[sum(value)/len(value)] for (key,value) in dict5.items() if type(key) == int}\n",
    "\n",
    "print(avg_dict5)"
   ]
  },
  {
   "cell_type": "code",
   "execution_count": null,
   "metadata": {
    "slideshow": {
     "slide_type": "fragment"
    }
   },
   "outputs": [],
   "source": [
    "newDict2 ={i + ' word' : j + ['Neat'] for (i,j) in dict5.items() if type(i) == str}\n",
    "# Here make a new dict where we add the word 'word' to the key and append 'neat' to the values\n",
    "#in our dict5 items, when the key is an character\n",
    "\n",
    "print(newDict2)\n"
   ]
  },
  {
   "cell_type": "code",
   "execution_count": null,
   "metadata": {
    "slideshow": {
     "slide_type": "fragment"
    }
   },
   "outputs": [],
   "source": [
    "\n",
    "newDict3 = {key:value for (key,value)  in dict5.items() if len(value) <6}\n",
    "# Here make a new dict where we only include items in which the value has less 6 items in its list\n",
    "\n",
    "print(newDict3)"
   ]
  }
 ],
 "metadata": {
  "kernelspec": {
   "display_name": "Python 3",
   "language": "python",
   "name": "python3"
  },
  "language_info": {
   "codemirror_mode": {
    "name": "ipython",
    "version": 3
   },
   "file_extension": ".py",
   "mimetype": "text/x-python",
   "name": "python",
   "nbconvert_exporter": "python",
   "pygments_lexer": "ipython3",
   "version": "3.8.2"
  }
 },
 "nbformat": 4,
 "nbformat_minor": 4
}
