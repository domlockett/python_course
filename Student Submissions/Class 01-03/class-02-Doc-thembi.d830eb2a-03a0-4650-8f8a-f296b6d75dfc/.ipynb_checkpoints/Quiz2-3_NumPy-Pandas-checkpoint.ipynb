{
 "cells": [
  {
   "cell_type": "markdown",
   "metadata": {},
   "source": [
    "# Quiz 2-3: NumPy's and pandas\n",
    "\n",
    "- In this quiz we will go over what we have learned about the NumPy and pandas packages.\n",
    "\n",
    "- During and/or (necessarily) after you have finished this quiz be sure to commit and push using GitHub Desktop.\n",
    "\n",
    "- Feel free to look back on the lecture/slides and use search engines for help.\n",
    "\n"
   ]
  },
  {
   "cell_type": "markdown",
   "metadata": {},
   "source": [
    "# NumPy"
   ]
  },
  {
   "cell_type": "markdown",
   "metadata": {},
   "source": [
    "## 1. Loading NumPy's\n",
    "- Load the NumPy package.\n",
    "    - Create a variable called `npm1` by loading in in the .npy file named `quiz2-3.npy`\n"
   ]
  },
  {
   "cell_type": "code",
   "execution_count": 2,
   "metadata": {},
   "outputs": [],
   "source": [
    "#type your solution below this line:"
   ]
  },
  {
   "cell_type": "markdown",
   "metadata": {},
   "source": [
    "## 2. Create a NumPy\n",
    "\n",
    "- Create a NumPy array variable named `nmp2` of the same dimensions as `nmp1` (3x4)\n",
    "    - You can either create it manually and type in arbitrary numbers or you can use the `np.random.randint()` function and specify the correct `size=`"
   ]
  },
  {
   "cell_type": "code",
   "execution_count": 3,
   "metadata": {},
   "outputs": [],
   "source": [
    "#type your solution below this line:"
   ]
  },
  {
   "cell_type": "markdown",
   "metadata": {},
   "source": [
    "## 3. Show whether the elements of `nmp1` are greater than `nmp2`"
   ]
  },
  {
   "cell_type": "code",
   "execution_count": 4,
   "metadata": {},
   "outputs": [],
   "source": [
    "#type your solution below this line:"
   ]
  },
  {
   "cell_type": "markdown",
   "metadata": {},
   "source": [
    "## 4. Add the two variables together.\n",
    "\n",
    "- Add the variables together to make a new variable `nmp3`\n",
    "    - Display `nmp3`"
   ]
  },
  {
   "cell_type": "code",
   "execution_count": 5,
   "metadata": {},
   "outputs": [],
   "source": [
    "#type your solution below this line:"
   ]
  },
  {
   "cell_type": "markdown",
   "metadata": {},
   "source": [
    "## 5. Find the mean of `nmp3`."
   ]
  },
  {
   "cell_type": "code",
   "execution_count": 6,
   "metadata": {},
   "outputs": [],
   "source": [
    "#type your solution below this line:"
   ]
  },
  {
   "cell_type": "markdown",
   "metadata": {},
   "source": [
    "## 6. Save `nmp3` as a file named `problem5`"
   ]
  },
  {
   "cell_type": "code",
   "execution_count": 7,
   "metadata": {},
   "outputs": [],
   "source": [
    "#type your solution below this line:"
   ]
  },
  {
   "cell_type": "markdown",
   "metadata": {},
   "source": [
    "# Panda dataframes and data wrangling"
   ]
  },
  {
   "cell_type": "markdown",
   "metadata": {},
   "source": [
    "## 7. Create a dictionary and convert it to a panda.\n",
    "\n",
    " - Name your new dictionary `fam` in which lists three people in your family.\n",
    "\n",
    "    - This will be a nested dictionary.\n",
    "        - First list their names.\n",
    "        - Then make another dictionary for each person which includes thier age, relationship and gender.\n",
    "        - example:\n",
    "        \n",
    "                `myfamily={\n",
    "                   \"Name1\": {\n",
    "                     \"age\": x,\n",
    "                     \"relationship\":'y',\n",
    "                     \"gender\":'z' } \n",
    "                     }`\n",
    "     - Convert this dictionary into a pandas dataframe variable named `myfamily`\n",
    "     - Display your dataframe.\n"
   ]
  },
  {
   "cell_type": "code",
   "execution_count": null,
   "metadata": {},
   "outputs": [],
   "source": [
    "#type your solution below this line:"
   ]
  },
  {
   "cell_type": "markdown",
   "metadata": {},
   "source": [
    "## 8. Now transpose you dictionary to a more sensible format (each person is a row)\n",
    "- Transposing the variable will not alone overwrite it.\n",
    "    - Overwrite the `myfamily` variable with the transposed variable.\n",
    "    - Display your updated panda dataframe."
   ]
  },
  {
   "cell_type": "code",
   "execution_count": null,
   "metadata": {},
   "outputs": [],
   "source": [
    "#type your solution below this line:"
   ]
  },
  {
   "cell_type": "markdown",
   "metadata": {},
   "source": [
    "## 9. Save your transformed panda into a .csv file \n",
    "- Name the file `my_family`."
   ]
  },
  {
   "cell_type": "code",
   "execution_count": null,
   "metadata": {},
   "outputs": [],
   "source": [
    "#type your solution below this line:"
   ]
  },
  {
   "cell_type": "markdown",
   "metadata": {},
   "source": [
    "## 10. Make and edit a dataframe.\n",
    "- ### A. Create a copy of `df` below (be sure to load the code chunck that includes `df`) named `df2` that does not impact the original dataframe when altered.\n",
    "- ### B. Add a new column `E` to the dataset which is equal to 'yes' if column `B` is less than 50 and 'no' otherwise. Display your updated dataframe.\n",
    "- ### C. Make all the column names (`A`,`B`,`C`,`D`,`E`) lowercase. Display your updated dataframe."
   ]
  },
  {
   "cell_type": "code",
   "execution_count": null,
   "metadata": {},
   "outputs": [],
   "source": [
    "df = pd.DataFrame(np.random.randint(0,100,size=(100, 4)), columns=list('ABCD')) #np.random.randint(start.value, end.value., size = (#rows, #columns))\n",
    "df"
   ]
  },
  {
   "cell_type": "code",
   "execution_count": null,
   "metadata": {},
   "outputs": [],
   "source": [
    "#type your solution to A below this line:"
   ]
  },
  {
   "cell_type": "code",
   "execution_count": null,
   "metadata": {},
   "outputs": [],
   "source": [
    "#type your solution to B below this line:"
   ]
  },
  {
   "cell_type": "code",
   "execution_count": null,
   "metadata": {},
   "outputs": [],
   "source": [
    "#type your solution to C below this line:"
   ]
  }
 ],
 "metadata": {
  "kernelspec": {
   "display_name": "Python 3",
   "language": "python",
   "name": "python3"
  },
  "language_info": {
   "codemirror_mode": {
    "name": "ipython",
    "version": 3
   },
   "file_extension": ".py",
   "mimetype": "text/x-python",
   "name": "python",
   "nbconvert_exporter": "python",
   "pygments_lexer": "ipython3",
   "version": "3.8.2"
  }
 },
 "nbformat": 4,
 "nbformat_minor": 4
}
