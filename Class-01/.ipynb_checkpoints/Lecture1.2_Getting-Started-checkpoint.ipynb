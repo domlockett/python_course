{
 "cells": [
  {
   "cell_type": "markdown",
   "metadata": {
    "slideshow": {
     "slide_type": "slide"
    }
   },
   "source": [
    "---\n",
    "\n",
    "# Getting Started\n",
    "\n",
    "- Zoom\n",
    "- Python 3.8.2\n",
    "- JupyterLab\n",
    "- GitHub\n",
    "- **If you have any questions over the course of this lecture, please post them to the 'Day 1 Lecture Questions' assignment on the Canvas course page.**"
   ]
  },
  {
   "cell_type": "markdown",
   "metadata": {
    "slideshow": {
     "slide_type": "slide"
    }
   },
   "source": [
    "---\n",
    "\n",
    "## Zoom\n",
    "\n",
    "- It is likely you already have it, but be sure to install [Zoom](https://zoom.us/)."
   ]
  },
  {
   "cell_type": "markdown",
   "metadata": {
    "slideshow": {
     "slide_type": "slide"
    }
   },
   "source": [
    "---\n",
    "\n",
    "## Python  3.8.2\n",
    "\n",
    "- The first task is to download the latest version of Python.\n",
    "    - To do so, just navigate [here](https://www.python.org/downloads/).\n",
    "    \n",
    "\n",
    "<img src=\"images/intall_PATH.png\" width=\"400\">\n"
   ]
  },
  {
   "cell_type": "markdown",
   "metadata": {
    "slideshow": {
     "slide_type": "fragment"
    }
   },
   "source": [
    "- When installing Python you **must** install Python into your PATH for the program to be able to function properly.\n",
    "- Installing Python into your PATH allows you to use Python directly from your command prompt, which will make the various tasks throughout this course much easier."
   ]
  },
  {
   "cell_type": "markdown",
   "metadata": {
    "slideshow": {
     "slide_type": "slide"
    }
   },
   "source": [
    "---\n",
    "\n",
    "## Jupyter Notebook\n",
    "\n",
    "- Jupyter Notebook is the web application which will run the Python interface.\n",
    "    "
   ]
  },
  {
   "cell_type": "markdown",
   "metadata": {
    "slideshow": {
     "slide_type": "fragment"
    }
   },
   "source": [
    "- It creates an interactive document for code, text, and data visualizations as well as other outputs."
   ]
  },
  {
   "cell_type": "markdown",
   "metadata": {
    "slideshow": {
     "slide_type": "fragment"
    }
   },
   "source": [
    "- Languages like R and Python run from a command line, however, we typically use an integrated development environment (IDE) like RStudio or Microsoft Visual Studio which allows you to edit and run code. This takes the complexity out of coding from your command prompt.\n"
   ]
  },
  {
   "cell_type": "markdown",
   "metadata": {
    "slideshow": {
     "slide_type": "fragment"
    }
   },
   "source": [
    "\n",
    "- Jupyter Notebook allows all of these functions to occur on a web interface while saving all of the scripts to your personal computer."
   ]
  },
  {
   "cell_type": "markdown",
   "metadata": {
    "slideshow": {
     "slide_type": "slide"
    }
   },
   "source": [
    "---\n",
    "\n",
    "## JupyterLab\n",
    "\n",
    "- JupyterLab is the newest iteration of Jupyter Notebook and offers an easy-to-use interface.\n",
    " \n",
    "- To install Jupyter Lab simply open your Command Prompt and input `pip install jupyter lab`\n",
    "\n",
    "<img src=\"images/jupyterlab.png\" width=\"600\">\n",
    "\n"
   ]
  },
  {
   "cell_type": "markdown",
   "metadata": {
    "slideshow": {
     "slide_type": "slide"
    }
   },
   "source": [
    "---\n",
    "\n",
    "## JupyterLab\n",
    "\n",
    "- If you installed Python directly into your PATH as instructed, this should run seemlesly.\n",
    "\n",
    "- Once the installation is done running you will be able to run `jupyter lab` into your Command Prompt and this will open a window on your default web browser.\n",
    "\n",
    "<img src=\"images/lab1.png\" width=\"600\">\n",
    "\n",
    "---"
   ]
  },
  {
   "cell_type": "markdown",
   "metadata": {
    "slideshow": {
     "slide_type": "slide"
    }
   },
   "source": [
    "---\n",
    "\n",
    "## GitHub\n",
    "\n",
    "- The last part of your setup involves setting up your GitHub.\n",
    "\n",
    "\n",
    "\n",
    "\n"
   ]
  },
  {
   "cell_type": "markdown",
   "metadata": {
    "slideshow": {
     "slide_type": "fragment"
    }
   },
   "source": [
    "- If you do not already have an account, you will need to go to [github.com](https://github.com/) and make a new profile.\n"
   ]
  },
  {
   "cell_type": "markdown",
   "metadata": {
    "slideshow": {
     "slide_type": "fragment"
    }
   },
   "source": [
    "- You will then need to download [GitHub Desktop](https://desktop.github.com/) so that the repositories will be stored onto your personal device as well as on the GitHub website. This will allow you to use GitHub and JupyterLab together.\n"
   ]
  },
  {
   "cell_type": "markdown",
   "metadata": {
    "slideshow": {
     "slide_type": "fragment"
    }
   },
   "source": [
    "- For our class we will be using GitHub Classroom which allows each of you to have your own copy of the repositories used in this class.\n",
    "\n",
    "    - A repository is a directory or storage page where I will have files related to each class which you can access.\n"
   ]
  },
  {
   "cell_type": "markdown",
   "metadata": {
    "slideshow": {
     "slide_type": "fragment"
    }
   },
   "source": [
    "- Once you have Python, JupyterLab, and GitHub Desktop installed you can begin our first assignment."
   ]
  },
  {
   "cell_type": "markdown",
   "metadata": {
    "slideshow": {
     "slide_type": "slide"
    }
   },
   "source": [
    "---\n",
    "\n",
    "## The rest of today's Lecture\n",
    "\n",
    "- Activity 0-1\n",
    "\n",
    "    - A couple of small tasks to illustrate how you will be using JupyterLab and GitHub to turn in your assignments.\n",
    "\n"
   ]
  },
  {
   "cell_type": "markdown",
   "metadata": {
    "slideshow": {
     "slide_type": "fragment"
    }
   },
   "source": [
    "- Lecture and Activity 1-1\n",
    "        \n",
    "    - Go over some Python Basics."
   ]
  }
 ],
 "metadata": {
  "celltoolbar": "Slideshow",
  "kernelspec": {
   "display_name": "Python 3",
   "language": "python",
   "name": "python3"
  },
  "language_info": {
   "codemirror_mode": {
    "name": "ipython",
    "version": 3
   },
   "file_extension": ".py",
   "mimetype": "text/x-python",
   "name": "python",
   "nbconvert_exporter": "python",
   "pygments_lexer": "ipython3",
   "version": "3.8.2"
  }
 },
 "nbformat": 4,
 "nbformat_minor": 4
}
