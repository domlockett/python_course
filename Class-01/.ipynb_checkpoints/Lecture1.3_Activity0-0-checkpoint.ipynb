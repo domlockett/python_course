{
 "cells": [
  {
   "cell_type": "markdown",
   "metadata": {
    "slideshow": {
     "slide_type": "subslide"
    }
   },
   "source": [
    "  \n",
    "---\n",
    "# Activity 0-0\n",
    "\n",
    "- The purpose of this task is to get you oriented with the operation and work flow of this class. \n",
    "\n",
    "    - We will go through steps that will show you how to accomplish each day's activities and quizzes.\n",
    "    \n"
   ]
  },
  {
   "cell_type": "markdown",
   "metadata": {
    "slideshow": {
     "slide_type": "slide"
    }
   },
   "source": [
    "\n",
    "---\n",
    "\n",
    "# Activity 0-0\n",
    "\n",
    "- This assignment will be slightly different than most others.\n",
    "    - A hybrid lecture activity.\n",
    "\n",
    "    - For the majority of assignments you will be asked to edit the 'QuizX-X.ipynb' document directly and then 'push' this document to the GitHub repository.\n",
    "    \n",
    "        - If you do not know what 'pushing' a document is, that's okay. For now consider it a way to upload your progress on an assignment.\n",
    "    \n",
    "    - For this first activity you will follow along with the instructions throughout this document and once you have completed all the tasks, I will ask you to create a new file which you will then push to your repository.\n",
    "  \n",
    "- **If you have any questions over the course of this lecture, please post them to the 'Day 1 Lecture Questions' assignment on the Canvas course page.**"
   ]
  },
  {
   "cell_type": "markdown",
   "metadata": {
    "slideshow": {
     "slide_type": "slide"
    }
   },
   "source": [
    "---\n",
    "  \n",
    "## Step 1: Download your repository\n",
    "\n",
    "- The initial step you need to take is to log on to the Canvas course page. There you will see a module which gives you the link to each day's course content. Open the link to `Day 1` and connect your GitHub account.\n",
    "<img src=\"images/Step1.gif\" width=\"500\">\n"
   ]
  },
  {
   "cell_type": "markdown",
   "metadata": {
    "slideshow": {
     "slide_type": "subslide"
    }
   },
   "source": [
    "---\n",
    "\n",
    "## Step 1: Download your repository\n",
    "\n",
    "- Next you will connect the repository to your own account. And accept the assignment. \n",
    "\n",
    "<img src=\"images/Step2.gif\" width=\"500\">\n"
   ]
  },
  {
   "cell_type": "markdown",
   "metadata": {
    "slideshow": {
     "slide_type": "slide"
    }
   },
   "source": [
    "---\n",
    "\n",
    "## Step 1: Download your repository\n",
    "\n",
    "- Now you will go to your new repository and hit `clone or download` and then `Open GitHubDesktop` to put this repository into the directory of your personal computer.\n",
    "\n",
    "<img src=\"images/Step3.gif\" width=\"600\">\n",
    "\n",
    "\n",
    "\n"
   ]
  },
  {
   "cell_type": "markdown",
   "metadata": {
    "slideshow": {
     "slide_type": "subslide"
    }
   },
   "source": [
    "---\n",
    "\n",
    "## Step 2: Save it to your local directory\n",
    "\n",
    "- When you download the repository make sure you save it to a useful location you can easily access.\n",
    "\n",
    "<img src=\"images/directory.png\" width=\"600\">"
   ]
  },
  {
   "cell_type": "markdown",
   "metadata": {
    "slideshow": {
     "slide_type": "slide"
    }
   },
   "source": [
    "---\n",
    "\n",
    "## Step 3: Get running in Jupyter Lab\n",
    "\n",
    "- This part of the activity assumes that you installed Python and Jupyter Lab correctly. If you have, it should be very simple.\n",
    "\n",
    "- Open your Command Prompt and type in `jupyter lab`.\n",
    "\n",
    "<img src=\"images/jupyterlab1.png\" width=\"600\">\n"
   ]
  },
  {
   "cell_type": "markdown",
   "metadata": {
    "slideshow": {
     "slide_type": "subslide"
    }
   },
   "source": [
    "---\n",
    "\n",
    "## Step 2: Get running in Jupyter Lab\n",
    "\n",
    "-JupyterLab will open on your default browser and from there you will navigate to the directory in which your repository is saved.\n",
    "\n",
    "<img src=\"images/Step4.gif\" width=\"500\">\n",
    "\n",
    "- Important note: If you close the Command Prompt or JupyterLab browser, they are no longer in communication with each other and any progress you may have made will not be saved. \n"
   ]
  },
  {
   "cell_type": "markdown",
   "metadata": {
    "slideshow": {
     "slide_type": "slide"
    }
   },
   "source": [
    "---\n",
    "\n",
    "# Congratulations!\n",
    "\n",
    "- If this is your first time using GitHub and JupyterLab it was a lot to initiate yourself with, but now you've done it.\n",
    "\n",
    "- Now I want to show you how to properly use JupyterLab and Github to upload your assignments.\n",
    "\n"
   ]
  },
  {
   "cell_type": "markdown",
   "metadata": {
    "slideshow": {
     "slide_type": "slide"
    }
   },
   "source": [
    "---\n",
    "\n",
    "## The rest of today's Lecture\n",
    "\n",
    "- Activity 0-1\n",
    "\n",
    "    - A couple of small tasks to illustrate how you will be using JupyterLab and GitHub to turn in your assignments.\n",
    "\n",
    "\n",
    "- Lecture and Activity 1-1\n",
    "        \n",
    "    - Go over some Python Basics."
   ]
  }
 ],
 "metadata": {
  "celltoolbar": "Slideshow",
  "kernelspec": {
   "display_name": "Python 3",
   "language": "python",
   "name": "python3"
  },
  "language_info": {
   "codemirror_mode": {
    "name": "ipython",
    "version": 3
   },
   "file_extension": ".py",
   "mimetype": "text/x-python",
   "name": "python",
   "nbconvert_exporter": "python",
   "pygments_lexer": "ipython3",
   "version": "3.8.2"
  }
 },
 "nbformat": 4,
 "nbformat_minor": 4
}
