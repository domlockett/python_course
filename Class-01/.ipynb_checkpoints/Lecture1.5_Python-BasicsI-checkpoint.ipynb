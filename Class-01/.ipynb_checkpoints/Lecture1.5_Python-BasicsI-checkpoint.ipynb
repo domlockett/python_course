{
 "cells": [
  {
   "cell_type": "markdown",
   "metadata": {
    "slideshow": {
     "slide_type": "slide"
    }
   },
   "source": [
    "# Lecture 1.5: Python Basics\n",
    "\n",
    "- In the final portion of today's lecture we will go over some of the basic functions of Python.\n",
    "\n",
    "    - Indentation and comments\n",
    "    - Object-oriented programming\n",
    "    - Variables and arguments\n",
    "    - Indexing \n",
    "    - Types\n",
    "    - Attributes\n",
    "    - Mutable and immutable\n",
    "    - Imports\n",
    "    - Control flow\n",
    "    - Functions\n",
    "    \n",
    "- **If you have any questions over the course of this lecture, please post them to the 'Day 1 Lecture Questions' assignment on the Canvas course page.**    \n",
    "---\n"
   ]
  },
  {
   "cell_type": "markdown",
   "metadata": {},
   "source": [
    "## A note about using JupyterLab or Notebook\n",
    "\n",
    "- In many instances you may want to follow along and run the code yourself or change what's in the code to test your understanding.\n",
    "\n",
    "- This is perfectly fine but take note:\n",
    "    \n",
    "    - Even though all of the code runs when you open it, the data is not saved.\n",
    "    \n",
    "    - Certain variables, modules, and functions will not work unless you physically run them yourself.\n",
    "    \n",
    "        - Run the code as you follow along.\n",
    "        - In the top right, click on `Run` and select `Run All Cells`"
   ]
  },
  {
   "cell_type": "markdown",
   "metadata": {},
   "source": [
    "## Math\n",
    "\n",
    "- A good place to begin is to highlight several ways we can do math in Python.\n",
    "\n",
    "| Operation |                                               What is returned |\n",
    "|-----------|---------------------------------------------------------------:|\n",
    "| y+z       |                                             Sum of `y` and `z` |\n",
    "| y-z       |                                     Difference of `z` from `y` |\n",
    "| `y*z`     |                                         Product of `y` and `z` |\n",
    "| y/z       |                                        Quotient of `y` and `z` |\n",
    "| y//z      | Quotient from floor division of `y` and `z` (the whole number) |\n",
    "| y%z       |                                             Remainder of `y/z` |\n",
    "| `y**z`    |                                        `y` to the power of `z` |\n",
    "| y==z      |                                       `True` if `y` equals `z` |\n",
    "| y!=z      |                                `True` if `y` does not equal `z`|\n",
    "| y <=z, y<z|            `True` if `y` is less than (less than or equal to) z|\n",
    "| y >=z, y>z|     `True` if `y` is greater than (greater than or equal to) z |"
   ]
  },
  {
   "cell_type": "markdown",
   "metadata": {
    "slideshow": {
     "slide_type": "slide"
    }
   },
   "source": [
    "## Indentation and Comments\n",
    "\n",
    "- In python, whitespace is used to structure code rather than braces like in R, C++, or Java.\n",
    "\n",
    "- Lucky for us Jupyter tries to intuit the indentations we will need for our code.\n",
    "\n",
    "- Have a look at the following example:"
   ]
  },
  {
   "cell_type": "code",
   "execution_count": 121,
   "metadata": {
    "slideshow": {
     "slide_type": "fragment"
    }
   },
   "outputs": [
    {
     "name": "stdout",
     "output_type": "stream",
     "text": [
      "small\n",
      "small\n",
      "small\n",
      "large\n",
      "large\n",
      "large\n"
     ]
    }
   ],
   "source": [
    "\n",
    "# <- a pound sign creates a comment\n",
    "# Here range(6) tells us that we want numbers 0-5 and we have created an object x which includes these numbers\n",
    "\n",
    "x = range(6)\n",
    "for i in x: # for each value (i) in x run the following analysis\n",
    "    if i < 3:\n",
    "        print('small') # if value i is smaller than 3 print the word small\n",
    "    else:\n",
    "        print('large') # else (if value i is larger than 3) print the word large"
   ]
  },
  {
   "cell_type": "markdown",
   "metadata": {
    "slideshow": {
     "slide_type": "slide"
    }
   },
   "source": [
    "## Indentation and Comments\n"
   ]
  },
  {
   "cell_type": "code",
   "execution_count": 122,
   "metadata": {
    "slideshow": {
     "slide_type": "fragment"
    }
   },
   "outputs": [
    {
     "name": "stdout",
     "output_type": "stream",
     "text": [
      "small\n",
      "small\n",
      "small\n",
      "large\n",
      "large\n",
      "large\n"
     ]
    }
   ],
   "source": [
    "\n",
    "# <- a pound sign creates a comment\n",
    "# Here range(6) tells us that we want numbers 0-5 and we have created an object x which includes these numbers\n",
    "\n",
    "x = range(6)\n",
    "for i in x: # for each value (i) in x run the following analysis\n",
    "    if i < 3:\n",
    "        print('small') # if value i is smaller than 3 print the word small\n",
    "    else:\n",
    "        print('large') # else (if value i is larger than 3) print the word large"
   ]
  },
  {
   "cell_type": "markdown",
   "metadata": {
    "slideshow": {
     "slide_type": "fragment"
    }
   },
   "source": [
    "- A colon tells Python we want all the code after the colon to be part of the same block until we end that block.\n",
    "\n",
    "- A pound sign is ignored by Python and let's the user leave notes on their code.\n",
    "\n",
    "- The range function starts at 0 and ends at the number prior to the value you call.\n",
    "\n",
    "    - i.e. range(6) = [0,1,2,3,4,5] NOT [1,2,3,4,5,6]"
   ]
  },
  {
   "cell_type": "markdown",
   "metadata": {
    "slideshow": {
     "slide_type": "slide"
    }
   },
   "source": [
    "## Indentation and Comments\n",
    "\n",
    "- We don't necessarily need semicolons for any particular function in Python, but if we want multiple statements on a single line, semicolons offer a neat solution."
   ]
  },
  {
   "cell_type": "code",
   "execution_count": 123,
   "metadata": {
    "slideshow": {
     "slide_type": "fragment"
    }
   },
   "outputs": [
    {
     "name": "stdout",
     "output_type": "stream",
     "text": [
      "MPH\n",
      "5976\n"
     ]
    },
    {
     "data": {
      "text/plain": [
       "'Brown School'"
      ]
     },
     "execution_count": 123,
     "metadata": {},
     "output_type": "execute_result"
    }
   ],
   "source": [
    "a='MPH'; b='5976'; c='Brown School'\n",
    "print(a);print(b);c  # we do not have to type print every time. Just calling on the object will display its content"
   ]
  },
  {
   "cell_type": "markdown",
   "metadata": {
    "slideshow": {
     "slide_type": "slide"
    }
   },
   "source": [
    "## Object-Oriented Programming\n",
    "\n",
    "- Python, like many languages, is object-oriented. \n",
    "\n",
    "    - This means every, character string, number, function, class or data structure exists in its own 'box'.\n",
    "    - Each object has a type or class and each type has an associated method.\n",
    "        - We will get more into these concepts later."
   ]
  },
  {
   "cell_type": "markdown",
   "metadata": {
    "slideshow": {
     "slide_type": "slide"
    }
   },
   "source": [
    "## Variables and arguments\n",
    "\n",
    "- You can assign variables using the equal sign.\n",
    "\n",
    "- In some languages the code below would result in two copies of the list of numbers 10 9 8.\n",
    "\n",
    "- However, in Python, both a and b point to the same object."
   ]
  },
  {
   "cell_type": "code",
   "execution_count": 124,
   "metadata": {
    "slideshow": {
     "slide_type": "fragment"
    }
   },
   "outputs": [
    {
     "name": "stdout",
     "output_type": "stream",
     "text": [
      "[10, 9, 8]\n",
      "[10, 9, 8]\n"
     ]
    }
   ],
   "source": [
    "a=[10,9,8] #create an object which is a list of 3 numbers\n",
    "\n",
    "b=a # the object b now points to the object a\n",
    "\n",
    "print(b) # here we see 'a' and 'b' are the same\n",
    "print(a)\n",
    "\n",
    "\n"
   ]
  },
  {
   "cell_type": "markdown",
   "metadata": {
    "slideshow": {
     "slide_type": "slide"
    }
   },
   "source": [
    "## Variables and arguments\n",
    "\n",
    "- When we want to change an object in some way the common syntax is `object.function`\n",
    "\n",
    "    - So if I want add a value to our object `a` then we use the function `append`"
   ]
  },
  {
   "cell_type": "code",
   "execution_count": 125,
   "metadata": {
    "slideshow": {
     "slide_type": "fragment"
    }
   },
   "outputs": [
    {
     "name": "stdout",
     "output_type": "stream",
     "text": [
      "[10, 9, 8, 7]\n",
      "[10, 9, 8, 7]\n",
      "[10, 9, 8, 7, 6]\n"
     ]
    },
    {
     "data": {
      "text/plain": [
       "[10, 9, 8, 7, 6]"
      ]
     },
     "execution_count": 125,
     "metadata": {},
     "output_type": "execute_result"
    }
   ],
   "source": [
    "a.append(7)\n",
    "# Even though we only change 'a', 'b' changes as well because it is pointing to the object within 'a'\n",
    "\n",
    "print(a)\n",
    "\n",
    "print(b)\n",
    "\n",
    "# this works both ways too. Changing 'b' will also change 'a'\n",
    "\n",
    "b.append(6)\n",
    "\n",
    "print(a)\n",
    "\n",
    "b"
   ]
  },
  {
   "cell_type": "markdown",
   "metadata": {
    "slideshow": {
     "slide_type": "slide"
    }
   },
   "source": [
    "## Variables and arguments\n",
    "\n",
    "- We can define a new function using the sytnax `def`\n",
    "\n",
    "- We can pass objects as arguments into a function.\n",
    "\n",
    "- In the next bit of code we will create a function which 'appends' data."
   ]
  },
  {
   "cell_type": "code",
   "execution_count": 126,
   "metadata": {
    "slideshow": {
     "slide_type": "fragment"
    }
   },
   "outputs": [
    {
     "name": "stdout",
     "output_type": "stream",
     "text": [
      "[10, 9, 8, 7, 6, 5]\n"
     ]
    }
   ],
   "source": [
    "def add_element(our_data, new_value):\n",
    "    our_data.append(new_value)\n",
    "    \n",
    "# So now we have a new function which is just like append except we pass in our desired data and value.\n",
    "\n",
    "add_element(a,5)\n",
    "\n",
    "print(a)"
   ]
  },
  {
   "cell_type": "markdown",
   "metadata": {
    "slideshow": {
     "slide_type": "slide"
    }
   },
   "source": [
    "## Indexing\n",
    "\n",
    "- For most objects, you can use an index (in the form of brackets []) to select a certain element. \n",
    "\n",
    "- As mentioned, indexing and other aspects of Ptyhon start at 0\n",
    "\n"
   ]
  },
  {
   "cell_type": "code",
   "execution_count": 127,
   "metadata": {
    "slideshow": {
     "slide_type": "fragment"
    }
   },
   "outputs": [
    {
     "data": {
      "text/plain": [
       "8"
      ]
     },
     "execution_count": 127,
     "metadata": {},
     "output_type": "execute_result"
    }
   ],
   "source": [
    "# index a list 'b= [10,9,8,7,6,5]'\n",
    "\n",
    "b[2] # here we grabbed the THIRD element from our list object b"
   ]
  },
  {
   "cell_type": "code",
   "execution_count": 128,
   "metadata": {},
   "outputs": [
    {
     "data": {
      "text/plain": [
       "'M'"
      ]
     },
     "execution_count": 128,
     "metadata": {},
     "output_type": "execute_result"
    }
   ],
   "source": [
    "# index a character\n",
    "\n",
    "f = 'MPH@Washu'\n",
    "\n",
    "f[0]"
   ]
  },
  {
   "cell_type": "code",
   "execution_count": 129,
   "metadata": {},
   "outputs": [
    {
     "data": {
      "text/plain": [
       "'@'"
      ]
     },
     "execution_count": 129,
     "metadata": {},
     "output_type": "execute_result"
    }
   ],
   "source": [
    "f[3]"
   ]
  },
  {
   "cell_type": "code",
   "execution_count": 130,
   "metadata": {},
   "outputs": [
    {
     "data": {
      "text/plain": [
       "'PH'"
      ]
     },
     "execution_count": 130,
     "metadata": {},
     "output_type": "execute_result"
    }
   ],
   "source": [
    "f[1:3]"
   ]
  },
  {
   "cell_type": "code",
   "execution_count": 131,
   "metadata": {},
   "outputs": [
    {
     "data": {
      "text/plain": [
       "'MPH'"
      ]
     },
     "execution_count": 131,
     "metadata": {},
     "output_type": "execute_result"
    }
   ],
   "source": [
    "f[:3]"
   ]
  },
  {
   "cell_type": "code",
   "execution_count": 132,
   "metadata": {},
   "outputs": [
    {
     "data": {
      "text/plain": [
       "'H@Washu'"
      ]
     },
     "execution_count": 132,
     "metadata": {},
     "output_type": "execute_result"
    }
   ],
   "source": [
    "f[2:]"
   ]
  },
  {
   "cell_type": "markdown",
   "metadata": {
    "slideshow": {
     "slide_type": "slide"
    }
   },
   "source": [
    "## Types\n",
    "\n",
    "- There are various different types of objects in Python.\n",
    "    - Numbers\n",
    "    - Sequence\n",
    "    - Boolean\n",
    "    - Dictionary\n",
    "\n"
   ]
  },
  {
   "cell_type": "markdown",
   "metadata": {
    "slideshow": {
     "slide_type": "slide"
    }
   },
   "source": [
    "### Numbers\n",
    "\n",
    "- **Integer**: Any positive or negative *whole* number.\n",
    "\n",
    "- **Long Integer**: A very large number. An excessively long number will result in an *overflow* error which means the value exceeds the space necessary to represent it\n",
    "\n",
    "- **Float**: A real number with a 'floating' point represntation in which ther is a fraction component involving a decimal.\n",
    "\n",
    "- **Complex number**: A number that has an imaginary component\n"
   ]
  },
  {
   "cell_type": "code",
   "execution_count": 133,
   "metadata": {
    "slideshow": {
     "slide_type": "slide"
    }
   },
   "outputs": [
    {
     "data": {
      "text/plain": [
       "int"
      ]
     },
     "execution_count": 133,
     "metadata": {},
     "output_type": "execute_result"
    }
   ],
   "source": [
    "course_number = 5976\n",
    "type(course_number)"
   ]
  },
  {
   "cell_type": "code",
   "execution_count": 134,
   "metadata": {
    "slideshow": {
     "slide_type": "fragment"
    }
   },
   "outputs": [
    {
     "data": {
      "text/plain": [
       "float"
      ]
     },
     "execution_count": 134,
     "metadata": {},
     "output_type": "execute_result"
    }
   ],
   "source": [
    "long = 3 * 10 ** -14\n",
    "type(long)"
   ]
  },
  {
   "cell_type": "code",
   "execution_count": 135,
   "metadata": {
    "slideshow": {
     "slide_type": "fragment"
    }
   },
   "outputs": [
    {
     "data": {
      "text/plain": [
       "float"
      ]
     },
     "execution_count": 135,
     "metadata": {},
     "output_type": "execute_result"
    }
   ],
   "source": [
    "type(1.3)\n"
   ]
  },
  {
   "cell_type": "code",
   "execution_count": 136,
   "metadata": {
    "slideshow": {
     "slide_type": "fragment"
    }
   },
   "outputs": [
    {
     "data": {
      "text/plain": [
       "complex"
      ]
     },
     "execution_count": 136,
     "metadata": {},
     "output_type": "execute_result"
    }
   ],
   "source": [
    "Z = 3j+2\n",
    "# j represents complex numbers in python (like i [iota] in math)\n",
    "type(Z)"
   ]
  },
  {
   "cell_type": "markdown",
   "metadata": {
    "slideshow": {
     "slide_type": "slide"
    }
   },
   "source": [
    "### Sequence Type\n",
    "\n",
    "- A sequence is an ordered collection of objects which can be the same or different.\n",
    "\n",
    "    - **String**: A string is a collection of characters which can be denoted by 1,2 or 3 quotes.\n",
    "    - **List**: A list is an ordered collection of data items. They do not have to be alike. They are made with brackets [] and are mutable (can be changed).\n",
    "    - **Tuple**: A Tuple is an ordered collection of data items. They do not have to be alike. They are made with parentheses and are immutable (cannot be changed).\n",
    "\n",
    "- If a string, list or tuple has no value at all the default is `None` this is equivalent to a Null value or no value at all."
   ]
  },
  {
   "cell_type": "code",
   "execution_count": 137,
   "metadata": {
    "slideshow": {
     "slide_type": "slide"
    }
   },
   "outputs": [
    {
     "data": {
      "text/plain": [
       "str"
      ]
     },
     "execution_count": 137,
     "metadata": {},
     "output_type": "execute_result"
    }
   ],
   "source": [
    "a_string = \"Dominique Lockett\"\n",
    "type(a_string)"
   ]
  },
  {
   "cell_type": "code",
   "execution_count": 138,
   "metadata": {
    "slideshow": {
     "slide_type": "fragment"
    }
   },
   "outputs": [
    {
     "name": "stdout",
     "output_type": "stream",
     "text": [
      "['MPH', 5976, 'Washington University']\n"
     ]
    },
    {
     "data": {
      "text/plain": [
       "list"
      ]
     },
     "execution_count": 138,
     "metadata": {},
     "output_type": "execute_result"
    }
   ],
   "source": [
    "a_list = [\"MPH\", 5976, 'Washington University']\n",
    "print(a_list)\n",
    "type(a_list)\n"
   ]
  },
  {
   "cell_type": "code",
   "execution_count": 139,
   "metadata": {
    "slideshow": {
     "slide_type": "fragment"
    }
   },
   "outputs": [
    {
     "name": "stdout",
     "output_type": "stream",
     "text": [
      "('MPH', 5976, 'Washington University')\n"
     ]
    },
    {
     "data": {
      "text/plain": [
       "tuple"
      ]
     },
     "execution_count": 139,
     "metadata": {},
     "output_type": "execute_result"
    }
   ],
   "source": [
    "a_tupple = (\"MPH\", 5976, 'Washington University')\n",
    "print(a_tupple)\n",
    "type(a_tupple)"
   ]
  },
  {
   "cell_type": "markdown",
   "metadata": {
    "slideshow": {
     "slide_type": "slide"
    }
   },
   "source": [
    "### Dictionary Type\n",
    "\n",
    "- A dictionary object is an unordered collection of data. \n",
    "\n",
    "    - This data comes in key:value form.\n",
    "    - These are created with curly brackets {}\n",
    "\n",
    "- Dictionaries can contain multiple dictionaires.\n",
    "    "
   ]
  },
  {
   "cell_type": "code",
   "execution_count": 140,
   "metadata": {
    "slideshow": {
     "slide_type": "fragment"
    }
   },
   "outputs": [
    {
     "data": {
      "text/plain": [
       "2020"
      ]
     },
     "execution_count": 140,
     "metadata": {},
     "output_type": "execute_result"
    }
   ],
   "source": [
    "our_class = {\n",
    "  \"city\": \"Saint Louis\",\n",
    "  \"state\": \"Missouri\",\n",
    "  \"school\": \"Washu\",\n",
    "  \"course\": \"MPH 5976\",\n",
    "  \"year\": 2020\n",
    "}\n",
    "our_class[\"year\"]"
   ]
  },
  {
   "cell_type": "code",
   "execution_count": 141,
   "metadata": {
    "slideshow": {
     "slide_type": "slide"
    }
   },
   "outputs": [
    {
     "name": "stdout",
     "output_type": "stream",
     "text": [
      "{'child1': {'name': 'Dom', 'year': 1991}, 'child2': {'name': 'Jada', 'year': 1998}, 'child3': {'name': 'Jesse', 'year': 2009}}\n"
     ]
    }
   ],
   "source": [
    "myfamily = {\n",
    "  \"child1\" : {\n",
    "    \"name\" : \"Dom\",\n",
    "    \"year\" : 1991\n",
    "  },\n",
    "  \"child2\" : {\n",
    "    \"name\" : \"Jada\",\n",
    "    \"year\" : 1998\n",
    "  },\n",
    "  \"child3\" : {\n",
    "    \"name\" : \"Jesse\",\n",
    "    \"year\" : 2009\n",
    "  }\n",
    "}\n",
    "\n",
    "print(myfamily)"
   ]
  },
  {
   "cell_type": "code",
   "execution_count": 142,
   "metadata": {
    "slideshow": {
     "slide_type": "fragment"
    }
   },
   "outputs": [
    {
     "data": {
      "text/plain": [
       "{'name': 'Dom', 'year': 1991}"
      ]
     },
     "execution_count": 142,
     "metadata": {},
     "output_type": "execute_result"
    }
   ],
   "source": [
    "myfamily['child1']"
   ]
  },
  {
   "cell_type": "code",
   "execution_count": 143,
   "metadata": {
    "slideshow": {
     "slide_type": "fragment"
    }
   },
   "outputs": [
    {
     "data": {
      "text/plain": [
       "'Jada'"
      ]
     },
     "execution_count": 143,
     "metadata": {},
     "output_type": "execute_result"
    }
   ],
   "source": [
    "myfamily['child2']['name']"
   ]
  },
  {
   "cell_type": "code",
   "execution_count": 144,
   "metadata": {
    "slideshow": {
     "slide_type": "fragment"
    }
   },
   "outputs": [
    {
     "data": {
      "text/plain": [
       "'J'"
      ]
     },
     "execution_count": 144,
     "metadata": {},
     "output_type": "execute_result"
    }
   ],
   "source": [
    "myfamily['child2']['name'][0] \n",
    "#here we did 3 indexes. \n",
    "#First we went into the second dictionary and grabbed the name within that dictionary. \n",
    "# Then we grabbed the first element within that string object"
   ]
  },
  {
   "cell_type": "markdown",
   "metadata": {
    "slideshow": {
     "slide_type": "slide"
    }
   },
   "source": [
    "## Boolean\n",
    "\n",
    "- The final type of data object we will discuss today is the Boolean.\n",
    "\n",
    "- A boolean simply denotes whether a statement is `True` or `False`."
   ]
  },
  {
   "cell_type": "code",
   "execution_count": 145,
   "metadata": {
    "slideshow": {
     "slide_type": "fragment"
    }
   },
   "outputs": [
    {
     "data": {
      "text/plain": [
       "True"
      ]
     },
     "execution_count": 145,
     "metadata": {},
     "output_type": "execute_result"
    }
   ],
   "source": [
    "3==3"
   ]
  },
  {
   "cell_type": "code",
   "execution_count": 146,
   "metadata": {
    "slideshow": {
     "slide_type": "fragment"
    }
   },
   "outputs": [
    {
     "data": {
      "text/plain": [
       "False"
      ]
     },
     "execution_count": 146,
     "metadata": {},
     "output_type": "execute_result"
    }
   ],
   "source": [
    "2==3"
   ]
  },
  {
   "cell_type": "markdown",
   "metadata": {
    "slideshow": {
     "slide_type": "slide"
    }
   },
   "source": [
    "## Attributes of types\n",
    "\n",
    "- Above you saw that by adding a period after an object we open up different functions we can perform.\n",
    "\n",
    "    - This is because each type of object comes with a set if attributes and methods you can use.\n",
    "\n",
    "    - The easiest way to familiarize yourself with some of these is by creating an object `a` and using `a.<TAB>` to show you the associated attributes.\n",
    "    \n",
    "- In addition to calling methods from a type, you can also call methods directly from the package you are using."
   ]
  },
  {
   "cell_type": "code",
   "execution_count": 147,
   "metadata": {
    "slideshow": {
     "slide_type": "fragment"
    }
   },
   "outputs": [
    {
     "name": "stdout",
     "output_type": "stream",
     "text": [
      "[3, 2, 1]\n"
     ]
    }
   ],
   "source": [
    "a = [1,2,3]\n",
    "\n",
    "b = 'dog'\n",
    "\n",
    "c = {'key1': 'some stuff','key2': [1,2,3]}\n",
    "\n",
    "# open up this script and this line of code and do a.<TAB> b.<TAB> and c.<TAB> to look through the attributes\n",
    "\n",
    "a.reverse()\n",
    "print(a)"
   ]
  },
  {
   "cell_type": "code",
   "execution_count": 148,
   "metadata": {
    "slideshow": {
     "slide_type": "fragment"
    }
   },
   "outputs": [
    {
     "data": {
      "text/plain": [
       "['DOG']"
      ]
     },
     "execution_count": 148,
     "metadata": {},
     "output_type": "execute_result"
    }
   ],
   "source": [
    "[b.upper()] # the .upper argument (and .lower) will not edit the original list so we put it in brackets to view the changes as a new list\n"
   ]
  },
  {
   "cell_type": "code",
   "execution_count": 149,
   "metadata": {
    "slideshow": {
     "slide_type": "fragment"
    }
   },
   "outputs": [
    {
     "data": {
      "text/plain": [
       "dict_keys(['key1', 'key2'])"
      ]
     },
     "execution_count": 149,
     "metadata": {},
     "output_type": "execute_result"
    }
   ],
   "source": [
    "c.keys() "
   ]
  },
  {
   "cell_type": "code",
   "execution_count": 150,
   "metadata": {
    "slideshow": {
     "slide_type": "fragment"
    }
   },
   "outputs": [
    {
     "name": "stdout",
     "output_type": "stream",
     "text": [
      "{'key1': 'some stuff', 'key2': [1, 2, 3], 'newkey1': 'neat stuff'}\n"
     ]
    }
   ],
   "source": [
    "c.update({'newkey1': 'neat stuff'})\n",
    "print(c)"
   ]
  },
  {
   "cell_type": "code",
   "execution_count": 151,
   "metadata": {},
   "outputs": [
    {
     "name": "stdout",
     "output_type": "stream",
     "text": [
      "[1 2 3]\n"
     ]
    }
   ],
   "source": [
    "import numpy as np # more on this shortly\n",
    "obj1 = np.array([1,2,3]) # create 2 list like objects\n",
    "obj2 = np.array([4,5,6])\n",
    "print(obj1)"
   ]
  },
  {
   "cell_type": "code",
   "execution_count": 152,
   "metadata": {},
   "outputs": [
    {
     "name": "stdout",
     "output_type": "stream",
     "text": [
      "[4 5 6]\n"
     ]
    }
   ],
   "source": [
    "print(obj2)"
   ]
  },
  {
   "cell_type": "code",
   "execution_count": 153,
   "metadata": {},
   "outputs": [
    {
     "data": {
      "text/plain": [
       "array([5, 7, 9])"
      ]
     },
     "execution_count": 153,
     "metadata": {},
     "output_type": "execute_result"
    }
   ],
   "source": [
    "sum([obj1,obj2]) # use the attributes of the package to add them together"
   ]
  },
  {
   "cell_type": "markdown",
   "metadata": {
    "slideshow": {
     "slide_type": "slide"
    }
   },
   "source": [
    "## Imports\n",
    "\n",
    "-  In Python, packages are collections of modules (single .py files with functions) and each contains a set of code to perform useful operations..\n",
    "    \n",
    "- When using functions from a package the proper syntax is `package.function()`.\n",
    "\n",
    "- One example is some basic math functions.\n",
    "    - Python does not have a base way of performing square roots so we can call on the mdoue `math`.\n",
    "    \n",
    "- Here are some common packages which we will explore throughout this course:\n",
    "\n",
    "        - Pandas.\n",
    "        - NumPy.\n",
    "        - MatPlotLib.\n",
    "        - Scikit-Learn.\n",
    "        \n",
    "- You can add a nickname to a package to shorten the name you have to type when calling it."
   ]
  },
  {
   "cell_type": "code",
   "execution_count": 154,
   "metadata": {
    "slideshow": {
     "slide_type": "fragment"
    }
   },
   "outputs": [
    {
     "data": {
      "text/plain": [
       "5.0"
      ]
     },
     "execution_count": 154,
     "metadata": {},
     "output_type": "execute_result"
    }
   ],
   "source": [
    "import math as mt\n",
    "\n",
    "mt.sqrt(25)"
   ]
  },
  {
   "cell_type": "markdown",
   "metadata": {
    "slideshow": {
     "slide_type": "slide"
    }
   },
   "source": [
    "## Imports\n",
    "\n",
    "- In some cases you won't be able to simply import the package\n",
    "\n",
    "    - You will have to use your Command Prompt \n",
    "    \n",
    "    - The syntax for installing packages in the Command Prompt for Python is: `pip install [package]`\n",
    " <center>\n",
    "<img src=\"images/pip install.png\" width=\"600\">\n",
    "</center>\n",
    "- Please install the pandas package by entering `pip install pandas` into your Command Prompt.\n",
    "    - Post any problems you have into the 'Day 1 Lecture Questions' assignment on the Canvas course page."
   ]
  },
  {
   "cell_type": "code",
   "execution_count": 155,
   "metadata": {},
   "outputs": [],
   "source": [
    "import pandas as pd\n",
    "\n",
    "# if you had not installed this in the Command Prompt you will get an error"
   ]
  },
  {
   "cell_type": "markdown",
   "metadata": {
    "slideshow": {
     "slide_type": "slide"
    }
   },
   "source": [
    "## Mutable and immutable objects\n",
    "\n",
    "- Some objects in Python can be edited and changed (mutable) others cannot (immutable).\n",
    "\n",
    "- Mutable objects\n",
    "\n",
    "    - Lists and dictionaries\n",
    "    \n",
    "- Immutable objects\n",
    "    - Strings\n",
    "    - Integers\n",
    "    - Tuples\n",
    "    - Booleans\n",
    "\n",
    "- Just because an object is immutable doesn't necessarily change it or overwrite it."
   ]
  },
  {
   "cell_type": "code",
   "execution_count": 156,
   "metadata": {
    "slideshow": {
     "slide_type": "subslide"
    }
   },
   "outputs": [
    {
     "name": "stdout",
     "output_type": "stream",
     "text": [
      "[1, 2, 3]\n"
     ]
    }
   ],
   "source": [
    "mut_list = [1,2,3]\n",
    "print(mut_list)"
   ]
  },
  {
   "cell_type": "code",
   "execution_count": 157,
   "metadata": {
    "slideshow": {
     "slide_type": "fragment"
    }
   },
   "outputs": [
    {
     "data": {
      "text/plain": [
       "1"
      ]
     },
     "execution_count": 157,
     "metadata": {},
     "output_type": "execute_result"
    }
   ],
   "source": [
    "mut_list[0]"
   ]
  },
  {
   "cell_type": "code",
   "execution_count": 158,
   "metadata": {
    "slideshow": {
     "slide_type": "fragment"
    }
   },
   "outputs": [
    {
     "name": "stdout",
     "output_type": "stream",
     "text": [
      "['This can be changed!', 2, 3]\n"
     ]
    }
   ],
   "source": [
    "mut_list[0]= \"This can be changed!\"\n",
    "print(mut_list)"
   ]
  },
  {
   "cell_type": "code",
   "execution_count": 159,
   "metadata": {
    "slideshow": {
     "slide_type": "subslide"
    }
   },
   "outputs": [
    {
     "name": "stdout",
     "output_type": "stream",
     "text": [
      "{'cat': {'name': 'Siobhan', 'color': 'dilute tortoiseshell', 'breed': 'domestic housecat', 'age': 6}, 'dog1': {'name': 'Carter', 'color': 'chocolate', 'breed': 'Pitbull/Lab', 'age': 11}, 'dog2': {'name': 'Bambino', 'color': 'tan', 'breed': 'Chihuahua', 'age': 5}}\n"
     ]
    }
   ],
   "source": [
    "my_pets = {\n",
    "  \"cat\" : {\n",
    "    \"name\" : \"Siobhan\",\n",
    "    \"color\" : 'dilute tortoiseshell',\n",
    "    'breed' : \"domestic housecat\",\n",
    "      \"age\" : 6\n",
    "  },\n",
    "  \"dog1\" : {\n",
    "    \"name\" : \"Carter\",\n",
    "      \"color\": \"chocolate\",\n",
    "    \"breed\" : 'Pitbull/Lab',\n",
    "      \"age\" : 11\n",
    "  },\n",
    "  \"dog2\" : {\n",
    "    \"name\" : \"Bambino\",\n",
    "      \"color\": \"tan\",\n",
    "    \"breed\" : 'Chihuahua',\n",
    "      \"age\" : 5\n",
    "  }\n",
    "}\n",
    "\n",
    "print(my_pets)"
   ]
  },
  {
   "cell_type": "code",
   "execution_count": 160,
   "metadata": {
    "slideshow": {
     "slide_type": "fragment"
    }
   },
   "outputs": [
    {
     "name": "stdout",
     "output_type": "stream",
     "text": [
      "{'cat': {'name': 'Siobhan', 'color': 'dilute tortoiseshell', 'breed': 'domestic housecat', 'age': 6}, 'dog1': {'name': 'Carter', 'color': 'chocolate', 'breed': 'Pitbull/Lab', 'age': 11}, 'dog2': {'name': 'Bambino', 'color': 'tan', 'breed': 'Chihuahua', 'age': 5}, 'breed': 'type'}\n"
     ]
    }
   ],
   "source": [
    "my_pets[\"breed\"] =\"type\"\n",
    "print(my_pets)"
   ]
  },
  {
   "cell_type": "code",
   "execution_count": 161,
   "metadata": {
    "slideshow": {
     "slide_type": "fragment"
    }
   },
   "outputs": [
    {
     "name": "stdout",
     "output_type": "stream",
     "text": [
      "Mrs. S\n"
     ]
    }
   ],
   "source": [
    "my_pets[\"cat\"][\"name\"] = 'Mrs. S'\n",
    "print(my_pets[\"cat\"][\"name\"])"
   ]
  },
  {
   "cell_type": "code",
   "execution_count": 162,
   "metadata": {
    "slideshow": {
     "slide_type": "subslide"
    }
   },
   "outputs": [
    {
     "data": {
      "text/plain": [
       "int"
      ]
     },
     "execution_count": 162,
     "metadata": {},
     "output_type": "execute_result"
    }
   ],
   "source": [
    "integer = 5976\n",
    "type(integer)\n",
    "\n"
   ]
  },
  {
   "cell_type": "code",
   "execution_count": 163,
   "metadata": {
    "slideshow": {
     "slide_type": "fragment"
    }
   },
   "outputs": [],
   "source": [
    "#integer[1] "
   ]
  },
  {
   "cell_type": "code",
   "execution_count": 164,
   "metadata": {
    "slideshow": {
     "slide_type": "fragment"
    }
   },
   "outputs": [
    {
     "data": {
      "text/plain": [
       "'M'"
      ]
     },
     "execution_count": 164,
     "metadata": {},
     "output_type": "execute_result"
    }
   ],
   "source": [
    "character = \"MPH\"\n",
    "character[0]"
   ]
  },
  {
   "cell_type": "code",
   "execution_count": 165,
   "metadata": {
    "slideshow": {
     "slide_type": "fragment"
    }
   },
   "outputs": [],
   "source": [
    "#character[0] ='S'"
   ]
  },
  {
   "cell_type": "code",
   "execution_count": 166,
   "metadata": {
    "slideshow": {
     "slide_type": "fragment"
    }
   },
   "outputs": [
    {
     "name": "stdout",
     "output_type": "stream",
     "text": [
      "(1, 2, 3)\n"
     ]
    }
   ],
   "source": [
    "immut_tup = (1,2,3)\n",
    "print(immut_tup)"
   ]
  },
  {
   "cell_type": "code",
   "execution_count": 167,
   "metadata": {
    "slideshow": {
     "slide_type": "fragment"
    }
   },
   "outputs": [
    {
     "data": {
      "text/plain": [
       "1"
      ]
     },
     "execution_count": 167,
     "metadata": {},
     "output_type": "execute_result"
    }
   ],
   "source": [
    "immut_tup[0]"
   ]
  },
  {
   "cell_type": "code",
   "execution_count": 168,
   "metadata": {
    "slideshow": {
     "slide_type": "fragment"
    }
   },
   "outputs": [],
   "source": [
    "#immut_tup[0] = \"We ge an error when we try to change this!\""
   ]
  },
  {
   "cell_type": "code",
   "execution_count": 169,
   "metadata": {
    "slideshow": {
     "slide_type": "subslide"
    }
   },
   "outputs": [
    {
     "name": "stdout",
     "output_type": "stream",
     "text": [
      "MPH Skill Course\n"
     ]
    }
   ],
   "source": [
    "character = \"MPH\"\n",
    "character = character + ' Skill Course'\n",
    "\n",
    "print(character)\n",
    "\n"
   ]
  },
  {
   "cell_type": "code",
   "execution_count": 170,
   "metadata": {
    "slideshow": {
     "slide_type": "fragment"
    }
   },
   "outputs": [
    {
     "data": {
      "text/plain": [
       "5986"
      ]
     },
     "execution_count": 170,
     "metadata": {},
     "output_type": "execute_result"
    }
   ],
   "source": [
    "number = 5976\n",
    "\n",
    "number = number + 10\n",
    "\n",
    "number"
   ]
  },
  {
   "cell_type": "markdown",
   "metadata": {
    "slideshow": {
     "slide_type": "subslide"
    }
   },
   "source": [
    "## Mutable and immutable objects\n",
    "\n",
    "- Here we have demonstrated that some objects can be changed while others cannot.\n",
    "\n",
    "- Mutable objects allowed us to using indexing to subset to the feature we wanted to alter and easily change it.\n",
    "    - Lists \n",
    "    - Dictionaries\n",
    "- Immutable objects either could not be indexed or refused to change the assignment of the index.\n",
    "\n",
    "- Although immutable objects cannot be changed, we can overwrite them whenever we'd like."
   ]
  },
  {
   "cell_type": "markdown",
   "metadata": {
    "slideshow": {
     "slide_type": "slide"
    }
   },
   "source": [
    "## Control Flow\n",
    "\n",
    "- In Python, data processing and other functions can be simplified using contional logic, loops and other control flow concepts.\n",
    "\n",
    "- Today we will discuss:\n",
    "     \n",
    "    - for loops\n",
    "    - if, elif, and else\n",
    "    - while loops\n",
    "    \n",
    "- Useful functions when constructing conditional statements.\n",
    "\n",
    "    | Operation |                                               What is returned |\n",
    "    |-----------|---------------------------------------------------------------:|\n",
    "    | y & z     |                           `True` if both `y` and `z` are `True`|\n",
    "    | y-z       |                          `True` if either `y` or `z` are `True`|"
   ]
  },
  {
   "cell_type": "markdown",
   "metadata": {
    "slideshow": {
     "slide_type": "subslide"
    }
   },
   "source": [
    "### The `for loop`\n",
    "\n",
    "- For loops allow you to iterate over a collection like a list or tuple. \n",
    "\n",
    "    - `for` value `in` collection:\n",
    "            #Do something\n",
    "            \n",
    "    - You can name *value* whatever you like, but common convention is often *i*.\n",
    "    - You define the collection you wish to iterate over\n"
   ]
  },
  {
   "cell_type": "code",
   "execution_count": 171,
   "metadata": {
    "slideshow": {
     "slide_type": "fragment"
    }
   },
   "outputs": [
    {
     "name": "stdout",
     "output_type": "stream",
     "text": [
      "0\n",
      "1\n",
      "2\n",
      "3\n",
      "4\n",
      "5\n",
      "6\n",
      "7\n",
      "8\n",
      "9\n",
      "10\n"
     ]
    }
   ],
   "source": [
    "for i in range(11): # for each value in 0-10\n",
    "    print(i) # print that number"
   ]
  },
  {
   "cell_type": "markdown",
   "metadata": {
    "slideshow": {
     "slide_type": "slide"
    }
   },
   "source": [
    "### `If`, `elif`, and `else`\n",
    "\n",
    "- We saw a preview of this function early in this lecture which evaluated the numbers 0-5.\n",
    "- The `if` statement is quite common and it tells Python to perform a defined function while a certain condition is `True`.\n",
    "- `elif` says 'otherwise do this' under specific conditions.\n",
    "- `else` says in all cases not defined, do this."
   ]
  },
  {
   "cell_type": "code",
   "execution_count": 172,
   "metadata": {
    "slideshow": {
     "slide_type": "fragment"
    }
   },
   "outputs": [
    {
     "name": "stdout",
     "output_type": "stream",
     "text": [
      "A negative number\n",
      "A negative number\n",
      "A negative number\n",
      "Zero\n",
      "A positive number less than ten\n",
      "A positive number less than ten\n",
      "A positive number greater than ten\n",
      "A positive number greater than ten\n",
      "A positive number greater than ten\n"
     ]
    }
   ],
   "source": [
    "x = [-10,-2,-1,0,2,6,10,12,16]\n",
    "\n",
    "for i in x:\n",
    "    if i < 0:\n",
    "        print(\"A negative number\")\n",
    "    elif i == 0:\n",
    "        print(\"Zero\")\n",
    "    elif 0 < i < 10:\n",
    "        print(\"A positive number less than ten\")\n",
    "    else:\n",
    "        print(\"A positive number greater than ten\")\n",
    "        \n",
    "    "
   ]
  },
  {
   "cell_type": "markdown",
   "metadata": {
    "slideshow": {
     "slide_type": "slide"
    }
   },
   "source": [
    "### `While` loops\n",
    "\n",
    "- While loops specifies a condition and a block of code will run until the condition specified returns False\n",
    "- Alternatively you can add a `break` condition which will stop once that condition is met"
   ]
  },
  {
   "cell_type": "code",
   "execution_count": 173,
   "metadata": {
    "slideshow": {
     "slide_type": "fragment"
    }
   },
   "outputs": [
    {
     "name": "stdout",
     "output_type": "stream",
     "text": [
      "1\n",
      "2\n",
      "3\n",
      "4\n",
      "5\n"
     ]
    }
   ],
   "source": [
    "z = 1\n",
    "while z < 6: # as long as z is less than six\n",
    "  print(z) # print the number\n",
    "  z += 1 # and then add one to the number\n"
   ]
  },
  {
   "cell_type": "code",
   "execution_count": 174,
   "metadata": {
    "slideshow": {
     "slide_type": "fragment"
    }
   },
   "outputs": [
    {
     "name": "stdout",
     "output_type": "stream",
     "text": [
      "1\n",
      "2\n",
      "3\n"
     ]
    }
   ],
   "source": [
    "i = 1\n",
    "while i < 6:\n",
    "  print(i)\n",
    "  if i == 3:\n",
    "    break\n",
    "  i += 1"
   ]
  },
  {
   "cell_type": "markdown",
   "metadata": {
    "slideshow": {
     "slide_type": "slide"
    }
   },
   "source": [
    "## Functions\n",
    "\n",
    "- We saw an example defining a function early on but now we can briefly formalize it with an example relevant to your feild.\n",
    "\n",
    "- To make a function you mearly have to define the name of the function and the values which need to be entered into the function and tell it what to do:\n",
    "\n",
    "\n",
    "        `def` do_something(value1, value2):\n",
    "             # what you want the function to do\n",
    "- In the following function we will analyze any given BMI with two inputs: weight and height\n",
    "\n",
    "    - We will use the standard formula for BMI which is $\\frac{[703 \\times height(pounds)]}{[\\text{height(inches)}]^2}$\n",
    "         - We need to convert weight in pounds to kilograms so we will multiply it by 703\n",
    "- We will define the weight as a float so an individual can enter a decimal number\n",
    "             "
   ]
  },
  {
   "cell_type": "code",
   "execution_count": 175,
   "metadata": {
    "slideshow": {
     "slide_type": "fragment"
    }
   },
   "outputs": [
    {
     "data": {
      "text/plain": [
       "22.140337616528093"
      ]
     },
     "execution_count": 175,
     "metadata": {},
     "output_type": "execute_result"
    }
   ],
   "source": [
    "def analyze_bmi(weight, height): # write the function name and what needs to be entered into the functions\n",
    "    \n",
    "    return((703*weight)/(height**2)) # we can use return instead of print when we are writing a function!\n",
    "\n",
    "# Example of a normal BMI:\n",
    "          \n",
    "analyze_bmi(125,63)"
   ]
  }
 ],
 "metadata": {
  "kernelspec": {
   "display_name": "Python 3",
   "language": "python",
   "name": "python3"
  },
  "language_info": {
   "codemirror_mode": {
    "name": "ipython",
    "version": 3
   },
   "file_extension": ".py",
   "mimetype": "text/x-python",
   "name": "python",
   "nbconvert_exporter": "python",
   "pygments_lexer": "ipython3",
   "version": "3.8.2"
  }
 },
 "nbformat": 4,
 "nbformat_minor": 4
}
