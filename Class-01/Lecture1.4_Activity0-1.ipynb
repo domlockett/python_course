{
 "cells": [
  {
   "cell_type": "markdown",
   "metadata": {},
   "source": [
    "# Activity 0-1\n",
    "\n",
    "- This is a hybrid lecture activity.\n",
    "\n",
    "- I will be demonstrating how to go about uploading assignments\n",
    "\n",
    "- **If you have any questions over the course of this lecture, please post them to the 'Day 1 Lecture Questions' assignment on the Canvas course page.**"
   ]
  },
  {
   "cell_type": "markdown",
   "metadata": {
    "slideshow": {
     "slide_type": "slide"
    }
   },
   "source": [
    "## Markdown versus Code in Jupyter lab\n",
    "\n",
    "- JupyterLab or Notebook have the unique capacity to create a text document and executable code in the same document."
   ]
  },
  {
   "cell_type": "code",
   "execution_count": 1,
   "metadata": {
    "scrolled": true,
    "slideshow": {
     "slide_type": "subslide"
    }
   },
   "outputs": [
    {
     "data": {
      "text/plain": [
       "4"
      ]
     },
     "execution_count": 1,
     "metadata": {},
     "output_type": "execute_result"
    }
   ],
   "source": [
    "2*2"
   ]
  },
  {
   "cell_type": "markdown",
   "metadata": {
    "slideshow": {
     "slide_type": "slide"
    }
   },
   "source": [
    "## Markdown versus Code in Jupyter lab\n",
    "\n",
    "- Scroll down to the bottom of the `Lecture1.3_Activity0-0.ipynb`.\n",
    "\n",
    "    - Double click the last sentence of the document.\n",
    "    \n",
    "        - This opens up the `Markdown` feature of JupyterLab where you can add text or slides like you've seen in this presentation.\n",
    "        \n",
    "   \n"
   ]
  },
  {
   "cell_type": "markdown",
   "metadata": {
    "slideshow": {
     "slide_type": "slide"
    }
   },
   "source": [
    "## Editing an existing Document\n",
    "\n",
    "- Go ahead and add your name to the Markdown portion of the document\n",
    "    \n",
    "    - Once you have added your name you can either press the `play` button at the top of the document or press `control enter (command return)` to have the document return to the slide configuration.\n",
    "    \n",
    "    - Now that you have stopped editing the slides, you can add code.\n",
    "    \n",
    "    - To do so, simply go to the next blank line and type in `1+1`. \n",
    "    \n",
    "    - You can make Python execute this code by hitting the play button or control enter (command return). \n",
    "    \n",
    "\n"
   ]
  },
  {
   "cell_type": "markdown",
   "metadata": {
    "slideshow": {
     "slide_type": "slide"
    }
   },
   "source": [
    "---\n",
    "\n",
    "## Using Github Desktop\n",
    "\n",
    "- When your JupyterLab web application and your Command Prompt are both open (as they must be to run correctly) all changes you make in JupyterLab are immediately reflected in the directory of your personal computer and vice versa.\n",
    "\n",
    "- So now navigate to GitHub Desktop.\n",
    "\n",
    "- If everything is running properly it should show that you have made changes to your document.\n",
    "\n",
    "- Now you must `commit` and `push` the document that way it is saved and uploaded to the GitHub website. \n"
   ]
  },
  {
   "cell_type": "markdown",
   "metadata": {
    "slideshow": {
     "slide_type": "subslide"
    }
   },
   "source": [
    "\n",
    "- In GitHub Desktop go ahead and add a summary of the changes you made such as `Add Code` and a more detailed description in the boxes provided. \n",
    "\n",
    "- You can then hit `commit` to save the changes.\n",
    "\n",
    "- After you have committed your changes, you can then `push` the changes which will upload them to github.com.\n",
    "\n",
    "<img src=\"images/Step7.gif\" width=\"400\">\n",
    "\n",
    "\n",
    "- Simply hit either of the buttons which says push\n",
    "\n",
    "\n"
   ]
  },
  {
   "cell_type": "markdown",
   "metadata": {
    "slideshow": {
     "slide_type": "slide"
    }
   },
   "source": [
    "\n",
    "---\n",
    "## Adding a file\n",
    "\n",
    "- Normally I will provide files and you will simply have to edit them and commit/push your changes.\n"
   ]
  },
  {
   "cell_type": "markdown",
   "metadata": {},
   "source": [
    "- However, today I would like you to go ahead and make a new file to better illustrate how your changes are reflected in GitHub and expose you to the different functions of JupyterLab.\n"
   ]
  },
  {
   "cell_type": "markdown",
   "metadata": {},
   "source": [
    "- So now I want you to click the `plus` button located on the top left of the JupyterLab file. \n",
    "\n",
    "    - This will open a launcher where I would like you to go ahead and click Python 3 to open a new .ipynb file. "
   ]
  },
  {
   "cell_type": "markdown",
   "metadata": {},
   "source": [
    "- Now that you have a new file go ahead and right click it in JupyterLab and rename the file `Activity0-2`.\n"
   ]
  },
  {
   "cell_type": "markdown",
   "metadata": {
    "slideshow": {
     "slide_type": "slide"
    }
   },
   "source": [
    "\n",
    "---\n",
    "## Adding a file\n",
    "\n",
    "- Now I want you to go into the file and change the dropdown menu to Markdown this way you can use the document in plain text format.\n"
   ]
  },
  {
   "cell_type": "markdown",
   "metadata": {
    "slideshow": {
     "slide_type": "fragment"
    }
   },
   "source": [
    "- In this section of text, I would like you to provide me a brief description of yourself. Where are you at in your program? What do you intend to do with your degree? What is the main things you would like to learn from this course? And any other information  you would like to share.\n",
    "\n"
   ]
  },
  {
   "cell_type": "markdown",
   "metadata": {
    "slideshow": {
     "slide_type": "fragment"
    }
   },
   "source": [
    "- After you have added your paragraph go ahead and hit play or control enter (command return) to end editing text and return to `code` mode.\n",
    "\n"
   ]
  },
  {
   "cell_type": "markdown",
   "metadata": {
    "slideshow": {
     "slide_type": "fragment"
    }
   },
   "source": [
    "- Now go to the next time and type `print('Hello World!')`.\n",
    "\n"
   ]
  },
  {
   "cell_type": "markdown",
   "metadata": {
    "slideshow": {
     "slide_type": "fragment"
    }
   },
   "source": [
    "- Once again, hit play or control enter (command return) to have this line of code executed in the document. "
   ]
  },
  {
   "cell_type": "markdown",
   "metadata": {
    "slideshow": {
     "slide_type": "slide"
    }
   },
   "source": [
    "---\n",
    "## Adding a file\n",
    "\n",
    "- Finally, I would like you to open GitHub Desktop once more. \n",
    "\n",
    "- Add a useful summary and description and once again commit and push your changes.\n",
    "\n",
    "<img src=\"images/Step10.gif\" width=\"400\">\n",
    "\n",
    "- Now you can go to GitHub.com and see the new file `Activity0-2.ipynb` has been added to your directory!\n",
    "\n",
    "- If you can see these changes, so can I. And this is how we will go about turning in assignments, viewing lectures, and sharing slides for the remainder of this course.\n"
   ]
  },
  {
   "cell_type": "markdown",
   "metadata": {
    "slideshow": {
     "slide_type": "slide"
    }
   },
   "source": [
    "## The rest of today's Lecture\n",
    "\n",
    "- Lecture and Activity 1-1\n",
    "        \n",
    "    - Go over some Python Basics."
   ]
  }
 ],
 "metadata": {
  "celltoolbar": "Slideshow",
  "kernelspec": {
   "display_name": "Python 3",
   "language": "python",
   "name": "python3"
  },
  "language_info": {
   "codemirror_mode": {
    "name": "ipython",
    "version": 3
   },
   "file_extension": ".py",
   "mimetype": "text/x-python",
   "name": "python",
   "nbconvert_exporter": "python",
   "pygments_lexer": "ipython3",
   "version": "3.8.2"
  }
 },
 "nbformat": 4,
 "nbformat_minor": 4
}
