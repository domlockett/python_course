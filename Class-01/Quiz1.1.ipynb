{
 "cells": [
  {
   "cell_type": "markdown",
   "metadata": {},
   "source": [
    "# Quiz 1-1\n",
    "\n",
    "- So we have set up Python, JupyterLab, and GitHub, now I want you to use what we learned during the last lecture to complete one task.\n",
    "\n",
    "- It is good practice to commit and push frequently to GitHub. \n",
    "\n",
    "    - While you complete this assignment go to GitHub Desktop and commit and push your changes.\n",
    "    - At the very least you need to commit and push the completed quiz. \n",
    "    \n",
    "- Feel free to look through the previous lecture (specifically the final piece!)  or use a search engine for help."
   ]
  },
  {
   "cell_type": "markdown",
   "metadata": {},
   "source": [
    "## 1. Write a simple function.\n",
    "\n",
    "- I want you to create a function that, when you enter a BMI, it returns how healthy that BMI is.\n",
    "\n",
    "        - For reference: \n",
    "\n",
    "|Category     |                             BMI|\n",
    "|-------------|--------------------------------|\n",
    "|Underweight  |                  less than 18.5|\n",
    "|Normal weight| 18.5 up to but not including 25|\n",
    "|Overweight   |   25 up to but not including 30|\n",
    "|Obesity      |                   30 or greater|\n",
    "\n",
    "- So I want you to create a function called `bmi_calculator`.\n",
    "\n",
    "- In this function I want you use use `if`, `elif` and `else` functions to return the category when an interger is entered.\n",
    "\n",
    "    - For instance if an you entered the number 18, the function should print `Underweight`.\n",
    "\n",
    "    - For this activity you should use `def` to define your function, an `if` statement for one category, an `elif` statement for two categories and `else` for one cateogires. All statements will have `print()` as their argument to execute.\n",
    "\n",
    "- Type your solution in the code block below.\n",
    "\n",
    "- Then use GitHub Desktop to upload your solution to your online repository.\n",
    "\n",
    "- Please refer to Lecture 1.5 for help constructing your function *(combine what we learn in the if else section and the function sections)*."
   ]
  },
  {
   "cell_type": "code",
   "execution_count": 1,
   "metadata": {},
   "outputs": [],
   "source": [
    "# Type your solution below this line:\n",
    "def bmi_calculator(bmi):   \n",
    "    if bmi < 18.5:\n",
    "        print('Underweight')\n",
    "    elif  bmi < 25:\n",
    "        print('Normal weight')\n",
    "    elif bmi < 30:\n",
    "        print('Overweight')\n",
    "    else:\n",
    "        print('Obesity')"
   ]
  },
  {
   "cell_type": "code",
   "execution_count": 14,
   "metadata": {},
   "outputs": [
    {
     "name": "stdout",
     "output_type": "stream",
     "text": [
      "Underweight\n"
     ]
    }
   ],
   "source": [
    "# If you construct the function correctly, you should be able to run the below code:\n",
    "\n",
    "bmi_calculator(18)"
   ]
  },
  {
   "cell_type": "code",
   "execution_count": null,
   "metadata": {},
   "outputs": [],
   "source": []
  },
  {
   "cell_type": "code",
   "execution_count": null,
   "metadata": {},
   "outputs": [],
   "source": []
  },
  {
   "cell_type": "code",
   "execution_count": null,
   "metadata": {},
   "outputs": [],
   "source": []
  },
  {
   "cell_type": "code",
   "execution_count": null,
   "metadata": {},
   "outputs": [],
   "source": []
  }
 ],
 "metadata": {
  "kernelspec": {
   "display_name": "Python 3",
   "language": "python",
   "name": "python3"
  },
  "language_info": {
   "codemirror_mode": {
    "name": "ipython",
    "version": 3
   },
   "file_extension": ".py",
   "mimetype": "text/x-python",
   "name": "python",
   "nbconvert_exporter": "python",
   "pygments_lexer": "ipython3",
   "version": "3.8.2"
  }
 },
 "nbformat": 4,
 "nbformat_minor": 4
}
