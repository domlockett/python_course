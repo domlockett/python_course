{
 "cells": [
  {
   "cell_type": "markdown",
   "metadata": {
    "slideshow": {
     "slide_type": "slide"
    }
   },
   "source": [
    "# Welcome to MPH 5976\n",
    "---\n"
   ]
  },
  {
   "cell_type": "markdown",
   "metadata": {
    "slideshow": {
     "slide_type": "slide"
    }
   },
   "source": [
    "\n",
    "## Purpose\n",
    "\n",
    "- Explain the basics of Python as it is used for data analysis\n"
   ]
  },
  {
   "cell_type": "markdown",
   "metadata": {
    "slideshow": {
     "slide_type": "fragment"
    }
   },
   "source": [
    "\n",
    "- Provide an overview of the skills necessary to conduct sufficient analyses in probability and inference.\n"
   ]
  },
  {
   "cell_type": "markdown",
   "metadata": {
    "slideshow": {
     "slide_type": "fragment"
    }
   },
   "source": [
    "\n",
    "- Demonstrate how to calculate basic measures of frequency and association in Python.\n"
   ]
  },
  {
   "cell_type": "markdown",
   "metadata": {
    "slideshow": {
     "slide_type": "fragment"
    }
   },
   "source": [
    "\n",
    "- Demonstrate the appropriate methods to use based on the type of data you are managing for descriptive and inferential interpretation (continuous, categorical, count data).\n"
   ]
  },
  {
   "cell_type": "markdown",
   "metadata": {
    "slideshow": {
     "slide_type": "fragment"
    }
   },
   "source": [
    "\n",
    "- Explain the various methods one can use for inference (linear regression, logit regression, duration models, naive bayes) in the Python environment.\n"
   ]
  },
  {
   "cell_type": "markdown",
   "metadata": {
    "slideshow": {
     "slide_type": "fragment"
    }
   },
   "source": [
    "\n",
    "- Demonstrate how data can be displayed using Python's available plotting tools.\n"
   ]
  },
  {
   "cell_type": "markdown",
   "metadata": {
    "slideshow": {
     "slide_type": "slide"
    }
   },
   "source": [
    "\n",
    "---\n",
    "## About me\n",
    "- Dominique Lockett\n",
    "    - Master's in Political Science from Saint Louis University\n",
    "    - Third Year Political Science PhD student at Washu\n",
    "        \n",
    "        - Major in political methodology and American Politics\n",
    "        \n",
    "            - Focus on experimental methods and causal inference\n",
    "        \n",
    "        - Experience teaching courses focused on data analysis in R\n",
    "    - St. Louis native\n"
   ]
  },
  {
   "cell_type": "markdown",
   "metadata": {
    "slideshow": {
     "slide_type": "slide"
    }
   },
   "source": [
    "---\n",
    "## Online learning\n",
    "\n",
    "- Teaching coding skills remotely is often difficult, however, my previous experience during the Spring gave me some experience with our current online learning accommodations\n",
    "  "
   ]
  },
  {
   "cell_type": "markdown",
   "metadata": {
    "slideshow": {
     "slide_type": "subslide"
    }
   },
   "source": [
    "  \n",
    "### Lectures\n",
    "\n",
    "- All lectures will be pre-recorded.\n",
    "\n",
    "    - While this is self-paced, it is still expected that you review lectures prior to that day's syncronous session. \n",
    "    \n",
    "    \n",
    "- Lectures will be made available on the Canvas course page.\n",
    "\n",
    "- Typically the lectures will last between 60-90 minutes. \n"
   ]
  },
  {
   "cell_type": "markdown",
   "metadata": {
    "slideshow": {
     "slide_type": "subslide"
    }
   },
   "source": [
    "### Lectures\n",
    "\n",
    "- Each days lecture will be split up into multiple sections with an quiz focusing on the section's topic at the end.\n",
    "    - Example: Today's lecture is split up into five videos.\n",
    "        1. This welcome video with no corresoponding activity.\n",
    "        \n",
    "        2. A lecture tells you what software you will need to install.\n",
    "        \n",
    "        3. A lecture/activity to get your course materials set-up on your personal computer/GitHub Desktop.\n",
    "        \n",
    "        4. A lecture/activity to show you how to upload assignments.\n",
    "        \n",
    "        5. A lecture about the basics of Python and a corresponding quiz.\n",
    "\n"
   ]
  },
  {
   "cell_type": "markdown",
   "metadata": {
    "slideshow": {
     "slide_type": "subslide"
    }
   },
   "source": [
    "    \n",
    "### Live sessions\n",
    "\n",
    "- You will need to have [Zoom](https://zoom.us/) installed on your device to participate in the live sessions. \n",
    "\n",
    "\n",
    "- Typically these sessions will be spent discussing the previous day's quiz (due the day after they are assigned by **10am**).\n",
    "    - On the first day we will do introductions and discuss how installations went.\n",
    "    \n",
    "    - These will last no more than 90 minutes; the length of the live meeting will be entirely dependent on your needs as a class. \n",
    "\n",
    "    - These will be part of your participation grade.\n",
    "    \n",
    "    - All lectures will ask you to share questions you have during the lecture with me so that our live time together can be the most productive for everyone in attendance. \n",
    "    \n",
    "- All live sessions will be recorded so that students can review content. Recordings will be posted on the Zoom module of the Canvas course page. \n",
    "\n",
    "---\n"
   ]
  },
  {
   "cell_type": "markdown",
   "metadata": {
    "slideshow": {
     "slide_type": "slide"
    }
   },
   "source": [
    "## Course overview\n",
    "\n",
    "### Class content\n",
    "\n",
    "1:  Setting up your Python environment and exploring the fundamental features of Python.\n"
   ]
  },
  {
   "cell_type": "markdown",
   "metadata": {
    "slideshow": {
     "slide_type": "fragment"
    }
   },
   "source": [
    "2:  Learn some more Python fundamentals; how to read and write files; using the most important Python packages; exploring real data.\n"
   ]
  },
  {
   "cell_type": "markdown",
   "metadata": {
    "slideshow": {
     "slide_type": "fragment"
    }
   },
   "source": [
    "3:  How to merge and group data; pivot; visualizing summary statistics.\n"
   ]
  },
  {
   "cell_type": "markdown",
   "metadata": {
    "slideshow": {
     "slide_type": "fragment"
    }
   },
   "source": [
    "4:  Data analysis using regression and specific data visualization (single-variable, multi-variable, time-series).\n"
   ]
  },
  {
   "cell_type": "markdown",
   "metadata": {
    "slideshow": {
     "slide_type": "fragment"
    }
   },
   "source": [
    "5:  Explore natural language processing and machine learning in Python.\n"
   ]
  },
  {
   "cell_type": "markdown",
   "metadata": {
    "slideshow": {
     "slide_type": "subslide"
    }
   },
   "source": [
    "### Assignments\n",
    "\n",
    "- This course will consist of three factors:\n",
    "\n",
    "    - **1: Participation (20% of Grade)**\n",
    "        \n",
    "        - **Quiz completion (10%)**\n",
    "             - Each day we will have quizzes covering the content of the course. \n",
    "             - When you upload your quiz you will recieve participation credit, regardless of whether you answer any questions correctly.\n",
    "        \n",
    "        - **Live sessions (10%)**\n",
    "            - To make the live sessions as productive as possible, you are required to submit any questions you have about the lecture **prior to the live sessions**.\n",
    "                - On the Canvas course page there is an assignment for each day labeled 'Lecture Questions for Day X'. If you have **any** questions, post them there before 2pm on the day of the live session.\n",
    "            - It is ideal that you are present for each live session. If you are unable to attend please email prior to the scheduled Zoom meeting.\n",
    "            - The length of these sessions vary.\n",
    "            \n",
    " "
   ]
  },
  {
   "cell_type": "markdown",
   "metadata": {
    "slideshow": {
     "slide_type": "subslide"
    }
   },
   "source": [
    " ### Assignments\n",
    "\n",
    "- This course will consist of three factors:\n",
    "\n",
    "   - **2: Quizzes (40% of grade)**\n",
    "\n",
    "        - For each lecture video there is a corresponding quiz.\n",
    "\n",
    "        - Quizzes are available at the same time as the lectures are posted.\n",
    "        \n",
    "        - Quizzes are due by **10am the day after they are distributed**.\n",
    "            - Late submissions will be counted as a zero so be sure you have uploaded your quiz to GitHub prior to the deadline.\n",
    "        \n",
    "        - Students are allowed to look back through the lecture files as well as use internet resources, but students should not collaborate on quizzes.\n",
    "        \n"
   ]
  },
  {
   "cell_type": "markdown",
   "metadata": {
    "slideshow": {
     "slide_type": "subslide"
    }
   },
   "source": [
    " ### Assignments\n",
    "\n",
    "- This course will consist of three factors:\n",
    "\n",
    "   - **3: Final Assignment (40% of grade)**\n",
    "   \n",
    "       - The final assignment will be a problem set which will ask the students to demonstrate the skills they have learned throughout the course.\n",
    "       \n",
    "       - The assignment is open-note, open-web, but each assignment should be completed without collaboration with other students.\n"
   ]
  },
  {
   "cell_type": "markdown",
   "metadata": {
    "slideshow": {
     "slide_type": "slide"
    }
   },
   "source": [
    "\n",
    "## The rest of today's lecture\n",
    "\n",
    "- Getting Started: Python, Jupyter Notebook, and Github\n",
    "\n",
    "    - Where to find the software and how to install it.\n",
    "\n"
   ]
  },
  {
   "cell_type": "markdown",
   "metadata": {
    "slideshow": {
     "slide_type": "fragment"
    }
   },
   "source": [
    "-  Activity 0-0\n",
    "\n",
    "    - Getting your class materials together and how to use JupyterLab and GitHub.\n",
    "\n",
    "\n"
   ]
  },
  {
   "cell_type": "markdown",
   "metadata": {
    "slideshow": {
     "slide_type": "fragment"
    }
   },
   "source": [
    "- Activity 0-1\n",
    "\n",
    "    - A couple of small tasks to illustrate how you will be using JupyterLab and GitHub to turn in your assignments.\n",
    "\n"
   ]
  },
  {
   "cell_type": "markdown",
   "metadata": {
    "slideshow": {
     "slide_type": "fragment"
    }
   },
   "source": [
    "       \n",
    "- Lecture and Quiz 1-1\n",
    "        \n",
    "    - Go over some Python Basics."
   ]
  },
  {
   "cell_type": "code",
   "execution_count": null,
   "metadata": {},
   "outputs": [],
   "source": []
  }
 ],
 "metadata": {
  "celltoolbar": "Slideshow",
  "kernelspec": {
   "display_name": "Python 3",
   "language": "python",
   "name": "python3"
  },
  "language_info": {
   "codemirror_mode": {
    "name": "ipython",
    "version": 3
   },
   "file_extension": ".py",
   "mimetype": "text/x-python",
   "name": "python",
   "nbconvert_exporter": "python",
   "pygments_lexer": "ipython3",
   "version": "3.8.2"
  }
 },
 "nbformat": 4,
 "nbformat_minor": 4
}
