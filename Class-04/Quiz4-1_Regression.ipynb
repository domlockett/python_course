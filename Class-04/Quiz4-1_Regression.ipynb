{
 "cells": [
  {
   "cell_type": "markdown",
   "metadata": {},
   "source": [
    "# Quiz 4.1: Analyzing data\n",
    "- This assignment will closely reflect the lecture, except in this instance we will look at cardiovascular prices in the four cities previously analyzed.\n",
    "\n",
    "- During and/or (necessarily) after you have finished this quiz be sure to commit and push using GitHub Desktop.\n",
    "\n",
    "- Feel free to look back on the lecture/slides and use search engines for help.\n",
    "\n"
   ]
  },
  {
   "cell_type": "markdown",
   "metadata": {},
   "source": [
    "## 1. Load the `cardio.csv`  and the appropriate modules.\n",
    "- Name your main data `cardio`."
   ]
  },
  {
   "cell_type": "code",
   "execution_count": 34,
   "metadata": {},
   "outputs": [],
   "source": [
    "#type your solution to the problem below this line:\n"
   ]
  },
  {
   "cell_type": "markdown",
   "metadata": {},
   "source": [
    "## 2. Remove 'bad' data.\n",
    "- Remove instances where the price is 0 \n",
    "- Be sure to overwrite your `cardio` object.\n",
    "- Display your updated dataframe."
   ]
  },
  {
   "cell_type": "code",
   "execution_count": 35,
   "metadata": {},
   "outputs": [],
   "source": [
    "#type your solution to the problem below this line:\n"
   ]
  },
  {
   "cell_type": "markdown",
   "metadata": {},
   "source": [
    "## 3. Display the distribution of prices across all the data.\n",
    "- Import the `seaborn` and `from scipy import stats, integrate`.\n",
    "- Use the function `distplot` from `sns` to display the distribution of prices.\n"
   ]
  },
  {
   "cell_type": "code",
   "execution_count": 36,
   "metadata": {},
   "outputs": [],
   "source": [
    "#type your solution to the problem below this line:\n"
   ]
  },
  {
   "cell_type": "markdown",
   "metadata": {},
   "source": [
    "## 4. Look at the distribution by city.\n",
    "\n",
    "- Use the `violinplot` function from the `sns` package to look at the distribution by city."
   ]
  },
  {
   "cell_type": "code",
   "execution_count": 37,
   "metadata": {},
   "outputs": [],
   "source": [
    "#type your solution to the problem below this line:\n"
   ]
  },
  {
   "cell_type": "markdown",
   "metadata": {},
   "source": [
    "## 5. Remove outliers.\n",
    "\n",
    "- Subset the data down to only Dallas to see where these extra high numbers are coming from. \n",
    "\n",
    "- Look at the `zip` varialble for the Dallas instances and go to [Clear Health Costs](https://clearhealthcosts.com/) and enter the Dallas zip code, enter cardiovascular in the seach and set it to a 50 mile radius.\n",
    "- Look at the large values and if you think it is appropriate remove them."
   ]
  },
  {
   "cell_type": "code",
   "execution_count": 38,
   "metadata": {},
   "outputs": [],
   "source": [
    "#type your solution to the problem below this line:\n"
   ]
  },
  {
   "cell_type": "code",
   "execution_count": 39,
   "metadata": {},
   "outputs": [],
   "source": [
    "#type your solution to the problem below this line:\n"
   ]
  },
  {
   "cell_type": "markdown",
   "metadata": {},
   "source": [
    "## 6. Have another look at the distribution by city.\n",
    "\n",
    "- If you removed any outliers, look use the `violinplot` attribute of `sns` to look at the data distributed by city once again.\n",
    "- If the data is still largely skewed, look at Dallas and the other three cities seperately"
   ]
  },
  {
   "cell_type": "code",
   "execution_count": 40,
   "metadata": {},
   "outputs": [],
   "source": [
    "#type your solution to the problem below this line:\n"
   ]
  },
  {
   "cell_type": "code",
   "execution_count": 41,
   "metadata": {},
   "outputs": [],
   "source": [
    "#type your solution to the problem below this line:\n"
   ]
  },
  {
   "cell_type": "code",
   "execution_count": 42,
   "metadata": {},
   "outputs": [],
   "source": [
    "#type your solution to the problem below this line:\n"
   ]
  },
  {
   "cell_type": "markdown",
   "metadata": {},
   "source": [
    "## 7. Run a linear regression.\n",
    "- Make sure you have loaded the `statsmodel` package.\n",
    "- Run a linear regression where the reference category is Dallas."
   ]
  },
  {
   "cell_type": "code",
   "execution_count": 43,
   "metadata": {},
   "outputs": [],
   "source": [
    "#type your solution to the problem below this line:\n"
   ]
  },
  {
   "cell_type": "markdown",
   "metadata": {},
   "source": [
    "## 8. Plot your findings.\n",
    "\n",
    "- Use the `catplot` attribute of the `seaborn` package to look at the data."
   ]
  },
  {
   "cell_type": "code",
   "execution_count": 45,
   "metadata": {},
   "outputs": [],
   "source": [
    "#type your solution to the problem below this line:\n"
   ]
  },
  {
   "cell_type": "code",
   "execution_count": null,
   "metadata": {},
   "outputs": [],
   "source": []
  }
 ],
 "metadata": {
  "kernelspec": {
   "display_name": "Python 3",
   "language": "python",
   "name": "python3"
  },
  "language_info": {
   "codemirror_mode": {
    "name": "ipython",
    "version": 3
   },
   "file_extension": ".py",
   "mimetype": "text/x-python",
   "name": "python",
   "nbconvert_exporter": "python",
   "pygments_lexer": "ipython3",
   "version": "3.8.2"
  }
 },
 "nbformat": 4,
 "nbformat_minor": 4
}
