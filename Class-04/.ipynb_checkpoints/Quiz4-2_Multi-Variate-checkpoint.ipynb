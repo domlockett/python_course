{
 "cells": [
  {
   "cell_type": "markdown",
   "metadata": {},
   "source": [
    "# Quiz 4.2: Multivariate regression\n",
    "- This assignment will closely reflect the lecture, except in this instance we will look at cardiovascular prices in the four cities previously analyzed.\n",
    "\n",
    "- During and/or (necessarily) after you have finished this quiz be sure to commit and push using GitHub Desktop.\n",
    "\n",
    "- Feel free to look back on the lecture/slides and use search engines for help.\n"
   ]
  },
  {
   "cell_type": "markdown",
   "metadata": {},
   "source": [
    "## 1. Adding information to our data\n",
    "\n",
    "- Import the relevant packages.\n",
    "- Import the `cardio.csv` file and name the dataframe `cardio`\n",
    "- Import the `facility_demos_cardio.csv` file and name it demos.\n",
    "- Add the demographics of the facility's zip code.\n",
    "- The `facility_demos` file contains the following variables:\n",
    "    - **population** = Total population in the zip code of the clinic.\n",
    "    - **pct_middle_aged** = Percent of total population 45- 64 years in the zip code of the clinic.\n",
    "    - **pct_senior** = Percent of total population 65 years and over in the zip code of the clinic.\n",
    "    - **pct_male** = Percent male population in the zip code of the clinic.\n",
    "    - **pct_white** = Percent white in the zip code of the clinic.\n",
    "    - **pct_black** =  Percent black or African American in the zip code of the clinic.\n",
    "    - **pct_non_rel** = Percent in households with nonrelatives in the zip code of the clinic.\n",
    "    - **pct_vacant** = Percent vacant housing units in the zip code of the clinic.\n",
    "- Merge the two datasets and name this new dataframe `cardio2`.\n",
    "- Display your new datset."
   ]
  },
  {
   "cell_type": "code",
   "execution_count": 26,
   "metadata": {},
   "outputs": [],
   "source": [
    "#type your solution to the problem below this line:\n"
   ]
  },
  {
   "cell_type": "markdown",
   "metadata": {},
   "source": [
    "## 2. Remove 'bad' data.\n",
    "- Remove instances where the price is 0 \n",
    "- Be sure to overwrite your `cardio` object.\n",
    "- Display your updated dataframe."
   ]
  },
  {
   "cell_type": "code",
   "execution_count": 27,
   "metadata": {},
   "outputs": [],
   "source": [
    "#type your solution to the problem below this line:\n"
   ]
  },
  {
   "cell_type": "markdown",
   "metadata": {},
   "source": [
    "## 3. Explore the new data.\n",
    "- Import the `seaborn` package.\n",
    "- Use the `distplot` attribute of the `seaborn` package to look at the distribution of the population."
   ]
  },
  {
   "cell_type": "code",
   "execution_count": 28,
   "metadata": {},
   "outputs": [],
   "source": [
    "#type your solution to the problem below this line:\n"
   ]
  },
  {
   "cell_type": "markdown",
   "metadata": {},
   "source": [
    "## 4. Explore the new data.\n",
    "\n",
    "- Use the `distplot` attribute of the `seaborn` package to look at the distribution of the `pct_middle_aged`."
   ]
  },
  {
   "cell_type": "code",
   "execution_count": 29,
   "metadata": {},
   "outputs": [],
   "source": [
    "#type your solution to the problem below this line:\n"
   ]
  },
  {
   "cell_type": "markdown",
   "metadata": {},
   "source": [
    "## 5. Look at regression plot\n",
    "\n",
    "- Use the `lmplot` attribute of `sns` to explore how the percentage of the population which are senior citizens impacts the prices of cardiovascular healthcare. "
   ]
  },
  {
   "cell_type": "code",
   "execution_count": 30,
   "metadata": {},
   "outputs": [],
   "source": [
    "#type your solution to the problem below this line:\n"
   ]
  },
  {
   "cell_type": "markdown",
   "metadata": {},
   "source": [
    "## 6. Run your multivariate regression\n",
    "- Load in the appropriate \n",
    "- Using whichever variables you feel would be most suited for this analysis, run a regression.\n",
    "- *Hint: you can use the call `list(cardio2.columns)` to look at all of your variables.*"
   ]
  },
  {
   "cell_type": "code",
   "execution_count": 31,
   "metadata": {},
   "outputs": [],
   "source": [
    "#type your solution to the problem below this line:\n"
   ]
  }
 ],
 "metadata": {
  "kernelspec": {
   "display_name": "Python 3",
   "language": "python",
   "name": "python3"
  },
  "language_info": {
   "codemirror_mode": {
    "name": "ipython",
    "version": 3
   },
   "file_extension": ".py",
   "mimetype": "text/x-python",
   "name": "python",
   "nbconvert_exporter": "python",
   "pygments_lexer": "ipython3",
   "version": "3.8.2"
  }
 },
 "nbformat": 4,
 "nbformat_minor": 4
}
