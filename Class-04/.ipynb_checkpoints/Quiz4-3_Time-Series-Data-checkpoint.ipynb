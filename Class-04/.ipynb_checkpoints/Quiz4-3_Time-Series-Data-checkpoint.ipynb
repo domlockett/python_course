{
 "cells": [
  {
   "cell_type": "markdown",
   "metadata": {},
   "source": [
    "# Quiz 4.3: Time-Series data\n",
    "\n",
    "- In this quiz we will look at data from the [CDC](https://gis.cdc.gov/grasp/COVIDNet/COVID19_3.html) about Covid-19 hospitalizations.\n",
    "\n",
    "    - The data shows several weeks of reported hospital admissions data related to Covid-19 including cumulative and rate data.\n",
    "    \n",
    "\n",
    "- During and/or (necessarily) after you have finished this quiz be sure to commit and push using GitHub Desktop.\n",
    "\n",
    "- Feel free to look back on the lecture/slides and use search engines for help.\n",
    "\n"
   ]
  },
  {
   "cell_type": "markdown",
   "metadata": {},
   "source": [
    "## 1. Load the data and packages.\n",
    "\n",
    "- Load in the commonly used packages.\n",
    "- Load in the data `covid19.csv` and name the dataframe `covid`"
   ]
  },
  {
   "cell_type": "code",
   "execution_count": 18,
   "metadata": {},
   "outputs": [],
   "source": [
    "#type your solution to the problem below this line:\n"
   ]
  },
  {
   "cell_type": "markdown",
   "metadata": {},
   "source": [
    "## 2. Plot the average.\n",
    "\n",
    "- Use the group by attribute of your data frame and group the data by week.\n",
    "- Use the `mean` attribute of the group by function.\n",
    "- Finally, use the run `.plot` after your other to attribute calls. \n",
    "    - Use the `-` style to display a line graph."
   ]
  },
  {
   "cell_type": "code",
   "execution_count": 19,
   "metadata": {},
   "outputs": [],
   "source": [
    "#type your solution to the problem below this line:\n"
   ]
  },
  {
   "cell_type": "markdown",
   "metadata": {},
   "source": [
    "## 3. Plot by city\n",
    "\n",
    "- Use the `pivot_table` attribute on your `covid` dataframe\n",
    "    - Run the following options in the parentheses of `pivot_table()` `index = 'week', columns = 'city' , values = 'cumlative'`\n",
    "    - Then run `.plot()` after your `pivot_table()` call."
   ]
  },
  {
   "cell_type": "code",
   "execution_count": 20,
   "metadata": {},
   "outputs": [],
   "source": [
    "#type your solution to the problem below this line:\n",
    "\n"
   ]
  }
 ],
 "metadata": {
  "kernelspec": {
   "display_name": "Python 3",
   "language": "python",
   "name": "python3"
  },
  "language_info": {
   "codemirror_mode": {
    "name": "ipython",
    "version": 3
   },
   "file_extension": ".py",
   "mimetype": "text/x-python",
   "name": "python",
   "nbconvert_exporter": "python",
   "pygments_lexer": "ipython3",
   "version": "3.8.2"
  }
 },
 "nbformat": 4,
 "nbformat_minor": 4
}
