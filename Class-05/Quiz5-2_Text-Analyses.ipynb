{
 "cells": [
  {
   "cell_type": "markdown",
   "metadata": {},
   "source": [
    "# Quiz 5.2: Text analyses\n",
    "\n",
    "- In this quiz we will go over text analysis, however, this time we will look at CNN data provided by  [UC Irvince's](https://archive.ics.uci.edu/ml/index.php) machine learning repository.\n",
    "    \n",
    "- During and/or (necessarily) after you have finished this quiz be sure to commit and push using GitHub Desktop.\n",
    "\n",
    "- Feel free to look back on the lecture/slides and use search engines for help.\n"
   ]
  },
  {
   "cell_type": "markdown",
   "metadata": {},
   "source": [
    "## 1. Load your data and our basic modules\n",
    "- Load the `cnnhealth.csv` file. \n",
    "- Save as variable `cnn`.\n",
    "- Display your dataframe.\n",
    "- **Notice how the column names are different because we loaded a `.csv` file.**"
   ]
  },
  {
   "cell_type": "code",
   "execution_count": 36,
   "metadata": {},
   "outputs": [],
   "source": [
    "#type your solution to the problem below this line:\n"
   ]
  },
  {
   "cell_type": "markdown",
   "metadata": {},
   "source": [
    "## 2. Change the names of your columns to meaningful titles.\n",
    "\n",
    "- You will want to name `Column3` `tweet` for the next step.\n",
    "- Display your updated dataframe."
   ]
  },
  {
   "cell_type": "code",
   "execution_count": 37,
   "metadata": {},
   "outputs": [],
   "source": [
    "#type your solution to the problem below this line:\n"
   ]
  },
  {
   "cell_type": "markdown",
   "metadata": {},
   "source": [
    "## 3. Preprocess the data.\n",
    "- Use the code chunk from the lecture where we run it all together.\n",
    "- Delete the section where the data is loaded in again\n",
    "    - *Hint: You can change all the `cnn` instances to `cnn` by pressing `control (command) F`, typing in `cnn`, hit the arrow to the left of your `b`, type `cnn` into the replace box, hit `Replace All`.*\n",
    "- Notice how our `preprocessor` (from `pip install tweet-preprocessor`) handles our RT's and @'s."
   ]
  },
  {
   "cell_type": "code",
   "execution_count": 38,
   "metadata": {},
   "outputs": [],
   "source": [
    "#type your solution to the problem below this line:\n"
   ]
  },
  {
   "cell_type": "markdown",
   "metadata": {},
   "source": [
    "## 4. Analyze the data.\n",
    "- Make the two small functions from `textblob` that run the `sentiment.subjectivity` and `sentiment.polarity` attributes.\n",
    "- Use the apply function to make two new columns.\n",
    "- Display your updated dataframe."
   ]
  },
  {
   "cell_type": "code",
   "execution_count": 39,
   "metadata": {},
   "outputs": [],
   "source": [
    "#type your solution to the problem below this line:\n"
   ]
  },
  {
   "cell_type": "markdown",
   "metadata": {},
   "source": [
    "## 5. Analyze the Polarity data.\n",
    "\n",
    "- Use the function `getAnalysis` from the lecture to make the `Polarity` variable meaningful.\n",
    "- Update your dataframe and add a new column `Analysis`. \n",
    "- Display your updated dataframe."
   ]
  },
  {
   "cell_type": "code",
   "execution_count": 40,
   "metadata": {},
   "outputs": [],
   "source": [
    "#type your solution to the problem below this line:\n"
   ]
  },
  {
   "cell_type": "markdown",
   "metadata": {},
   "source": [
    "## 6. Make a wordcloud\n",
    "- Visualize your dataframe."
   ]
  },
  {
   "cell_type": "code",
   "execution_count": 41,
   "metadata": {},
   "outputs": [],
   "source": [
    "#type your solution to the problem below this line:\n"
   ]
  }
 ],
 "metadata": {
  "kernelspec": {
   "display_name": "Python 3",
   "language": "python",
   "name": "python3"
  },
  "language_info": {
   "codemirror_mode": {
    "name": "ipython",
    "version": 3
   },
   "file_extension": ".py",
   "mimetype": "text/x-python",
   "name": "python",
   "nbconvert_exporter": "python",
   "pygments_lexer": "ipython3",
   "version": "3.9.2"
  }
 },
 "nbformat": 4,
 "nbformat_minor": 4
}
